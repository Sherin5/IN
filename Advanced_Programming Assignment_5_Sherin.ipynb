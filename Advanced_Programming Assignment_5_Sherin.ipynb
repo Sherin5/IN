{
 "cells": [
  {
   "cell_type": "markdown",
   "id": "14bee87e",
   "metadata": {},
   "source": [
    "### Q1: Create a function that takes a number n (integer greater than zero) as an argument, and returns 2 if n is odd and 8 if n is even.\n",
    "You can only use the following arithmetic operators: addition of numbers +,\n",
    "subtraction of numbers -, multiplication of number *, division of number /, and\n",
    "exponentiation **.\n",
    "You are not allowed to use any other methods in this challenge (i.e. no if\n",
    "statements, comparison operators, etc)."
   ]
  },
  {
   "cell_type": "code",
   "execution_count": 26,
   "id": "7840728d",
   "metadata": {},
   "outputs": [
    {
     "name": "stdout",
     "output_type": "stream",
     "text": [
      " Please enter an integer greater than zero : 7\n"
     ]
    },
    {
     "data": {
      "text/plain": [
       "2"
      ]
     },
     "execution_count": 26,
     "metadata": {},
     "output_type": "execute_result"
    }
   ],
   "source": [
    "## Solution:\n",
    "inp = int(input(\" Please enter an integer greater than zero : \"))\n",
    "\n",
    " \n",
    "def odd_even(x):\n",
    "    \"\"\"\n",
    "    This functon returns 2 if the entered integer is odd and 8 if the entered integer is even\n",
    "    \"\"\"\n",
    "    a= 1\n",
    "        \n",
    "    try:\n",
    "        b = int(x/2)\n",
    "        a/((b*2)- x)\n",
    "        return 2\n",
    "    except:\n",
    "        print(8)\n",
    "\n",
    "odd_even(inp)\n"
   ]
  },
  {
   "cell_type": "markdown",
   "id": "5256905f",
   "metadata": {},
   "source": [
    "### Q2: Create a function that returns the majority vote in a list. A majority vote is an element that occurs &gt; N/2 times in a list (where N is the length of the list)."
   ]
  },
  {
   "cell_type": "code",
   "execution_count": 5,
   "id": "69deb3f0",
   "metadata": {},
   "outputs": [
    {
     "name": "stdout",
     "output_type": "stream",
     "text": [
      " Enter the number of elements in the list : 3\n",
      " Please enter the element : a\n",
      " Please enter the element : b\n",
      " Please enter the element : c\n"
     ]
    },
    {
     "data": {
      "text/plain": [
       "'None'"
      ]
     },
     "execution_count": 5,
     "metadata": {},
     "output_type": "execute_result"
    }
   ],
   "source": [
    "## Solution:\n",
    "inp = int(input(\" Enter the number of elements in the list : \"))\n",
    "\n",
    "l = []\n",
    "for i in range(inp):\n",
    "    inp1 = input(\" Please enter the element : \")\n",
    "    l.append(inp1)\n",
    "\n",
    "def majority_vote(x):\n",
    "    y = int(len(x)/2)\n",
    "    for j in x:\n",
    "        if x.count(j) > y:\n",
    "            return j\n",
    "    else:\n",
    "        return \"None\"\n",
    "            \n",
    "majority_vote(l)\n",
    "    \n",
    "\n"
   ]
  },
  {
   "cell_type": "markdown",
   "id": "eb2149e6",
   "metadata": {},
   "source": [
    "### Q3: Create a function that takes a string txt and censors any word from a given list lst. The text removed must be replaced by the given character char."
   ]
  },
  {
   "cell_type": "code",
   "execution_count": 90,
   "id": "1ff1d18a",
   "metadata": {},
   "outputs": [
    {
     "data": {
      "text/plain": [
       "'  ***** is * Wednesday! '"
      ]
     },
     "execution_count": 90,
     "metadata": {},
     "output_type": "execute_result"
    }
   ],
   "source": [
    "## Solution:\n",
    "\n",
    "def censor_string(a,b,c):\n",
    "    s = a.split(\" \")\n",
    "    f=''\n",
    "    k = 1\n",
    "    for i in s:\n",
    "        if i in b:\n",
    "            for j in i:\n",
    "                f=f+c\n",
    "                k+=1\n",
    "            f=' '+ f\n",
    "        else:\n",
    "            f=f + \" \"+ i + ' '\n",
    "    return f\n",
    "    \n",
    "censor_string(\"Today is a Wednesday!\",['Today', 'a'],'*' )"
   ]
  },
  {
   "cell_type": "markdown",
   "id": "e7eec01b",
   "metadata": {},
   "source": [
    "### Q4: In mathematics a Polydivisible Number (or magic number) is a number in a given number base with digits abcde... that has the following properties:\n",
    "- Its first digit a is not 0.\n",
    "- The number formed by its first two digits ab is a multiple of 2.\n",
    "- The number formed by its first three digits abc is a multiple of 3.\n",
    "- The number formed by its first four digits abcd is a multiple of 4.\n",
    "\n",
    "Create a function which takes an integer n and returns True if the given\n",
    "number is a Polydivisible Number and False otherwise."
   ]
  },
  {
   "cell_type": "code",
   "execution_count": 51,
   "id": "432b7b16",
   "metadata": {},
   "outputs": [
    {
     "name": "stdout",
     "output_type": "stream",
     "text": [
      " Please enter the integer to check if its polydivisible : 123220\n"
     ]
    },
    {
     "data": {
      "text/plain": [
       "False"
      ]
     },
     "execution_count": 51,
     "metadata": {},
     "output_type": "execute_result"
    }
   ],
   "source": [
    "## Solution:\n",
    "\n",
    "inp = input(\" Please enter the integer to check if its polydivisible : \")\n",
    "\n",
    "def polydiv(x):\n",
    "    if x[0]== '0':\n",
    "        return False\n",
    "    l=2\n",
    "    for i in range(1,len(x)):\n",
    "        k = x[:i+1]\n",
    "        k = int(k)\n",
    "        if k%l==0:\n",
    "            l+=1\n",
    "            continue  \n",
    "        else:\n",
    "            return False\n",
    "    else:\n",
    "        return True\n",
    "        \n",
    "        \n",
    "polydiv(inp)\n",
    "        "
   ]
  },
  {
   "cell_type": "markdown",
   "id": "002b4f56",
   "metadata": {},
   "source": [
    "### Q5: Create a function that takes a list of numbers and returns the sum of all prime numbers in the list."
   ]
  },
  {
   "cell_type": "code",
   "execution_count": 39,
   "id": "dfefdef9",
   "metadata": {},
   "outputs": [
    {
     "name": "stdout",
     "output_type": "stream",
     "text": [
      " Please enter the numbers separated by comma : 2,3,4,11,20,50,71\n"
     ]
    },
    {
     "data": {
      "text/plain": [
       "87"
      ]
     },
     "execution_count": 39,
     "metadata": {},
     "output_type": "execute_result"
    }
   ],
   "source": [
    "## Solution:\n",
    "\n",
    "inp = input(\" Please enter the numbers separated by comma : \")\n",
    "\n",
    "try:\n",
    "    l = inp.split(',')\n",
    "    \n",
    "    def prime_sum(x):\n",
    "        k = []\n",
    "        for i in x:\n",
    "            try:\n",
    "                \n",
    "                if int(i)==1:\n",
    "                    continue\n",
    "                for j in range(2,int(i)):\n",
    "                    if int(i)%j==0:\n",
    "                        break\n",
    "                else:\n",
    "                    k.append(int(i))\n",
    "            except:\n",
    "                print(\"None\")\n",
    "        su = 0\n",
    "        for b in k:\n",
    "            su = su+b\n",
    "        return su\n",
    "except:\n",
    "    print(\"None\") \n",
    "prime_sum(l)"
   ]
  }
 ],
 "metadata": {
  "kernelspec": {
   "display_name": "Python 3 (ipykernel)",
   "language": "python",
   "name": "python3"
  },
  "language_info": {
   "codemirror_mode": {
    "name": "ipython",
    "version": 3
   },
   "file_extension": ".py",
   "mimetype": "text/x-python",
   "name": "python",
   "nbconvert_exporter": "python",
   "pygments_lexer": "ipython3",
   "version": "3.8.8"
  }
 },
 "nbformat": 4,
 "nbformat_minor": 5
}
