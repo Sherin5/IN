{
 "cells": [
  {
   "cell_type": "markdown",
   "id": "2eab2c53",
   "metadata": {},
   "source": [
    "### Q1: Create a function to perform basic arithmetic operations that includes addition, subtraction, multiplication and division on a string number (e.g. &quot;12 + 24&quot; or &quot;23 - 21&quot; or &quot;12 // 12&quot; or &quot;12 * 21&quot;).\n",
    "\n",
    "Here, we have 1 followed by a space, operator followed by another space\n",
    "and 2. For the challenge, we are going to have only two numbers between 1\n",
    "valid operator. The return value should be a number.\n",
    "\n",
    "eval() is not allowed. In case of division, whenever the second number equals\n",
    "&quot;0&quot; return -1.\n",
    "\n"
   ]
  },
  {
   "cell_type": "code",
   "execution_count": 18,
   "id": "401b451a",
   "metadata": {},
   "outputs": [
    {
     "name": "stdout",
     "output_type": "stream",
     "text": [
      " Please enter the expression with space in between : 12 / 0\n"
     ]
    },
    {
     "data": {
      "text/plain": [
       "-1"
      ]
     },
     "execution_count": 18,
     "metadata": {},
     "output_type": "execute_result"
    }
   ],
   "source": [
    "## Solution:\n",
    "inp = input(\" Please enter the expression with space in between : \").split()\n",
    "\n",
    "def operate(a):\n",
    "    \"\"\"\n",
    "    This function takes in a mathematical expression as an input and return output\n",
    "    \"\"\"\n",
    "    d1 = {'+': operator.add, '-': operator.sub, '//': operator.floordiv, '*':operator.mul, '/':operator.truediv}\n",
    "    if a[1] in d1:\n",
    "        try:\n",
    "            \n",
    "            result = d1[a[1]](int(a[0]), int(a[2]))\n",
    "            return result\n",
    "        except ZeroDivisionError:\n",
    "            return -1\n",
    "    else:\n",
    "        return \" Please enter a valid operator \"\n",
    "    \n",
    "operate(inp)"
   ]
  },
  {
   "cell_type": "markdown",
   "id": "c0917007",
   "metadata": {},
   "source": [
    "### Q2: Write a function that takes the coordinates of three points in the form of a 2d array and returns the perimeter of the triangle. The given points are the vertices of a triangle on a two-dimensional plane."
   ]
  },
  {
   "cell_type": "code",
   "execution_count": 25,
   "id": "68aedb96",
   "metadata": {
    "scrolled": true
   },
   "outputs": [
    {
     "name": "stdout",
     "output_type": "stream",
     "text": [
      " Please enter the coordinates as three lists : [[0,0],[0,1],[1,0]]\n"
     ]
    },
    {
     "data": {
      "text/plain": [
       "3.414213562373095"
      ]
     },
     "execution_count": 25,
     "metadata": {},
     "output_type": "execute_result"
    }
   ],
   "source": [
    "## Solution:\n",
    "\n",
    "inp = eval(input(\" Please enter the coordinates as three lists : \"))\n",
    "import math\n",
    "\n",
    "def perimete(a):\n",
    "    \"\"\"\n",
    "    This function takes in coordinates of a triangle as lists and computes the perimter of the triangle\n",
    "    \"\"\"\n",
    "    x=[]\n",
    "    y=[]\n",
    "    fin = 0\n",
    "    for i in a:\n",
    "        x.append(i[0])\n",
    "        y.append(i[1])\n",
    "        \n",
    "    for j in range(len(x)-1,-1,-1):\n",
    "        \n",
    "        fin = fin + ( ((x[j]-x[j-1])**2)+((y[j]-y[j-1])**2))**0.5   \n",
    "    return fin\n",
    "\n",
    "perimete(inp)\n",
    "        \n",
    "    "
   ]
  },
  {
   "cell_type": "markdown",
   "id": "5e13821a",
   "metadata": {},
   "source": [
    "### Q3: A city skyline can be represented as a 2-D list with 1s representing buildings. In the example below, the height of the tallest building is 4 (second- most right column).\n",
    "\n",
    "#### [[0, 0, 0, 0, 0, 0],\n",
    "#### [0, 0, 0, 0, 1, 0],\n",
    "#### [0, 0, 1, 0, 1, 0],\n",
    "#### [0, 1, 1, 1, 1, 0],\n",
    "\n",
    "#### [1, 1, 1, 1, 1, 1]]\n",
    "\n",
    "Create a function that takes a skyline (2-D list of 0&#39;s and 1&#39;s) and returns the\n",
    "height of the tallest skyscraper."
   ]
  },
  {
   "cell_type": "code",
   "execution_count": 26,
   "id": "a8b51914",
   "metadata": {},
   "outputs": [
    {
     "name": "stdout",
     "output_type": "stream",
     "text": [
      " Please enter the list : [ [0, 0, 0, 0], [0, 1, 0, 0], [0, 1, 1, 0], [1, 1, 1, 1] ]\n"
     ]
    },
    {
     "data": {
      "text/plain": [
       "3"
      ]
     },
     "execution_count": 26,
     "metadata": {},
     "output_type": "execute_result"
    }
   ],
   "source": [
    "## Solution:\n",
    "\n",
    "inp = eval(input(\" Please enter the list : \"))\n",
    "import statistics\n",
    "\n",
    "def sky_scraper(a):\n",
    "    \"\"\"\n",
    "    This function takes in multiple lists as input and calculates the highest numbers of floors based on 1's in the list\n",
    "    \"\"\"\n",
    "    l=[]\n",
    "    for i in a:\n",
    "        for j in range(len(i)):\n",
    "            if i[j]==1:\n",
    "                l.append(j)     \n",
    "    s = statistics.mode(l)\n",
    "    return l.count(s)\n",
    "\n",
    "sky_scraper(inp)  "
   ]
  },
  {
   "cell_type": "markdown",
   "id": "5d731327",
   "metadata": {},
   "source": [
    "### Q4: A financial institution provides professional services to banks and claims charges from the customers based on the number of man-days provided. Internally, it has set a scheme to motivate and reward staff to meet and exceed targeted billable utilization and revenues by paying a bonus for each day claimed from customers in excess of a threshold target.\n",
    "\n",
    "#### This quarterly scheme is calculated with a threshold target of 32 days per #### quarter, and the incentive payment for each billable day in excess of such #### threshold target is shown as follows:\n",
    "#### Days Bonus\n",
    "#### 0 to 32 days Zero\n",
    "#### 33 to 40 days SGD 325 per billable day\n",
    "#### 41 to 48 days SGD 550 per billable day\n",
    "#### Greater than 48 days SGD 600 per billable day\n",
    "\n",
    "Please note that incentive payment is calculated progressively. As an\n",
    "example, if an employee reached total billable days of 45 in a quarter, his/her\n",
    "incentive payment is computed as follows:\n",
    "32 * 0 + 8 * 325 + 5 * 550 = 5350\n",
    "Write a function to read the billable days of an employee and return the bonus\n",
    "he/she has obtained in that quarter."
   ]
  },
  {
   "cell_type": "code",
   "execution_count": 6,
   "id": "ec554b7f",
   "metadata": {},
   "outputs": [
    {
     "name": "stdout",
     "output_type": "stream",
     "text": [
      " Please enter the total number of days worked : 50\n"
     ]
    },
    {
     "data": {
      "text/plain": [
       "8200"
      ]
     },
     "execution_count": 6,
     "metadata": {},
     "output_type": "execute_result"
    }
   ],
   "source": [
    "## Solution:\n",
    "\n",
    "inp = eval(input(\" Please enter the total number of days worked : \"))\n",
    "\n",
    "def bonus(a):\n",
    "    \"\"\"\n",
    "    This function takes in number of days worked to calculate the bonus \n",
    "    \"\"\"\n",
    "    fin = max(0,a-48)*600 + min(8, max(0,a-40))*550 + min(8, max(0,a-32))*325\n",
    "    \n",
    "    return fin\n",
    "\n",
    "bonus(inp)"
   ]
  },
  {
   "cell_type": "markdown",
   "id": "d77f5c8f",
   "metadata": {},
   "source": [
    "### Q5: A number is said to be Disarium if the sum of its digits raised to their respective positions is the number itself.\n",
    "Create a function that determines whether a number is a Disarium or not."
   ]
  },
  {
   "cell_type": "code",
   "execution_count": 16,
   "id": "79945fbc",
   "metadata": {},
   "outputs": [
    {
     "name": "stdout",
     "output_type": "stream",
     "text": [
      " Please enter a number to check if its a Disarium : 135\n"
     ]
    },
    {
     "data": {
      "text/plain": [
       "True"
      ]
     },
     "execution_count": 16,
     "metadata": {},
     "output_type": "execute_result"
    }
   ],
   "source": [
    "## Solution:\n",
    "\n",
    "inp = input(\" Please enter a number to check if its a Disarium : \")\n",
    "\n",
    "def disarium(a):\n",
    "    \"\"\"\n",
    "    This function takes a number as an input and returns True if its a disarium number else it return False\n",
    "    \"\"\"\n",
    "    cn = 1\n",
    "    fin = 0\n",
    "    for i in a:\n",
    "        fin = fin +int(i)**cn\n",
    "        cn+=1\n",
    "    if fin == int(a):\n",
    "        return True\n",
    "    else:\n",
    "        return False\n",
    "    \n",
    "disarium(inp)"
   ]
  }
 ],
 "metadata": {
  "kernelspec": {
   "display_name": "Python 3 (ipykernel)",
   "language": "python",
   "name": "python3"
  },
  "language_info": {
   "codemirror_mode": {
    "name": "ipython",
    "version": 3
   },
   "file_extension": ".py",
   "mimetype": "text/x-python",
   "name": "python",
   "nbconvert_exporter": "python",
   "pygments_lexer": "ipython3",
   "version": "3.8.8"
  }
 },
 "nbformat": 4,
 "nbformat_minor": 5
}
