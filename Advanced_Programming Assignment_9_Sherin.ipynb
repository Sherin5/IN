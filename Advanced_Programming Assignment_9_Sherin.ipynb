{
 "cells": [
  {
   "cell_type": "markdown",
   "id": "2d8adb8f",
   "metadata": {},
   "source": [
    "### Q1: YouTube offers different playback speed options for users. This allows users to increase or decrease the speed of the video content. Given the actual duration and playback speed of the video, calculate the playback duration of the video."
   ]
  },
  {
   "cell_type": "code",
   "execution_count": 26,
   "id": "55e18508",
   "metadata": {},
   "outputs": [
    {
     "name": "stdout",
     "output_type": "stream",
     "text": [
      " Please enter the duration of the video and the playback speed separated by comma : 01:20:00, 1.5\n"
     ]
    },
    {
     "data": {
      "text/plain": [
       "'00:53:20'"
      ]
     },
     "execution_count": 26,
     "metadata": {},
     "output_type": "execute_result"
    }
   ],
   "source": [
    "## Solution:\n",
    "\n",
    "inp = input(\" Please enter the duration of the video and the playback speed separated by comma : \").split(\",\")\n",
    "\n",
    "def playback(a):\n",
    "    \"\"\"\n",
    "    This function takes in the duration and playback speed and outputs the time taken to finish the video\n",
    "    \"\"\"\n",
    "    st=\"\"\n",
    "    (h,m,s) = a[0].split(\":\")\n",
    "    sec = int(h)*3600+ int(m)*60+ int(s)\n",
    "    dur = sec/float(a[1])\n",
    "    finh = max(0, int(dur/3600))\n",
    "    finm = max(0,int((dur - (finh*3600))/60))\n",
    "    fins = max(0,int((dur -finh*3600 - finm*60 )))\n",
    "    st = st+str(finh).zfill(2)+\":\"+str(finm).zfill(2)+\":\"+str(fins).zfill(2)\n",
    "    return st \n",
    "\n",
    "playback(inp)"
   ]
  },
  {
   "cell_type": "markdown",
   "id": "d697f1dc",
   "metadata": {},
   "source": [
    "### Q2: We needs your help to construct a building which will be a pile of n cubes. The cube at the bottom will have a volume of n^3, the cube above will have volume of (n-1)^3 and so on until the top which will have a volume of 1^3.\n",
    "\n",
    "Given the total volume m of the building, can you find the number of cubes n required for the building?\n",
    "In other words, you have to return an integer n such that:\n",
    "n^3 + (n-1)^3 + ... + 1^3 == m\n",
    "Return None if there is no such number."
   ]
  },
  {
   "cell_type": "code",
   "execution_count": 9,
   "id": "5d6167a0",
   "metadata": {},
   "outputs": [
    {
     "name": "stdout",
     "output_type": "stream",
     "text": [
      " Please enter the volume of the building : 4183059834009\n"
     ]
    },
    {
     "data": {
      "text/plain": [
       "2022"
      ]
     },
     "execution_count": 9,
     "metadata": {},
     "output_type": "execute_result"
    }
   ],
   "source": [
    "## Solution:\n",
    "\n",
    "inp = eval(input(\" Please enter the volume of the building : \"))\n",
    "\n",
    "def cubes(a):\n",
    "    \"\"\"\n",
    "    This function returns the number of cubes required for a building\n",
    "    \"\"\"\n",
    "    s = 0\n",
    "    for i in range(1,int(a**(1/2))):\n",
    "        s = s+i**3\n",
    "        if s > a:\n",
    "            return \"None\"\n",
    "        elif s==a:\n",
    "            return i\n",
    "cubes(inp)"
   ]
  },
  {
   "cell_type": "markdown",
   "id": "4f1b6d5e",
   "metadata": {},
   "source": [
    "### Q3: A fulcrum of a list is an integer such that all elements to the left of it and all elements to the right of it sum to the same value. Write a function that finds the fulcrum of a list."
   ]
  },
  {
   "cell_type": "code",
   "execution_count": 17,
   "id": "36c04f4b",
   "metadata": {},
   "outputs": [
    {
     "name": "stdout",
     "output_type": "stream",
     "text": [
      " Please enter the list that you want to check the fulcrum for : [1, 2, 4, 9, 10, -10, -9, 3]\n"
     ]
    },
    {
     "data": {
      "text/plain": [
       "4"
      ]
     },
     "execution_count": 17,
     "metadata": {},
     "output_type": "execute_result"
    }
   ],
   "source": [
    "## Solution:\n",
    "\n",
    "inp = eval(input(\" Please enter the list that you want to check the fulcrum for : \"))\n",
    "\n",
    "def fulcrum(a):\n",
    "    \"\"\"\n",
    "    This function checks if there is a fulcrum of the list present in the list\n",
    "    \"\"\"\n",
    "    for i in range(len(a)):\n",
    "        try:\n",
    "            if sum(a[:i]) == sum(a[-1:i:-1]):\n",
    "                return a[i]\n",
    "        except Exception as e:\n",
    "            return e\n",
    "    else:\n",
    "        return -1\n",
    "fulcrum(inp)"
   ]
  },
  {
   "cell_type": "markdown",
   "id": "6ab90359",
   "metadata": {},
   "source": [
    "### Q4: Given a list of integers representing the color of each sock, determine how many pairs of socks with matching colors there are. For example, there are 7 socks with colors [1, 2, 1, 2, 1, 3, 2]. There is one pair of color 1 and one of color 2. There are three odd socks left, one of each color. The number of pairs is 2.\n",
    "Create a function that returns an integer representing the number of matching pairs of socks that are available."
   ]
  },
  {
   "cell_type": "code",
   "execution_count": 23,
   "id": "1294ea00",
   "metadata": {},
   "outputs": [
    {
     "name": "stdout",
     "output_type": "stream",
     "text": [
      " Please enter the list of socks : [50, 20, 30, 90, 30, 20, 50, 20, 90]\n"
     ]
    },
    {
     "data": {
      "text/plain": [
       "4"
      ]
     },
     "execution_count": 23,
     "metadata": {},
     "output_type": "execute_result"
    }
   ],
   "source": [
    "## Solution:\n",
    "\n",
    "inp = eval(input(\" Please enter the list of socks : \"))\n",
    "\n",
    "def socks(a):\n",
    "    \"\"\"\n",
    "    This function counts the total number of pairs of socks in the list\n",
    "    \"\"\"\n",
    "    s = set()\n",
    "    cnt = 0\n",
    "    for i in a:\n",
    "        p = int((a.count(i))/2)\n",
    "        if p>=1:\n",
    "            s.add(i)\n",
    "    for j in s:\n",
    "        p = int((a.count(j))/2)\n",
    "        cnt+=p\n",
    "    return cnt\n",
    "socks(inp)    "
   ]
  },
  {
   "cell_type": "markdown",
   "id": "464a5c24",
   "metadata": {},
   "source": [
    "### Q5: Create a function that takes a string containing integers as well as other characters and return the sum of the negative integers only."
   ]
  },
  {
   "cell_type": "code",
   "execution_count": 63,
   "id": "e5704689",
   "metadata": {},
   "outputs": [
    {
     "name": "stdout",
     "output_type": "stream",
     "text": [
      " Please input the string : 22 13%14&-11-22 13 12\n"
     ]
    },
    {
     "data": {
      "text/plain": [
       "-33"
      ]
     },
     "execution_count": 63,
     "metadata": {},
     "output_type": "execute_result"
    }
   ],
   "source": [
    "## Solution:\n",
    "\n",
    "inp = input(\" Please input the string : \").split(\" \")\n",
    "\n",
    "def neg_int(a):\n",
    "    l=[]\n",
    "    m=[]\n",
    "    for i in a:\n",
    "        if \"-\" in i:\n",
    "            l.extend(i.split(\"-\"))\n",
    "            \n",
    "    for j in l:\n",
    "        try:\n",
    "            m.append(int(j))\n",
    "        except:\n",
    "            pass\n",
    "    return sum(m)*-1\n",
    "neg_int(inp)"
   ]
  }
 ],
 "metadata": {
  "kernelspec": {
   "display_name": "Python 3 (ipykernel)",
   "language": "python",
   "name": "python3"
  },
  "language_info": {
   "codemirror_mode": {
    "name": "ipython",
    "version": 3
   },
   "file_extension": ".py",
   "mimetype": "text/x-python",
   "name": "python",
   "nbconvert_exporter": "python",
   "pygments_lexer": "ipython3",
   "version": "3.8.8"
  }
 },
 "nbformat": 4,
 "nbformat_minor": 5
}
