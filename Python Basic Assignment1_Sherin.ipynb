{
 "cells": [
  {
   "cell_type": "markdown",
   "id": "8cba8462",
   "metadata": {},
   "source": [
    "### 1. In the below elements which of them are values or an expression? eg:- values can be\n",
    "### integer or string and expressions will be mathematical operators.\n",
    "### *\n",
    "### 'hello'\n",
    "### -87.8\n",
    "### -\n",
    "### /\n",
    "### +\n",
    "### 6\n",
    "\n"
   ]
  },
  {
   "cell_type": "markdown",
   "id": "1749c1bb",
   "metadata": {},
   "source": [
    "Solution:\n",
    "\n",
    "Values => 'hello', -87.8, 6\n",
    "expressions => *, -, /, +"
   ]
  },
  {
   "cell_type": "markdown",
   "id": "8a8455bf",
   "metadata": {},
   "source": [
    "### 2. What is the difference between string and variable?"
   ]
  },
  {
   "cell_type": "markdown",
   "id": "dbda5d5b",
   "metadata": {},
   "source": [
    "Solution :\n",
    "\n",
    "A string is a data type in python which is enclosed within a single quote or double quotes. It maybe a collection of alphabets, or a alphanumeric characters. These characters are iterable and immutable and are enclosed in a single quote or double quote.\n",
    "\n",
    "A variable is created when we assign a value to it. We can assign any value to a variable which include string, integer, float, complex or boolean. A variable is created so that it can be called again at at later stage of writing code."
   ]
  },
  {
   "cell_type": "markdown",
   "id": "40df1058",
   "metadata": {},
   "source": [
    "### 3. Describe three different data types."
   ]
  },
  {
   "cell_type": "markdown",
   "id": "f623b3a7",
   "metadata": {},
   "source": [
    "Solution :\n",
    "\n",
    "Three data types:\n",
    "\n",
    "    1. String: A string is a data type in python which is enclosed within a single quote or double quotes. It maybe a collection of alphabets, or a alphanumeric characters. These characters are iterable and immutable and are enclosed in a single quote or double quote. \n",
    "    \n",
    "    2. Boolean: This is a data type that consists of True or False. This is encoded as 0 and 1 in the data where True equals 1 and False equals 0. This is useful for control structures where we compare values.\n",
    "    \n",
    "    3. Integers: This is a data type that consists of whole numbers. These can be positive or negative numbers.\n",
    "\n",
    "\n"
   ]
  },
  {
   "cell_type": "markdown",
   "id": "7290361a",
   "metadata": {},
   "source": [
    "### 4. What is an expression made up of? What do all expressions do?"
   ]
  },
  {
   "cell_type": "markdown",
   "id": "b6d5fb09",
   "metadata": {},
   "source": [
    "Solution :\n",
    "\n",
    "Expressions are made of mathematical operations. Expressions include +, -, /, * and ** including others. The function of expresssions is to compute mathematical operations on numerical values. + and * can also be used with string values for some operations. For example + can be used to concatenate two variables and * can be used to print a string multiple number of times."
   ]
  },
  {
   "cell_type": "markdown",
   "id": "a508a367",
   "metadata": {},
   "source": [
    "### 5. This assignment statements, like spam = 10. What is the difference between an\n",
    "### expression and a statement?"
   ]
  },
  {
   "cell_type": "markdown",
   "id": "439b1da2",
   "metadata": {},
   "source": [
    "Solution: \n",
    "\n",
    "An expression is where a mathematical operation takes places. Where two values are either summed, subtracted, multiplied or divided and yeilds a result. However, when an statement takes place we are just printing the assignment value. "
   ]
  },
  {
   "cell_type": "markdown",
   "id": "44e59cc6",
   "metadata": {},
   "source": [
    "### 6. After running the following code, what does the variable bacon contain?\n",
    "bacon = 22 \n",
    "bacon + 1"
   ]
  },
  {
   "cell_type": "markdown",
   "id": "9a587bf6",
   "metadata": {},
   "source": [
    "Solution:\n",
    "    \n",
    "The variable bacon will return 22"
   ]
  },
  {
   "cell_type": "markdown",
   "id": "f1184d97",
   "metadata": {},
   "source": [
    "### 7. What should the values of the following two terms be?\n",
    "### &#39;spam&#39; + &#39;spamspam&#39;\n",
    "### &#39;spam&#39; * 3"
   ]
  },
  {
   "cell_type": "markdown",
   "id": "6d2ce3ac",
   "metadata": {},
   "source": [
    "Solution:\n",
    "    \n",
    "Both the operations will result in a same output of 'spamspamspam'"
   ]
  },
  {
   "cell_type": "markdown",
   "id": "1821f8d0",
   "metadata": {},
   "source": [
    "### 8. Why is eggs a valid variable name while 100 is invalid?\n"
   ]
  },
  {
   "cell_type": "markdown",
   "id": "9ca6425f",
   "metadata": {},
   "source": [
    "Solution:\n",
    "    \n",
    "eggs is a valid variable and 100 is invalid as in python a variable name cannot start with an integer. Since in 100 it starts with 1 python will not allow the variable assignment operation in this instance and return an error."
   ]
  },
  {
   "cell_type": "markdown",
   "id": "fdecb1a8",
   "metadata": {},
   "source": [
    "### 9. What three functions can be used to get the integer, floating-point number, or string\n",
    "### version of a value?"
   ]
  },
  {
   "cell_type": "markdown",
   "id": "ef0461e9",
   "metadata": {},
   "source": [
    "Solution: \n",
    "    \n",
    "    1. To get the integer value from a variable that does have a numerical value in it, we can utilize  int(variable). Here we can wrap the variable in the int function to extract the integer from it.\n",
    "    2. To get the floating point number from a variable that does have a decimal value in it, we can utilize  float(variable). Here we can wrap the variable in the float function to extract the decimal values from it.\n",
    "    3. To convert any value into a string, we can use the str function to convert it to text. This will wrap the value in a single quote output. For example str(5) will give us an output of '5'"
   ]
  },
  {
   "cell_type": "markdown",
   "id": "073ad529",
   "metadata": {},
   "source": [
    "### 10. Why does this expression cause an error? How can you fix it?\n",
    "### &#39;I have eaten &#39; + 99 + &#39; burritos.&#39;"
   ]
  },
  {
   "cell_type": "markdown",
   "id": "a45b5625",
   "metadata": {},
   "source": [
    "Solution:\n",
    "    \n",
    "This code gives an error as it is trying to add a string and an integer. This is not allowed in python. We can use the + operand with values of the same data types. So we can either use it with two strings or two numerical values (here one can be integer and the other can be float). To fix the above code, we can wrap 99 within single or double quotes. This will convert 99 to '99' and it will be of a string type. Now when we perform the concatenate operation using + it will not give an error as shown below\n"
   ]
  },
  {
   "cell_type": "code",
   "execution_count": 17,
   "id": "b57f81c9",
   "metadata": {},
   "outputs": [
    {
     "data": {
      "text/plain": [
       "'I have eaten 99 burritos.'"
      ]
     },
     "execution_count": 17,
     "metadata": {},
     "output_type": "execute_result"
    }
   ],
   "source": [
    "'I have eaten ' + '99' + ' burritos.'"
   ]
  },
  {
   "cell_type": "code",
   "execution_count": 18,
   "id": "d0d3429e",
   "metadata": {},
   "outputs": [
    {
     "data": {
      "text/plain": [
       "'/Users/sherinthomas'"
      ]
     },
     "execution_count": 18,
     "metadata": {},
     "output_type": "execute_result"
    }
   ],
   "source": [
    "pwd()"
   ]
  },
  {
   "cell_type": "code",
   "execution_count": null,
   "id": "5c0e86bd",
   "metadata": {},
   "outputs": [],
   "source": []
  }
 ],
 "metadata": {
  "kernelspec": {
   "display_name": "Python 3",
   "language": "python",
   "name": "python3"
  },
  "language_info": {
   "codemirror_mode": {
    "name": "ipython",
    "version": 3
   },
   "file_extension": ".py",
   "mimetype": "text/x-python",
   "name": "python",
   "nbconvert_exporter": "python",
   "pygments_lexer": "ipython3",
   "version": "3.8.8"
  }
 },
 "nbformat": 4,
 "nbformat_minor": 5
}
