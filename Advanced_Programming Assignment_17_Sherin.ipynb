{
 "cells": [
  {
   "cell_type": "markdown",
   "id": "ed658527",
   "metadata": {},
   "source": [
    "### Q1: Create a function that transposes a 2D matrix."
   ]
  },
  {
   "cell_type": "code",
   "execution_count": 19,
   "id": "1a2d6782",
   "metadata": {},
   "outputs": [
    {
     "name": "stdout",
     "output_type": "stream",
     "text": [
      " Please enter the 2D matrix : [ [1, 1, 1], [2, 2, 2], [3, 3, 3] ]\n"
     ]
    },
    {
     "data": {
      "text/plain": [
       "[[1, 2, 3], [1, 2, 3], [1, 2, 3]]"
      ]
     },
     "execution_count": 19,
     "metadata": {},
     "output_type": "execute_result"
    }
   ],
   "source": [
    "## Solution:\n",
    "\n",
    "inp = eval(input(\" Please enter the 2D matrix : \"))\n",
    "\n",
    "def transp(a):\n",
    "    \"\"\"\n",
    "    This function transposes a 2D matrix\n",
    "    \"\"\"\n",
    "    d={}\n",
    "    l=[]\n",
    "    for i in range(len(a[0])):\n",
    "        c=0\n",
    "        for j in range(len(a)):\n",
    "            d.setdefault(i, []).append(a[j][i])\n",
    "    for k in d.values():\n",
    "        l.append(k)\n",
    "    return l\n",
    "transp(inp)"
   ]
  },
  {
   "cell_type": "markdown",
   "id": "bcfb46c2",
   "metadata": {},
   "source": [
    "### Q2: Create a function that determines whether a string is a valid hex code.\n",
    "\n",
    "A hex code must begin with a pound key # and is exactly 6 characters in\n",
    "length. Each character must be a digit from 0-9 or an alphabetic character\n",
    "from A-F. All alphabetic characters may be uppercase or lowercase."
   ]
  },
  {
   "cell_type": "code",
   "execution_count": 21,
   "id": "f19bfa25",
   "metadata": {},
   "outputs": [
    {
     "name": "stdout",
     "output_type": "stream",
     "text": [
      " Please input the hex code to check within quotes : '#CD5C5Z'\n"
     ]
    },
    {
     "data": {
      "text/plain": [
       "False"
      ]
     },
     "execution_count": 21,
     "metadata": {},
     "output_type": "execute_result"
    }
   ],
   "source": [
    "## Solution:\n",
    "\n",
    "inp = eval(input(\" Please input the hex code to check within quotes : \"))\n",
    "\n",
    "def hex_code(a):\n",
    "    \"\"\"\n",
    "    This function checks if the input is a valid hex code \n",
    "    \"\"\"\n",
    "    l=['a','b','c','d','e','f']\n",
    "    if a[0]==\"#\" and len(a[1:])==6:\n",
    "        for i in a[1:]:\n",
    "            if not i.isdigit():\n",
    "                if i.lower() not in l:\n",
    "                    return False\n",
    "        else:\n",
    "            return True\n",
    "    else:\n",
    "        return False\n",
    "hex_code(inp)"
   ]
  },
  {
   "cell_type": "markdown",
   "id": "d69a87f4",
   "metadata": {},
   "source": [
    "### Q3: Given a list of math equations (given as strings), return the percentage of correct answers as a string. Round to the nearest whole number."
   ]
  },
  {
   "cell_type": "code",
   "execution_count": 41,
   "id": "e3195422",
   "metadata": {},
   "outputs": [
    {
     "name": "stdout",
     "output_type": "stream",
     "text": [
      " Please enter the equations : ['2+3=5','4+4=9', '3-1=2']\n"
     ]
    },
    {
     "data": {
      "text/plain": [
       "'67%'"
      ]
     },
     "execution_count": 41,
     "metadata": {},
     "output_type": "execute_result"
    }
   ],
   "source": [
    "## Solution:\n",
    "\n",
    "inp = eval(input(\" Please enter the equations : \"))\n",
    "\n",
    "def equation(a):\n",
    "    \"\"\"\n",
    "    This function takes in a equation checks if its correct or not\n",
    "    \"\"\"\n",
    "    l=[]\n",
    "    cnt=0\n",
    "    for i in a:\n",
    "        l.append(i.split(\"=\"))\n",
    "    for j in l:\n",
    "        k = eval(j[0])\n",
    "        if k== eval(j[1]):\n",
    "            cnt+=1\n",
    "            \n",
    "    return '{:.0%}'.format(cnt/len(l)) \n",
    "equation(inp)\n"
   ]
  },
  {
   "cell_type": "markdown",
   "id": "3cf3a6e9",
   "metadata": {},
   "source": [
    "### Q4: There are two players, Alice and Bob, each with a 3-by-3 grid. A referee tells Alice to fill out one particular row in the grid (say the second row) by putting either a 1 or a 0 in each box, such that the sum of the numbers in that row is odd. The referee tells Bob to fill out one column in the grid (say the first column) by putting either a 1 or a 0 in each box, such that the sum of the numbers in that column is even.\n",
    "\n",
    "### Alice and Bob win the game if Alice’s numbers give an odd sum, Bob’s give an even sum, and (most important) they’ve each written down the same number in the one square where their row and column intersect."
   ]
  },
  {
   "cell_type": "code",
   "execution_count": 4,
   "id": "48ac087e",
   "metadata": {},
   "outputs": [
    {
     "name": "stdout",
     "output_type": "stream",
     "text": [
      " Please enter the list : [1,'001'],[3,'101']\n",
      "1\n"
     ]
    },
    {
     "data": {
      "text/plain": [
       "True"
      ]
     },
     "execution_count": 4,
     "metadata": {},
     "output_type": "execute_result"
    }
   ],
   "source": [
    "## Solution:\n",
    "\n",
    "inp, inp1 = eval(input(\" Please enter the list : \"))\n",
    "\n",
    "def game(a, b):\n",
    "    \"\"\"\n",
    "    This function takes in two lists as input to return if there are winners\n",
    "    \"\"\"\n",
    "    sa = 0\n",
    "    sb=0\n",
    "    for i in a[1]:\n",
    "        sa+=int(i)\n",
    "    for j in b[1]:\n",
    "        sb+=int(j)\n",
    "    if sa%2==1 and sb%2==0:\n",
    "        if a[0] > b[0]:\n",
    "            if a[1][a[0]-b[0]-1]== b[1][a[0]-b[0]]:\n",
    "                return True\n",
    "            else:\n",
    "                return False\n",
    "        elif a[0] < b[0]:\n",
    "            if a[1][max(a[0]-b[0], b[0]-a[0])]== b[1][max(a[0]-b[0], b[0]-a[0])]:\n",
    "                return True\n",
    "            else:\n",
    "                return False\n",
    "    else:\n",
    "        return False\n",
    "            \n",
    "game(inp,inp1)"
   ]
  },
  {
   "cell_type": "markdown",
   "id": "64a27885",
   "metadata": {},
   "source": [
    "### Q5: From point A, an object is moving towards point B at constant velocity va (in km/hr). From point B, another object is moving towards point A at constant velocity vb (in km/hr). Knowing this and the distance between point A and B (in km), write a function that returns how much time passes until both objects meet.\n",
    "\n",
    "Format the output like this:\n",
    "\n",
    "&quot;2h 23min 34s&quot;"
   ]
  },
  {
   "cell_type": "code",
   "execution_count": 10,
   "id": "b7e679d5",
   "metadata": {},
   "outputs": [
    {
     "name": "stdout",
     "output_type": "stream",
     "text": [
      " Please input the total distance, speed of A and speed of B : 90,75,65\n"
     ]
    },
    {
     "data": {
      "text/plain": [
       "'0h 38min 34s'"
      ]
     },
     "execution_count": 10,
     "metadata": {},
     "output_type": "execute_result"
    }
   ],
   "source": [
    "## Solution:\n",
    "\n",
    "Inp, Inp1, Inp2 = eval(input(\" Please input the total distance, speed of A and speed of B : \"))\n",
    "\n",
    "def meet_me(a,b,c):\n",
    "    \"\"\"\n",
    "    This function takes in the total distance, and the two speeds to calculate the time to cross\n",
    "    \"\"\"\n",
    "    time = a/(b+c) *60*60\n",
    "    hours = int(time/(60*60))\n",
    "    minutes = int((time-(hours*60*60))/60) \n",
    "    sec=  int(time- hours*(60*60)- minutes*60)\n",
    "    return str(hours)+\"h \"+ str(minutes)+ \"min \"+ str(sec)+\"s\"\n",
    "        \n",
    "meet_me(Inp,Inp1,Inp2)"
   ]
  }
 ],
 "metadata": {
  "kernelspec": {
   "display_name": "Python 3",
   "language": "python",
   "name": "python3"
  },
  "language_info": {
   "codemirror_mode": {
    "name": "ipython",
    "version": 3
   },
   "file_extension": ".py",
   "mimetype": "text/x-python",
   "name": "python",
   "nbconvert_exporter": "python",
   "pygments_lexer": "ipython3",
   "version": "3.8.8"
  }
 },
 "nbformat": 4,
 "nbformat_minor": 5
}
