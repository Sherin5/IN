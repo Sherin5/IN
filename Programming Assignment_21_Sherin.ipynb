{
 "cells": [
  {
   "cell_type": "markdown",
   "id": "33663bd1",
   "metadata": {},
   "source": [
    "### Q1: Write a function that takes a list and a number as arguments. Add the number to the end of the list, then remove the first element of the list. The function should then return the updated list."
   ]
  },
  {
   "cell_type": "code",
   "execution_count": 1,
   "id": "889c896f",
   "metadata": {},
   "outputs": [
    {
     "name": "stdout",
     "output_type": "stream",
     "text": [
      " Please enter the list and the number : [5, 6, 7, 8, 9], 1\n"
     ]
    },
    {
     "data": {
      "text/plain": [
       "[6, 7, 8, 9, 1]"
      ]
     },
     "execution_count": 1,
     "metadata": {},
     "output_type": "execute_result"
    }
   ],
   "source": [
    "## Solution:\n",
    "inp = eval(input(\" Please enter the list and the number : \"))\n",
    "def lis_change(a,b):\n",
    "    a.insert(len(a), b)\n",
    "    a.pop(0)\n",
    "    return a\n",
    "lis_change(inp[0],1)\n",
    "    "
   ]
  },
  {
   "cell_type": "markdown",
   "id": "142ad3c8",
   "metadata": {},
   "source": [
    "### Q2: Create the function that takes a list of dictionaries and returns the sum of people&#39;s budgets."
   ]
  },
  {
   "cell_type": "code",
   "execution_count": 3,
   "id": "9f102715",
   "metadata": {},
   "outputs": [
    {
     "name": "stdout",
     "output_type": "stream",
     "text": [
      " Please enter the list of dictionaries : [ { 'name': 'John', 'age': 21, 'budget': 23000 }, { 'name': 'Steve', 'age': 32, 'budget': 40000 }, { 'name': 'Martin', 'age': 16, 'budget': 2700 } ]\n"
     ]
    },
    {
     "data": {
      "text/plain": [
       "65700"
      ]
     },
     "execution_count": 3,
     "metadata": {},
     "output_type": "execute_result"
    }
   ],
   "source": [
    "## Solution:\n",
    "\n",
    "inp = eval(input(\" Please enter the list of dictionaries : \"))\n",
    "\n",
    "def dic_budget(a):\n",
    "    c=0\n",
    "    return sum(list(map(lambda x : x['budget'], a)))\n",
    "dic_budget(inp)"
   ]
  },
  {
   "cell_type": "markdown",
   "id": "7b639a8a",
   "metadata": {},
   "source": [
    "### Q3: Create a function that takes a string and returns a string with its letters in alphabetical order."
   ]
  },
  {
   "cell_type": "code",
   "execution_count": 7,
   "id": "14766d36",
   "metadata": {},
   "outputs": [
    {
     "name": "stdout",
     "output_type": "stream",
     "text": [
      " Please enter the string : hacker\n"
     ]
    },
    {
     "data": {
      "text/plain": [
       "'acehkr'"
      ]
     },
     "execution_count": 7,
     "metadata": {},
     "output_type": "execute_result"
    }
   ],
   "source": [
    "## Solution:\n",
    "\n",
    "inp = input(\" Please enter the string : \")\n",
    "def sor_lett(a):\n",
    "    return \"\".join( sorted(a))\n",
    "sor_lett(inp)"
   ]
  },
  {
   "cell_type": "markdown",
   "id": "5cc01a1b",
   "metadata": {},
   "source": [
    "### Q4: Suppose that you invest '$10,000' for 10 years at an interest rate of 6% compounded monthly. What will be the value of your investment at the end of the 10 year period? Create a function that accepts the principal p, the term in years t, the interest rate r, and the number of compounding periods per year n. The function returns the value at the end of term rounded to the nearest cent."
   ]
  },
  {
   "cell_type": "code",
   "execution_count": 15,
   "id": "4344b32f",
   "metadata": {},
   "outputs": [
    {
     "name": "stdout",
     "output_type": "stream",
     "text": [
      " Please enter the principal, term, int. rate, and compounding separated by comma : 3500, 15, 0.1, 4\n"
     ]
    },
    {
     "data": {
      "text/plain": [
       "15399.26"
      ]
     },
     "execution_count": 15,
     "metadata": {},
     "output_type": "execute_result"
    }
   ],
   "source": [
    "## Solution:\n",
    "inp = eval(input(\" Please enter the principal, term, int. rate, and compounding separated by comma : \"))\n",
    "def time_value(a,b,c,d):\n",
    "    f = a*((1+(c/d))**(b*d))\n",
    "    return float('{:.2f}'.format(f)) \n",
    "time_value(inp[0],inp[1],inp[2],inp[3])"
   ]
  },
  {
   "cell_type": "markdown",
   "id": "38903b4f",
   "metadata": {},
   "source": [
    "### Q5: Write a function that takes a list of elements and returns only the integers."
   ]
  },
  {
   "cell_type": "code",
   "execution_count": 17,
   "id": "20921fe4",
   "metadata": {},
   "outputs": [
    {
     "name": "stdout",
     "output_type": "stream",
     "text": [
      " Please enter the list : [9, 2.2, 'space', 'car', 'lion', 16]\n"
     ]
    },
    {
     "data": {
      "text/plain": [
       "[9, 16]"
      ]
     },
     "execution_count": 17,
     "metadata": {},
     "output_type": "execute_result"
    }
   ],
   "source": [
    "## Solution:\n",
    "inp = eval(input(\" Please enter the list : \"))\n",
    "def filt_int(a):\n",
    "    return list(filter(lambda x: str(x).isnumeric(), a))\n",
    "filt_int(inp)"
   ]
  }
 ],
 "metadata": {
  "kernelspec": {
   "display_name": "Python 3",
   "language": "python",
   "name": "python3"
  },
  "language_info": {
   "codemirror_mode": {
    "name": "ipython",
    "version": 3
   },
   "file_extension": ".py",
   "mimetype": "text/x-python",
   "name": "python",
   "nbconvert_exporter": "python",
   "pygments_lexer": "ipython3",
   "version": "3.8.8"
  }
 },
 "nbformat": 4,
 "nbformat_minor": 5
}
