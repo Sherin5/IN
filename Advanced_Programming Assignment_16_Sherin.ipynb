{
 "cells": [
  {
   "cell_type": "markdown",
   "id": "d8937e0f",
   "metadata": {},
   "source": [
    "### Q1: Rondo Form is a type of musical structure, in which there is a recurring - Rondo forms always start and end with an A section.\n",
    "- In between the A sections, there should be contrasting sections notated as B, then C, then D, etc... No letter should be skipped.\n",
    "- There shouldn&#39;t be any repeats in the sequence (such as ABBACCA).\n",
    "\n",
    "Create a function which validates whether a given string is a valid Rondo\n",
    "Form."
   ]
  },
  {
   "cell_type": "code",
   "execution_count": 14,
   "id": "8411a01a",
   "metadata": {},
   "outputs": [
    {
     "name": "stdout",
     "output_type": "stream",
     "text": [
      " Please enter the text to check : ABA\n"
     ]
    },
    {
     "data": {
      "text/plain": [
       "True"
      ]
     },
     "execution_count": 14,
     "metadata": {},
     "output_type": "execute_result"
    }
   ],
   "source": [
    "## Solution:\n",
    "\n",
    "inp = input(\" Please enter the text to check : \")\n",
    "import string\n",
    "\n",
    "def rondo(a):\n",
    "    b = string.ascii_uppercase[1::]\n",
    "    \"\"\"\n",
    "    This function takes in a text and returns True if the text is a rondo text\n",
    "    \"\"\"\n",
    "    c= len(a[1::2])\n",
    "    d=0\n",
    "    if len(a)<2:\n",
    "        return False\n",
    "    for i in a[::2]:\n",
    "        if i!=\"A\":\n",
    "            return False\n",
    "    for j in a[1::2]:\n",
    "        if j!=b[d]:\n",
    "            return False\n",
    "        else:\n",
    "            d+=1\n",
    "    else:\n",
    "        return True\n",
    "            \n",
    "rondo(inp)\n"
   ]
  },
  {
   "cell_type": "markdown",
   "id": "1651fb21",
   "metadata": {},
   "source": [
    "### Q2: Create a function that returns the whole of the first sentence which contains a specific word. Include the full stop at the end of the sentence."
   ]
  },
  {
   "cell_type": "code",
   "execution_count": 33,
   "id": "22f817b7",
   "metadata": {},
   "outputs": [
    {
     "name": "stdout",
     "output_type": "stream",
     "text": [
      " Please enter the text to search : things\n"
     ]
    },
    {
     "data": {
      "text/plain": [
       "'Things are going swell.'"
      ]
     },
     "execution_count": 33,
     "metadata": {},
     "output_type": "execute_result"
    }
   ],
   "source": [
    "## Solution:\n",
    "\n",
    "inp = input(\" Please enter the text to search : \")\n",
    "\n",
    "def text_sear(a):\n",
    "    txt = \"I have a cat. I have a mat. Things are going swell.\".split(\".\")\n",
    "    \"\"\"\n",
    "    This function takes in a text and returns the first sentence \n",
    "    \"\"\"\n",
    "    for i in txt:\n",
    "        if a.lower() in i.lower():\n",
    "            return i.strip()+\".\"         \n",
    "    else:\n",
    "        return \"\"\n",
    "text_sear(inp)"
   ]
  },
  {
   "cell_type": "markdown",
   "id": "bb10603d",
   "metadata": {},
   "source": [
    "### Q3: Given a number, find the &quot;round &quot;of each digit of the number. An integer is called &quot;round&quot; if all its digits except the leftmost (most significant) are equal to zero.\n",
    "- Round numbers: 4000, 1, 9, 800, 90\n",
    "- Not round numbers: 110, 707, 222, 1001\n",
    "\n",
    "Create a function that takes a number and returns the &quot;round&quot; of each digit\n",
    "(except if the digit is zero) as a string. Check out the following examples for\n",
    "more clarification."
   ]
  },
  {
   "cell_type": "code",
   "execution_count": 31,
   "id": "c8830253",
   "metadata": {},
   "outputs": [
    {
     "name": "stdout",
     "output_type": "stream",
     "text": [
      " Please enter the integer : 54210\n"
     ]
    },
    {
     "data": {
      "text/plain": [
       "'10 200 4000 50000 '"
      ]
     },
     "execution_count": 31,
     "metadata": {},
     "output_type": "execute_result"
    }
   ],
   "source": [
    "## Solution:\n",
    "\n",
    "inp = input(\" Please enter the integer : \")\n",
    "\n",
    "def rounder(a):\n",
    "    \"\"\"\n",
    "    This function takes in an integer and returns an \n",
    "    \"\"\"\n",
    "    s=\"\"\n",
    "    for i in range(-1, -(len(a))-1,-1):\n",
    "        if i==-1:\n",
    "            if a[i]=='0':\n",
    "                s+=\"\"\n",
    "            else:\n",
    "                s+= a[i]+\" \"\n",
    "        else:\n",
    "            if str(int(a[i])*(10**(-1*(i)-1)))=='0':\n",
    "                s+=\" \"+ \"\"\n",
    "            else:\n",
    "                s+=str(int(a[i])*(10**(-1*(i)-1)))+ \" \"\n",
    "    return s\n",
    "            \n",
    "rounder(inp)"
   ]
  },
  {
   "cell_type": "markdown",
   "id": "59847117",
   "metadata": {},
   "source": [
    "### Q4: Your task, is to create N x N multiplication table, of size n provided in parameter.\n",
    "For example, when n is 5, the multiplication table is:\n",
    "- 1, 2, 3, 4, 5\n",
    "- 2, 4, 6, 8, 10\n",
    "- 3, 6, 9, 12, 15\n",
    "- 4, 8, 12, 16, 20\n",
    "- 5, 10, 15, 20, 25\n",
    "This example will result in:\n",
    "[[1, 2, 3, 4, 5], [2, 4, 6, 8, 10], [3, 6, 9, 12, 15], [4, 8, 12, 16, 20], [5, 10, 15, 20,\n",
    "25]]"
   ]
  },
  {
   "cell_type": "code",
   "execution_count": 34,
   "id": "d168419a",
   "metadata": {},
   "outputs": [
    {
     "name": "stdout",
     "output_type": "stream",
     "text": [
      " Please enter the integer : 5\n"
     ]
    },
    {
     "data": {
      "text/plain": [
       "[[1, 2, 3, 4, 5],\n",
       " [2, 4, 6, 8, 10],\n",
       " [3, 6, 9, 12, 15],\n",
       " [4, 8, 12, 16, 20],\n",
       " [5, 10, 15, 20, 25]]"
      ]
     },
     "execution_count": 34,
     "metadata": {},
     "output_type": "execute_result"
    }
   ],
   "source": [
    "## Solution:\n",
    "\n",
    "inp = eval(input(\" Please enter the integer : \"))\n",
    "\n",
    "def multiple(a):\n",
    "    \"\"\"\n",
    "    This function prints the multiplication table of an integer\n",
    "    \"\"\"\n",
    "    d={}\n",
    "    l=[]\n",
    "    for i in range(1, a+1):\n",
    "        for j in range(1, a+1):\n",
    "            d.setdefault(i, []).append(i*j)\n",
    "    for k in d.values():\n",
    "        l.append(k)\n",
    "    return l\n",
    "multiple(inp)"
   ]
  },
  {
   "cell_type": "markdown",
   "id": "3fec64b2",
   "metadata": {},
   "source": [
    "### Q5: Create a function that returns True if two lines rhyme and False otherwise. For the purposes of this exercise, two lines rhyme if the last word from each sentence contains the same vowels."
   ]
  },
  {
   "cell_type": "code",
   "execution_count": 50,
   "id": "fe38a5d3",
   "metadata": {},
   "outputs": [
    {
     "name": "stdout",
     "output_type": "stream",
     "text": [
      " Please enters the sentences separated by comma : 'am I am!', 'Green eggs and ham.'\n"
     ]
    },
    {
     "data": {
      "text/plain": [
       "True"
      ]
     },
     "execution_count": 50,
     "metadata": {},
     "output_type": "execute_result"
    }
   ],
   "source": [
    "## Solution:\n",
    "\n",
    "inp, inp1 = eval(input(\" Please enters the sentences separated by comma : \"))\n",
    "\n",
    "def rhyme(a,b):\n",
    "    \"\"\"\n",
    "    This function checks of two sentences rhyme or not\n",
    "    \"\"\"\n",
    "    a1 = a.split()[-1]\n",
    "    b1 = b.split()[-1]\n",
    "    l = []\n",
    "    m=[]\n",
    "    vow = ['a','e','i','o','u']\n",
    "    for i in a1:\n",
    "        if i.lower() in vow:\n",
    "            l.append(i.lower())\n",
    "    for j in b1:\n",
    "        if j.lower() in vow:\n",
    "            m.append(j)\n",
    "    if m==l:\n",
    "        return True\n",
    "    else:\n",
    "        return False\n",
    "rhyme(inp,inp1)"
   ]
  }
 ],
 "metadata": {
  "kernelspec": {
   "display_name": "Python 3",
   "language": "python",
   "name": "python3"
  },
  "language_info": {
   "codemirror_mode": {
    "name": "ipython",
    "version": 3
   },
   "file_extension": ".py",
   "mimetype": "text/x-python",
   "name": "python",
   "nbconvert_exporter": "python",
   "pygments_lexer": "ipython3",
   "version": "3.8.8"
  }
 },
 "nbformat": 4,
 "nbformat_minor": 5
}
