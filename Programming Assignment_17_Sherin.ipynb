{
 "cells": [
  {
   "cell_type": "markdown",
   "id": "b8031667",
   "metadata": {},
   "source": [
    "### Q1: Create a function that takes three arguments a, b, c and returns the sum of the numbers that are evenly divided by c from the range a, b inclusive."
   ]
  },
  {
   "cell_type": "code",
   "execution_count": 4,
   "id": "06731d1a",
   "metadata": {},
   "outputs": [
    {
     "name": "stdout",
     "output_type": "stream",
     "text": [
      " Please enter the numbers : 1,10,3\n"
     ]
    },
    {
     "data": {
      "text/plain": [
       "18"
      ]
     },
     "execution_count": 4,
     "metadata": {},
     "output_type": "execute_result"
    }
   ],
   "source": [
    "### Solution:\n",
    "\n",
    "inp = eval(input(\" Please enter the numbers : \"))\n",
    "\n",
    "def even_div(a,b,c):\n",
    "    return sum(list(filter(lambda x: x%c==0, range(a,b+1))))\n",
    "even_div(inp[0],inp[1], inp[2])"
   ]
  },
  {
   "cell_type": "markdown",
   "id": "23dd00a5",
   "metadata": {},
   "source": [
    "### Q2: Create a function that returns True if a given inequality expression is correct and False otherwise."
   ]
  },
  {
   "cell_type": "code",
   "execution_count": 11,
   "id": "c5e41b2c",
   "metadata": {},
   "outputs": [
    {
     "name": "stdout",
     "output_type": "stream",
     "text": [
      " Please enter the equality expression : 13 > 44 > 33 > 1\n"
     ]
    },
    {
     "data": {
      "text/plain": [
       "False"
      ]
     },
     "execution_count": 11,
     "metadata": {},
     "output_type": "execute_result"
    }
   ],
   "source": [
    "## Solution:\n",
    "\n",
    "inp = input(\" Please enter the inequality expression : \")\n",
    "\n",
    "def equal(a):\n",
    "    return eval(a)\n",
    "equal(inp)"
   ]
  },
  {
   "cell_type": "markdown",
   "id": "cfb5b725",
   "metadata": {},
   "source": [
    "### Q3: Create a function that replaces all the vowels in a string with a specified character."
   ]
  },
  {
   "cell_type": "code",
   "execution_count": 16,
   "id": "94892e6e",
   "metadata": {},
   "outputs": [
    {
     "name": "stdout",
     "output_type": "stream",
     "text": [
      " please enter the string and the character separated by comma : 'Sherin Thomas is a learning how to code', '#'\n"
     ]
    },
    {
     "data": {
      "text/plain": [
       "'Sh#r#n Th#m#s #s # l##rn#ng h#w t# c#d#'"
      ]
     },
     "execution_count": 16,
     "metadata": {},
     "output_type": "execute_result"
    }
   ],
   "source": [
    "## Solution:\n",
    "inp = eval(input(\" please enter the string and the character separated by comma : \"))\n",
    "\n",
    "def vow_repl(a):\n",
    "    vow = ['a','e','i','o','u']\n",
    "    st = \"\"\n",
    "    for i in a[0]:\n",
    "        if i in vow:\n",
    "            st+=a[1]\n",
    "        else:\n",
    "            st+=i\n",
    "    return st\n",
    "vow_repl(inp)\n",
    "            \n",
    "    "
   ]
  },
  {
   "cell_type": "markdown",
   "id": "5d76d031",
   "metadata": {},
   "source": [
    "### Q4: Write a function that calculates the factorial of a number recursively."
   ]
  },
  {
   "cell_type": "code",
   "execution_count": 20,
   "id": "470d7fb7",
   "metadata": {},
   "outputs": [
    {
     "name": "stdout",
     "output_type": "stream",
     "text": [
      " Please enter the factorial to be calculated : 5\n"
     ]
    },
    {
     "data": {
      "text/plain": [
       "120"
      ]
     },
     "execution_count": 20,
     "metadata": {},
     "output_type": "execute_result"
    }
   ],
   "source": [
    "## Solution:\n",
    "\n",
    "inp = eval(input(\" Please enter the factorial to be calculated : \"))\n",
    "\n",
    "def fact(a):\n",
    "    if a==1:\n",
    "        return 1\n",
    "    else:\n",
    "        f = (a* fact(a-1))\n",
    "    return f\n",
    "fact(inp)"
   ]
  },
  {
   "cell_type": "markdown",
   "id": "75fa58ad",
   "metadata": {},
   "source": [
    "### Q5: Hamming distance is the number of characters that differ between two strings.\n",
    "\n",
    "To illustrate:\n",
    "String1: &quot;abcbba&quot;\n",
    "String2: &quot;abcbda&quot;\n",
    "Hamming Distance: 1 - &quot;b&quot; vs. &quot;d&quot; is the only difference."
   ]
  },
  {
   "cell_type": "code",
   "execution_count": 2,
   "id": "410c2906",
   "metadata": {},
   "outputs": [
    {
     "name": "stdout",
     "output_type": "stream",
     "text": [
      " Please input both the strings : 'abcde', 'bcdef'\n"
     ]
    },
    {
     "data": {
      "text/plain": [
       "5"
      ]
     },
     "execution_count": 2,
     "metadata": {},
     "output_type": "execute_result"
    }
   ],
   "source": [
    "## Solution:\n",
    "\n",
    "inp = eval(input(\" Please input both the strings : \"))\n",
    "def hamming(a,b):\n",
    "    c=0\n",
    "    for i in range(len(a)):\n",
    "        if a[i]!= b[i]:\n",
    "            c+=1\n",
    "    return c\n",
    "hamming(inp[0], inp[1])"
   ]
  }
 ],
 "metadata": {
  "kernelspec": {
   "display_name": "Python 3",
   "language": "python",
   "name": "python3"
  },
  "language_info": {
   "codemirror_mode": {
    "name": "ipython",
    "version": 3
   },
   "file_extension": ".py",
   "mimetype": "text/x-python",
   "name": "python",
   "nbconvert_exporter": "python",
   "pygments_lexer": "ipython3",
   "version": "3.8.8"
  }
 },
 "nbformat": 4,
 "nbformat_minor": 5
}
