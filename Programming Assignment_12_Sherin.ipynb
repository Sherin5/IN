{
 "cells": [
  {
   "cell_type": "markdown",
   "id": "1e72036d",
   "metadata": {},
   "source": [
    "### Q1: Write a Python program to Extract Unique values dictionary values?"
   ]
  },
  {
   "cell_type": "code",
   "execution_count": 3,
   "id": "4c23b184",
   "metadata": {},
   "outputs": [
    {
     "name": "stdout",
     "output_type": "stream",
     "text": [
      " Please enter the dictionary : {'a':3,'b':4, 'c':3,'d':3}\n"
     ]
    },
    {
     "data": {
      "text/plain": [
       "{3, 4}"
      ]
     },
     "execution_count": 3,
     "metadata": {},
     "output_type": "execute_result"
    }
   ],
   "source": [
    "## Solution\n",
    "\n",
    "inp = eval(input(\" Please enter the dictionary : \"))\n",
    "\n",
    "def uniq_val(a):\n",
    "    return set(a.values())\n",
    "uniq_val(inp)"
   ]
  },
  {
   "cell_type": "markdown",
   "id": "76fb2bee",
   "metadata": {},
   "source": [
    "### Q2: Write a Python program to find the sum of all items in a dictionary?"
   ]
  },
  {
   "cell_type": "code",
   "execution_count": 9,
   "id": "1b551b1f",
   "metadata": {},
   "outputs": [
    {
     "name": "stdout",
     "output_type": "stream",
     "text": [
      " Please enter the dictionary : {1:3,2:4,3:3,4:3}\n"
     ]
    },
    {
     "data": {
      "text/plain": [
       "23"
      ]
     },
     "execution_count": 9,
     "metadata": {},
     "output_type": "execute_result"
    }
   ],
   "source": [
    "## Solution\n",
    "\n",
    "inp = eval(input(\" Please enter the dictionary : \"))\n",
    "\n",
    "def summ_item(a):\n",
    "    c=0\n",
    "    for key, value in a.items():\n",
    "        c+=key+value\n",
    "    return c\n",
    "summ_item(inp)"
   ]
  },
  {
   "cell_type": "markdown",
   "id": "588ded56",
   "metadata": {},
   "source": [
    "### Q3: Write a Python program to Merging two Dictionaries?"
   ]
  },
  {
   "cell_type": "code",
   "execution_count": 12,
   "id": "4f0f8cda",
   "metadata": {},
   "outputs": [
    {
     "name": "stdout",
     "output_type": "stream",
     "text": [
      " Please enter the dictionary 1: {1:3,2:4,3:3,4:3}\n",
      " Please enter the dictionary 2 : {'a':22, \"b\":33, 'c':444}\n"
     ]
    },
    {
     "data": {
      "text/plain": [
       "{1: 3, 2: 4, 3: 3, 4: 3, 'a': 22, 'b': 33, 'c': 444}"
      ]
     },
     "execution_count": 12,
     "metadata": {},
     "output_type": "execute_result"
    }
   ],
   "source": [
    "## Solution:\n",
    "\n",
    "inp = eval(input(\" Please enter the dictionary 1: \"))\n",
    "inp1 = eval(input(\" Please enter the dictionary 2 : \"))\n",
    "\n",
    "def merg_dic(a,b):\n",
    "    for key, value in b.items():\n",
    "        a.setdefault(key, value)\n",
    "    return a\n",
    "merg_dic(inp,inp1)"
   ]
  },
  {
   "cell_type": "markdown",
   "id": "c4d613fc",
   "metadata": {},
   "source": [
    "### Q4: Write a Python program to convert key-values list to flat dictionary?"
   ]
  },
  {
   "cell_type": "code",
   "execution_count": 15,
   "id": "83ad5660",
   "metadata": {},
   "outputs": [
    {
     "name": "stdout",
     "output_type": "stream",
     "text": [
      " Please enter the key list : ['a','b','c','d']\n",
      " Please enter the value list : [1,2,3,4]\n"
     ]
    },
    {
     "data": {
      "text/plain": [
       "{'a': 1, 'b': 2, 'c': 3, 'd': 4}"
      ]
     },
     "execution_count": 15,
     "metadata": {},
     "output_type": "execute_result"
    }
   ],
   "source": [
    "## Solution:\n",
    "\n",
    "inp = eval(input(\" Please enter the key list : \"))\n",
    "inp1 = eval(input(\" Please enter the value list : \"))\n",
    "\n",
    "def conv_dic(a,b):\n",
    "    c={}\n",
    "    for i in range(len(a)):\n",
    "        c.setdefault(a[i], b[i])\n",
    "    return c\n",
    "conv_dic(inp,inp1)"
   ]
  },
  {
   "cell_type": "markdown",
   "id": "0bcbe049",
   "metadata": {},
   "source": [
    "### Q5: Write a Python program to insertion at the beginning in OrderedDict?"
   ]
  },
  {
   "cell_type": "code",
   "execution_count": 46,
   "id": "8ed43ff8",
   "metadata": {},
   "outputs": [
    {
     "name": "stdout",
     "output_type": "stream",
     "text": [
      " Please enter key value as a dictionary that you want to enter : {1:'sherin'}\n"
     ]
    },
    {
     "data": {
      "text/plain": [
       "OrderedDict([(1, 'sherin'), ('a', 1), ('b', 2), ('c', 3), ('d', 4)])"
      ]
     },
     "execution_count": 46,
     "metadata": {},
     "output_type": "execute_result"
    }
   ],
   "source": [
    "## Solution:\n",
    "\n",
    "\n",
    "inp = eval(input(\" Please enter key value as a dictionary that you want to enter : \"))\n",
    "from collections import OrderedDict\n",
    "def ins_dict(a):\n",
    "    d=OrderedDict({'a': 1, 'b': 2, 'c': 3, 'd': 4})\n",
    "    for key, value in a.items():\n",
    "        d[key] = value\n",
    "        d.move_to_end(key,last=False)\n",
    "    return d\n",
    "    \n",
    "ins_dict(inp)\n",
    "    "
   ]
  },
  {
   "cell_type": "markdown",
   "id": "a0684e0d",
   "metadata": {},
   "source": [
    "### Q6: Write a Python program to check order of character in string using OrderedDict()?"
   ]
  },
  {
   "cell_type": "code",
   "execution_count": 1,
   "id": "84698773",
   "metadata": {},
   "outputs": [],
   "source": [
    "## Solution:\n",
    "\n",
    "from collections import OrderedDict\n",
    "inp = input(\" Please enter the string : \")\n",
    "inp1 = input(\" Please enter the pattern : \")\n",
    "\n",
    "def check_order(a, b):\n",
    "    d1 = OrderedDict.fromkeys(a)\n",
    "    c=0\n",
    "    for key, value in d1.items():\n",
    "        if key==b[c]:\n",
    "            c+=1\n",
    "        if c== len(b):\n",
    "            return True\n",
    "    else:\n",
    "        return False\n",
    "check_order(inp,inp1)"
   ]
  },
  {
   "cell_type": "markdown",
   "id": "7f77cbee",
   "metadata": {},
   "source": [
    "### Q7: Write a Python program to sort Python Dictionaries by Key or Value?"
   ]
  },
  {
   "cell_type": "code",
   "execution_count": 16,
   "id": "771519e4",
   "metadata": {},
   "outputs": [
    {
     "name": "stdout",
     "output_type": "stream",
     "text": [
      " Please enter the dictionary : {'b': 10, 'd': 223, 'c': 39, 'a': 4}\n"
     ]
    },
    {
     "data": {
      "text/plain": [
       "OrderedDict([('a', 4), ('b', 10), ('c', 39), ('d', 223)])"
      ]
     },
     "execution_count": 16,
     "metadata": {},
     "output_type": "execute_result"
    }
   ],
   "source": [
    "## Solution:\n",
    "\n",
    "inp = eval(input(\" Please enter the dictionary : \"))\n",
    "\n",
    "from collections import OrderedDict\n",
    "def sort_dictionary(a):\n",
    "    l=OrderedDict()\n",
    "    for i in sorted(a.keys()):\n",
    "        l[i]=a[i]\n",
    "    return l\n",
    "sort_dictionary(inp)"
   ]
  }
 ],
 "metadata": {
  "kernelspec": {
   "display_name": "Python 3",
   "language": "python",
   "name": "python3"
  },
  "language_info": {
   "codemirror_mode": {
    "name": "ipython",
    "version": 3
   },
   "file_extension": ".py",
   "mimetype": "text/x-python",
   "name": "python",
   "nbconvert_exporter": "python",
   "pygments_lexer": "ipython3",
   "version": "3.8.8"
  }
 },
 "nbformat": 4,
 "nbformat_minor": 5
}
