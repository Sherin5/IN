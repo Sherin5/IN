{
 "cells": [
  {
   "cell_type": "markdown",
   "id": "63311762",
   "metadata": {},
   "source": [
    "### Q1:  Write a function that stutters a word as if someone is struggling to read it. The first two letters are repeated twice with an ellipsis ... and space after each, and then the word is pronounced with a question mark ?. "
   ]
  },
  {
   "cell_type": "code",
   "execution_count": 2,
   "id": "5566f743",
   "metadata": {},
   "outputs": [
    {
     "name": "stdout",
     "output_type": "stream",
     "text": [
      " Please enter the word : enthusiastic\n"
     ]
    },
    {
     "data": {
      "text/plain": [
       "'en... en... enthusiastic?'"
      ]
     },
     "execution_count": 2,
     "metadata": {},
     "output_type": "execute_result"
    }
   ],
   "source": [
    "## Solution:\n",
    "\n",
    "inp = input(\" Please enter the word : \")\n",
    "def stutter(a):\n",
    "    return '{}... {}... {}?'.format(a[:2], a[:2], a)\n",
    "stutter(inp)"
   ]
  },
  {
   "cell_type": "markdown",
   "id": "cb41f82a",
   "metadata": {},
   "source": [
    "### Q2: 2.Create a function that takes an angle in radians and returns the corresponding angle in degrees rounded to one decimal place."
   ]
  },
  {
   "cell_type": "code",
   "execution_count": 3,
   "id": "09fefbb1",
   "metadata": {},
   "outputs": [
    {
     "name": "stdout",
     "output_type": "stream",
     "text": [
      " Please enter the angle in radians : 20\n"
     ]
    },
    {
     "data": {
      "text/plain": [
       "1145.9"
      ]
     },
     "execution_count": 3,
     "metadata": {},
     "output_type": "execute_result"
    }
   ],
   "source": [
    "## Solution:\n",
    "\n",
    "inp = eval(input(\" Please enter the angle in radians : \"))\n",
    "\n",
    "def rad_to_deg(a):\n",
    "    c=57.295779513\n",
    "    return float('{:0.1f}'.format(a*c))\n",
    "rad_to_deg(inp)"
   ]
  },
  {
   "cell_type": "markdown",
   "id": "fafa0aa8",
   "metadata": {},
   "source": [
    "### Q3: In this challenge, establish if a given integer num is a Curzon number. If 1 plus 2 elevated to num is exactly divisible by 1 plus 2 multiplied by num, then num is a Curzon number. Given a non-negative integer num, implement a function that returns True if num is a Curzon number, or False otherwise."
   ]
  },
  {
   "cell_type": "code",
   "execution_count": 5,
   "id": "607ae430",
   "metadata": {},
   "outputs": [
    {
     "name": "stdout",
     "output_type": "stream",
     "text": [
      " Please enter the number to check if its a curzon number : 5\n"
     ]
    },
    {
     "data": {
      "text/plain": [
       "True"
      ]
     },
     "execution_count": 5,
     "metadata": {},
     "output_type": "execute_result"
    }
   ],
   "source": [
    "## Solution:\n",
    "\n",
    "inp = eval(input(\" Please enter the number to check if its a curzon number : \"))\n",
    "def curzon(a):\n",
    "    c = (2**a)+1\n",
    "    d = (2*a)+1\n",
    "    if c%d==0:\n",
    "        return True\n",
    "    else:\n",
    "        return False\n",
    "curzon(inp)\n",
    "    "
   ]
  },
  {
   "cell_type": "markdown",
   "id": "3bb904cf",
   "metadata": {},
   "source": [
    "### Q4: Given the side length x find the area of a hexagon."
   ]
  },
  {
   "cell_type": "code",
   "execution_count": 11,
   "id": "3170d5c7",
   "metadata": {},
   "outputs": [
    {
     "name": "stdout",
     "output_type": "stream",
     "text": [
      " Please enter the side length of the hexagon : 3\n"
     ]
    },
    {
     "data": {
      "text/plain": [
       "23.4"
      ]
     },
     "execution_count": 11,
     "metadata": {},
     "output_type": "execute_result"
    }
   ],
   "source": [
    "## Solution: \n",
    "\n",
    "inp = eval(input(\" Please enter the side length of the hexagon : \"))\n",
    "\n",
    "def hex_area(a):\n",
    "    return float('{:.1f}'.format( (3*(3)**(1/2)*a**2)/2))\n",
    "hex_area(inp)"
   ]
  },
  {
   "cell_type": "markdown",
   "id": "373138c4",
   "metadata": {},
   "source": [
    "### Q5: Create a function that returns a base-2 (binary) representation of a base-10 (decimal) string number. To convert is simple: ((2) means base-2 and (10) means base-10) 010101001(2) = 1 + 8 + 32 + 128.."
   ]
  },
  {
   "cell_type": "code",
   "execution_count": 24,
   "id": "35fc4066",
   "metadata": {},
   "outputs": [
    {
     "name": "stdout",
     "output_type": "stream",
     "text": [
      " Please enter the number : 10\n"
     ]
    },
    {
     "data": {
      "text/plain": [
       "'1010'"
      ]
     },
     "execution_count": 24,
     "metadata": {},
     "output_type": "execute_result"
    }
   ],
   "source": [
    "## Solution:\n",
    "\n",
    "inp = input(\" Please enter the number : \")\n",
    "\n",
    "def base2(a):\n",
    "    l=[]\n",
    "    while int(a)>0:\n",
    "        c = int(int(a)/2)\n",
    "        l.append(str(int(a)%2))\n",
    "        a =c\n",
    "    l=l[::-1]\n",
    "    d=\"\".join(l)\n",
    "    return d\n",
    "    \n",
    "base2(inp)"
   ]
  }
 ],
 "metadata": {
  "kernelspec": {
   "display_name": "Python 3",
   "language": "python",
   "name": "python3"
  },
  "language_info": {
   "codemirror_mode": {
    "name": "ipython",
    "version": 3
   },
   "file_extension": ".py",
   "mimetype": "text/x-python",
   "name": "python",
   "nbconvert_exporter": "python",
   "pygments_lexer": "ipython3",
   "version": "3.8.8"
  }
 },
 "nbformat": 4,
 "nbformat_minor": 5
}
