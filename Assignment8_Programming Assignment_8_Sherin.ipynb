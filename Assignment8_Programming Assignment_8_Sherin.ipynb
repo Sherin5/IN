{
 "cells": [
  {
   "cell_type": "markdown",
   "id": "d91d20a4",
   "metadata": {},
   "source": [
    "### Q1: Given a sentence as txt, return True if any two adjacent words have this property: One word ends with a vowel, while the word immediately after begins with a vowel (a e i o u)."
   ]
  },
  {
   "cell_type": "code",
   "execution_count": 1,
   "id": "8dc5e716",
   "metadata": {},
   "outputs": [
    {
     "name": "stdout",
     "output_type": "stream",
     "text": [
      " Please enter a sentence : a very large enterprise\n"
     ]
    },
    {
     "data": {
      "text/plain": [
       "True"
      ]
     },
     "execution_count": 1,
     "metadata": {},
     "output_type": "execute_result"
    }
   ],
   "source": [
    "## Solution:\n",
    "\n",
    "inp = input(\" Please enter a sentence : \")\n",
    "\n",
    "def adj_vowel(x):\n",
    "    \n",
    "    \"\"\"\n",
    "    This function takes a sentence as an input and returns True if a word ends with a vowel and the following word starts with a vowel, else it returns False\n",
    "    \"\"\"\n",
    "    l = x.split()\n",
    "    vowel = ['a','e','i','o','u']\n",
    "    for i in range(len(l)):\n",
    "        try:\n",
    "            if l[i][-1] in vowel and l[i+1][0] in vowel:\n",
    "                return True\n",
    "        except:\n",
    "            return False\n",
    "            \n",
    "    else:\n",
    "        return False\n",
    "adj_vowel(inp)"
   ]
  },
  {
   "cell_type": "markdown",
   "id": "46f55515",
   "metadata": {},
   "source": [
    "### Q2: You are given three inputs: a string, one letter, and a second letter. Write a function that returns True if every instance of the first letter occurs before every instance of the second letter."
   ]
  },
  {
   "cell_type": "code",
   "execution_count": 9,
   "id": "f83dd13c",
   "metadata": {},
   "outputs": [
    {
     "name": "stdout",
     "output_type": "stream",
     "text": [
      " Please enter the string : 'A rAbbit jumps joyfully'\n",
      " Please enter the first and the second letter separated by comma : 'a','J'\n"
     ]
    },
    {
     "data": {
      "text/plain": [
       "True"
      ]
     },
     "execution_count": 9,
     "metadata": {},
     "output_type": "execute_result"
    }
   ],
   "source": [
    "## Solution: \n",
    "\n",
    "inp = eval(input(\" Please enter the string within single quotes : \").lower())\n",
    "inp1 = input(\" Please enter the first and the second letter separated by comma : \").lower().split(',')\n",
    "\n",
    "\n",
    "def inst_fir(a,b):\n",
    "    ind_a = []\n",
    "    ind_b = []\n",
    "    if eval(b[0]) in a and eval(b[1]) in a :\n",
    "        #print(\"gsfgdfgdfgdfgd\")\n",
    "        for i in range(len(a)):\n",
    "            \n",
    "            if a[i]==eval(b[0]):\n",
    "                \n",
    "                ind_a.append(i)\n",
    "            elif a[i]==eval(b[1]):\n",
    "                ind_b.append(i)\n",
    "            else:\n",
    "                pass\n",
    "    \n",
    "    if max(ind_a) < min(ind_b):\n",
    "        return True\n",
    "    else:\n",
    "        return False\n",
    "inst_fir(inp,inp1)     \n",
    "            \n",
    "            "
   ]
  },
  {
   "cell_type": "markdown",
   "id": "db3a5bd1",
   "metadata": {},
   "source": [
    "### Q3: Create a function that returns the characters from a list or string r on odd or even positions, depending on the specifier s. The specifier will be &quot;odd&quot; for items on odd positions (1, 3, 5, ...) and &quot;even&quot; for items on even positions (2, 4, 6, ...)."
   ]
  },
  {
   "cell_type": "code",
   "execution_count": 22,
   "id": "e4936a42",
   "metadata": {},
   "outputs": [
    {
     "name": "stdout",
     "output_type": "stream",
     "text": [
      " Please enter a list or string (Please enter the string in single quotes): 'edabit'\n",
      " Please enter if you want 'Odd' or 'Even' : odd\n"
     ]
    },
    {
     "data": {
      "text/plain": [
       "'eai'"
      ]
     },
     "execution_count": 22,
     "metadata": {},
     "output_type": "execute_result"
    }
   ],
   "source": [
    "## Solution:\n",
    "\n",
    "inp = eval(input(\" Please enter a list or string (Please enter the string in single quotes): \"))\n",
    "inp1 = input(\" Please enter if you want 'Odd' or 'Even' : \" )\n",
    "\n",
    "def odd_even(a,b):\n",
    "    \"\"\"\n",
    "    This function will take in either a list or a string and provide either odd or even items from them\n",
    "    \"\"\"\n",
    "    try:\n",
    "        if type(a) == list or type(a)== str:\n",
    "            if b.lower()==\"odd\":\n",
    "                return a[::2]\n",
    "            else:\n",
    "                return a[1::2]\n",
    "    except Exception as e:\n",
    "        return e\n",
    "    \n",
    "odd_even(inp, inp1)\n",
    "        \n",
    "        "
   ]
  },
  {
   "cell_type": "markdown",
   "id": "81f739a4",
   "metadata": {},
   "source": [
    "### Q4: Write a function that returns the greatest common divisor of all list elements. If the greatest common divisor is 1, return 1."
   ]
  },
  {
   "cell_type": "code",
   "execution_count": 9,
   "id": "bc2cf991",
   "metadata": {},
   "outputs": [
    {
     "name": "stdout",
     "output_type": "stream",
     "text": [
      " Please enter a list of numbers : [1024,192,2048,512]\n"
     ]
    },
    {
     "data": {
      "text/plain": [
       "64"
      ]
     },
     "execution_count": 9,
     "metadata": {},
     "output_type": "execute_result"
    }
   ],
   "source": [
    "## Solution:\n",
    "\n",
    "inp = eval(input(\" Please enter a list of numbers : \"))\n",
    "\n",
    "def lar_div(a):\n",
    "    \"\"\"\n",
    "    This function takes in a list as input and returns the highest common divisor from the list.\n",
    "    \"\"\"\n",
    "    m = min(a)\n",
    "    s = set()\n",
    "    f = set()\n",
    "    d1 = dict.fromkeys(a,set())\n",
    "\n",
    "    for k,v in d1.items():\n",
    "        if k==m:\n",
    "            for i in range(1, m+1):\n",
    "                if k%i==0:\n",
    "                \n",
    "                    s.add(i)\n",
    "        \n",
    "        else:\n",
    "            for j in range(1,m+1):\n",
    "                if k%j==0:\n",
    "                    f.add(j)\n",
    "    w = s.intersection(f)\n",
    "    return max(w)\n",
    "            \n",
    "max(w)\n",
    "\n",
    "lar_div(inp)\n",
    "        "
   ]
  },
  {
   "cell_type": "markdown",
   "id": "de0b5ebb",
   "metadata": {},
   "source": [
    "### Q5: A number/string is a palindrome if the digits/characters are the same when read both forward and backward. Examples include &quot;racecar&quot; and 12321. Given a positive number n, check if n or the binary representation of n is palindromic. Return the following:\n",
    "\n",
    "- &quot;Decimal only.&quot; if only n is a palindrome.\n",
    "- &quot;Binary only.&quot; if only the binary representation of n is a palindrome.\n",
    "- &quot;Decimal and binary.&quot; if both are palindromes.\n",
    "- &quot;Neither!&quot; if neither are palindromes."
   ]
  },
  {
   "cell_type": "code",
   "execution_count": 17,
   "id": "ce8eeb5f",
   "metadata": {},
   "outputs": [
    {
     "name": "stdout",
     "output_type": "stream",
     "text": [
      " Please enter a positive number : 934\n"
     ]
    },
    {
     "data": {
      "text/plain": [
       "'Neither!'"
      ]
     },
     "execution_count": 17,
     "metadata": {},
     "output_type": "execute_result"
    }
   ],
   "source": [
    "## Solution:\n",
    "\n",
    "inp = eval(input(\" Please enter a positive number : \"))\n",
    "\n",
    "def palind(a):\n",
    "    st = str(a)\n",
    "    if st==st[::-1] and format(a,'b')== format(a,'b')[::-1]:\n",
    "        return \"Decimal and binary\"\n",
    "    elif st==st[::-1]:\n",
    "        return \"Decimal only.\"\n",
    "    elif format(a,'b')== format(a,'b')[::-1]:\n",
    "        return \"Binary only.\"\n",
    "    else:\n",
    "        return \"Neither!\"\n",
    "\n",
    "palind(inp)"
   ]
  }
 ],
 "metadata": {
  "kernelspec": {
   "display_name": "Python 3 (ipykernel)",
   "language": "python",
   "name": "python3"
  },
  "language_info": {
   "codemirror_mode": {
    "name": "ipython",
    "version": 3
   },
   "file_extension": ".py",
   "mimetype": "text/x-python",
   "name": "python",
   "nbconvert_exporter": "python",
   "pygments_lexer": "ipython3",
   "version": "3.8.8"
  }
 },
 "nbformat": 4,
 "nbformat_minor": 5
}
