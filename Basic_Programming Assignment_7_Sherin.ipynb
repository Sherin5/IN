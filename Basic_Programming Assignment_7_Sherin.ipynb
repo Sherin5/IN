{
 "cells": [
  {
   "cell_type": "markdown",
   "id": "ec78a833",
   "metadata": {},
   "source": [
    "### Q1: 1. Write a Python Program to find sum of array?"
   ]
  },
  {
   "cell_type": "code",
   "execution_count": 6,
   "id": "3bb16453",
   "metadata": {},
   "outputs": [
    {
     "name": "stdout",
     "output_type": "stream",
     "text": [
      " Please enter the list of numbers separated by comma : 3,4,5,6,7,8\n",
      "33 is the sum of the array is\n"
     ]
    }
   ],
   "source": [
    "## Solution:\n",
    "inp = input(\" Please enter the list of numbers separated by comma : \")\n",
    "l = inp.split(\",\")\n",
    "m = []\n",
    "\n",
    "\n",
    "def summation(x):\n",
    "    \"\"\"\n",
    "    This function takes in an array and returns the sum of the array.\n",
    "    \"\"\"\n",
    "    \n",
    "    for i in x:\n",
    "        m.append(int(i))\n",
    "    ans = sum(m)\n",
    "    print(\" {} is the sum of the array is\".format(ans) ) \n",
    "    \n",
    "summation(l)\n",
    "            \n",
    "            "
   ]
  },
  {
   "cell_type": "markdown",
   "id": "3d74f877",
   "metadata": {},
   "source": [
    "### Q2: Write a Python Program to find largest element in an array?"
   ]
  },
  {
   "cell_type": "code",
   "execution_count": 7,
   "id": "b3b9d555",
   "metadata": {},
   "outputs": [
    {
     "name": "stdout",
     "output_type": "stream",
     "text": [
      " Please enter the list of numbers separated by comma : 2,3,4,5,6,7,8\n",
      "8 is the largest element in the array\n"
     ]
    }
   ],
   "source": [
    "inp = input(\" Please enter the list of numbers separated by comma : \")\n",
    "l = inp.split(\",\")\n",
    "\n",
    "def largest(x):\n",
    "    \"\"\"\n",
    "    This function finds the largest element in the array\n",
    "    \"\"\"\n",
    "    m = max(x)\n",
    "    print( \"{} is the largest element in the array\".format(m) )\n",
    "    \n",
    "largest(l)"
   ]
  },
  {
   "cell_type": "markdown",
   "id": "fe5b8833",
   "metadata": {},
   "source": [
    "### Q3: Write a Python Program for array rotation?"
   ]
  },
  {
   "cell_type": "code",
   "execution_count": 12,
   "id": "f7f91392",
   "metadata": {},
   "outputs": [
    {
     "name": "stdout",
     "output_type": "stream",
     "text": [
      " Please enter the array separated by comma : 1,2,3,4,5\n",
      " Please enter the numbers of items to rotate it by : 1\n"
     ]
    },
    {
     "data": {
      "text/plain": [
       "['2', '3', '4', '5', '1']"
      ]
     },
     "execution_count": 12,
     "metadata": {},
     "output_type": "execute_result"
    }
   ],
   "source": [
    "## Solution:\n",
    "\n",
    "inp = input(\" Please enter the array separated by comma : \")\n",
    "inp1 = int(input(\" Please enter the numbers of items to rotate it by : \"))\n",
    "def arr_rotate(a,b,c):\n",
    "    \"\"\"\n",
    "    This function takes in three inputs, an array 'a', the number 'b' and the total elements 'c' and then \n",
    "    rotates the array by the number 'b'  \n",
    "    \"\"\"\n",
    "    n=[]\n",
    "    try:\n",
    "        l = inp.split(\",\")\n",
    "        n = l[b:len(l)] + l[0:b]\n",
    "        return n\n",
    "    except:\n",
    "        print(\" Please enter the correct data type \")\n",
    "        \n",
    "arr_rotate(inp,inp1,len(inp))"
   ]
  },
  {
   "cell_type": "markdown",
   "id": "7b12f65d",
   "metadata": {},
   "source": [
    "### Q4: Write a Python Program to Split the array and add the first part to the end?"
   ]
  },
  {
   "cell_type": "code",
   "execution_count": 13,
   "id": "db46ae65",
   "metadata": {},
   "outputs": [],
   "source": [
    "## Solution:\n",
    "\n",
    "inp = input(\" Please enter the array separated by comma : \")\n",
    "inp1 = int(input(\" Please enter the numbers of items to rotate it by : \"))\n",
    "def arr_rotate(a,b,c):\n",
    "    \"\"\"\n",
    "    This function takes in three inputs, an array 'a', the number 'b' and the total elements 'c' and then \n",
    "    rotates the array by the number 'b'  \n",
    "    \"\"\"\n",
    "    n=[]\n",
    "    try:\n",
    "        l = inp.split(\",\")\n",
    "        n = l[b:len(l)] + l[0:b]\n",
    "        return n\n",
    "    except:\n",
    "        print(\" Please enter the correct data type \")\n",
    "        \n",
    "arr_rotate(inp,inp1,len(inp))\n"
   ]
  },
  {
   "cell_type": "markdown",
   "id": "06f69460",
   "metadata": {},
   "source": [
    "### Q5:  Write a Python Program to check if given array is Monotonic?"
   ]
  },
  {
   "cell_type": "code",
   "execution_count": 18,
   "id": "b3221516",
   "metadata": {},
   "outputs": [
    {
     "name": "stdout",
     "output_type": "stream",
     "text": [
      " Please enter an array of numbers : 6,5,4,3,2,1\n"
     ]
    },
    {
     "data": {
      "text/plain": [
       "True"
      ]
     },
     "execution_count": 18,
     "metadata": {},
     "output_type": "execute_result"
    }
   ],
   "source": [
    "## Solution:\n",
    "\n",
    "inp = input(\" Please enter an array of numbers : \")\n",
    "\n",
    "def monoton(a):\n",
    "    m=[]\n",
    "    \"\"\"\n",
    "    This function takes in a list and checks if it is monotonic or not. It returns True if it is a monotic array and \n",
    "    False if it is not.\n",
    "    \"\"\"\n",
    "    l = inp.split(\",\")\n",
    "    try:\n",
    "        \n",
    "        for i in l:\n",
    "            m.append(int(i))\n",
    "        if m==sorted(m) or m== sorted(m, reverse=True):\n",
    "            return True\n",
    "        else:\n",
    "            return False\n",
    "        \n",
    "    except:\n",
    "        print(\" Please enter numbers in the array : \")\n",
    "        \n",
    "monoton(inp)\n",
    "    "
   ]
  }
 ],
 "metadata": {
  "kernelspec": {
   "display_name": "Python 3 (ipykernel)",
   "language": "python",
   "name": "python3"
  },
  "language_info": {
   "codemirror_mode": {
    "name": "ipython",
    "version": 3
   },
   "file_extension": ".py",
   "mimetype": "text/x-python",
   "name": "python",
   "nbconvert_exporter": "python",
   "pygments_lexer": "ipython3",
   "version": "3.8.8"
  }
 },
 "nbformat": 4,
 "nbformat_minor": 5
}
