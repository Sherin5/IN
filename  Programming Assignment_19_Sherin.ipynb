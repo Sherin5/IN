{
 "cells": [
  {
   "cell_type": "markdown",
   "id": "4ac98562",
   "metadata": {},
   "source": [
    "### Q1: Create a function that takes a string and returns a string in which each character is repeated once."
   ]
  },
  {
   "cell_type": "code",
   "execution_count": 4,
   "id": "70775574",
   "metadata": {},
   "outputs": [
    {
     "name": "stdout",
     "output_type": "stream",
     "text": [
      " Please enter the string : Hello World\n"
     ]
    },
    {
     "data": {
      "text/plain": [
       "'HHeelllloo  WWoorrlldd'"
      ]
     },
     "execution_count": 4,
     "metadata": {},
     "output_type": "execute_result"
    }
   ],
   "source": [
    "## Solution:\n",
    "inp = input(\" Please enter the string : \")\n",
    "def charac_rep(a):\n",
    "    return \"\".join([i*2 for i in a])\n",
    "charac_rep(inp)"
   ]
  },
  {
   "cell_type": "markdown",
   "id": "5830e529",
   "metadata": {},
   "source": [
    "### Q2: Create a function that reverses a boolean value and returns the string &quot;boolean expected&quot; if another variable type is given."
   ]
  },
  {
   "cell_type": "code",
   "execution_count": 7,
   "id": "65496f3a",
   "metadata": {},
   "outputs": [
    {
     "name": "stdout",
     "output_type": "stream",
     "text": [
      " Please enter the string : 0\n"
     ]
    },
    {
     "data": {
      "text/plain": [
       "'Boolean Expected'"
      ]
     },
     "execution_count": 7,
     "metadata": {},
     "output_type": "execute_result"
    }
   ],
   "source": [
    "## Solution:\n",
    "inp = input(\" Please enter the string : \")\n",
    "def boolean(a):\n",
    "    if a=='True':\n",
    "        return False\n",
    "    elif a== 'False':\n",
    "        return True\n",
    "    else:\n",
    "        return 'Boolean Expected'\n",
    "boolean(inp)"
   ]
  },
  {
   "cell_type": "markdown",
   "id": "74c1b9ae",
   "metadata": {},
   "source": [
    "### Q3: Create a function that returns the thickness (in meters) of a piece of paper after folding it n number of times. The paper starts off with a thickness of 0.5mm."
   ]
  },
  {
   "cell_type": "code",
   "execution_count": 5,
   "id": "53ef0c3d",
   "metadata": {},
   "outputs": [
    {
     "name": "stdout",
     "output_type": "stream",
     "text": [
      " Please enter the number of folds : 21\n"
     ]
    },
    {
     "data": {
      "text/plain": [
       "'1048.576m'"
      ]
     },
     "execution_count": 5,
     "metadata": {},
     "output_type": "execute_result"
    }
   ],
   "source": [
    "## Solution:\n",
    "\n",
    "inp = eval(input(\" Please enter the number of folds : \"))\n",
    "\n",
    "def folds(a):\n",
    "    c=0.5\n",
    "    s=0\n",
    "    for i in range(a):\n",
    "        s = c*2\n",
    "        c=s\n",
    "    return '{}m'.format(s/1000)\n",
    "folds(inp)"
   ]
  },
  {
   "cell_type": "markdown",
   "id": "bf4fe7e2",
   "metadata": {},
   "source": [
    "### Q4: Create a function that takes a single string as argument and returns an ordered list containing the indices of all capital letters in the string."
   ]
  },
  {
   "cell_type": "code",
   "execution_count": 12,
   "id": "77f26abb",
   "metadata": {},
   "outputs": [
    {
     "name": "stdout",
     "output_type": "stream",
     "text": [
      " Please enter the string : sUn\n"
     ]
    },
    {
     "data": {
      "text/plain": [
       "[1]"
      ]
     },
     "execution_count": 12,
     "metadata": {},
     "output_type": "execute_result"
    }
   ],
   "source": [
    "## Solution:\n",
    "\n",
    "inp = input(\" Please enter the string : \")\n",
    "\n",
    "def cap_ord(a):\n",
    "        return [i for i in range(len(a)) if a[i].isupper()]\n",
    "cap_ord(inp)"
   ]
  },
  {
   "cell_type": "markdown",
   "id": "12290dd6",
   "metadata": {},
   "source": [
    "### Q5: Using list comprehensions, create a function that finds all even numbers from 1 to the given number."
   ]
  },
  {
   "cell_type": "code",
   "execution_count": 14,
   "id": "10362e92",
   "metadata": {},
   "outputs": [
    {
     "name": "stdout",
     "output_type": "stream",
     "text": [
      " Please enter the max number : 8\n"
     ]
    },
    {
     "data": {
      "text/plain": [
       "[2, 4, 6, 8]"
      ]
     },
     "execution_count": 14,
     "metadata": {},
     "output_type": "execute_result"
    }
   ],
   "source": [
    "## Solution:\n",
    "\n",
    "inp = eval(input(\" Please enter the max number : \"))\n",
    "\n",
    "def even_max(a):\n",
    "    return [i for i in range(1,a+1) if i%2==0]\n",
    "even_max(inp)"
   ]
  }
 ],
 "metadata": {
  "kernelspec": {
   "display_name": "Python 3",
   "language": "python",
   "name": "python3"
  },
  "language_info": {
   "codemirror_mode": {
    "name": "ipython",
    "version": 3
   },
   "file_extension": ".py",
   "mimetype": "text/x-python",
   "name": "python",
   "nbconvert_exporter": "python",
   "pygments_lexer": "ipython3",
   "version": "3.8.8"
  }
 },
 "nbformat": 4,
 "nbformat_minor": 5
}
