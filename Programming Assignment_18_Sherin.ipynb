{
 "cells": [
  {
   "cell_type": "markdown",
   "id": "7ac169c1",
   "metadata": {},
   "source": [
    "### Q1: Create a function that takes a list of non-negative integers and strings and return a new list without the strings."
   ]
  },
  {
   "cell_type": "code",
   "execution_count": 3,
   "id": "17a9dfa7",
   "metadata": {},
   "outputs": [
    {
     "name": "stdout",
     "output_type": "stream",
     "text": [
      "Please enter the list : [1,2,'a','b']\n"
     ]
    },
    {
     "data": {
      "text/plain": [
       "[1, 2]"
      ]
     },
     "execution_count": 3,
     "metadata": {},
     "output_type": "execute_result"
    }
   ],
   "source": [
    "## Solution:\n",
    "\n",
    "inp = eval(input(\"Please enter the list : \"))\n",
    "\n",
    "def fil_lis(a):\n",
    "    return list(filter(lambda x : str(x).isnumeric(), a))\n",
    "fil_lis(inp)"
   ]
  },
  {
   "cell_type": "markdown",
   "id": "fc484d5e",
   "metadata": {},
   "source": [
    "### Q2: The &quot;Reverser&quot; takes a string as input and returns that string in reverse order, with the opposite case."
   ]
  },
  {
   "cell_type": "code",
   "execution_count": 19,
   "id": "84158986",
   "metadata": {},
   "outputs": [
    {
     "name": "stdout",
     "output_type": "stream",
     "text": [
      " Please enter the string : 'Hello World'\n"
     ]
    },
    {
     "data": {
      "text/plain": [
       "'DLROw OLLEh'"
      ]
     },
     "execution_count": 19,
     "metadata": {},
     "output_type": "execute_result"
    }
   ],
   "source": [
    "## Solution:\n",
    "\n",
    "inp = input(\" Please enter the string : \")\n",
    "\n",
    "def reverser(a):\n",
    "    b=\"\"\n",
    "    return eval(''.join([ i.upper() if i.islower() else i.lower() for i in a[::-1] ]))\n",
    "reverser(inp)"
   ]
  },
  {
   "cell_type": "markdown",
   "id": "31db16c3",
   "metadata": {},
   "source": [
    "### Q3: Your task is to unpack the list writeyourcodehere into three variables, being first, middle, and last, with middle being everything in between the first and last element. Then print all three variables."
   ]
  },
  {
   "cell_type": "code",
   "execution_count": 21,
   "id": "308b4c0c",
   "metadata": {},
   "outputs": [
    {
     "name": "stdout",
     "output_type": "stream",
     "text": [
      " Please enter the list : [1,2,3,4,5,6,7]\n"
     ]
    },
    {
     "data": {
      "text/plain": [
       "'first is 1, middle is [2, 3, 4, 5, 6] and last is 7'"
      ]
     },
     "execution_count": 21,
     "metadata": {},
     "output_type": "execute_result"
    }
   ],
   "source": [
    "## Solution:\n",
    "\n",
    "inp = eval(input(\" Please enter the list : \"))\n",
    "\n",
    "def unpac(a):\n",
    "    first = a[0]\n",
    "    last = a[-1]\n",
    "    middle = a[1:-1]\n",
    "    return 'first is {}, middle is {} and last is {}'.format( first, middle, last)\n",
    "unpac(inp)"
   ]
  },
  {
   "cell_type": "markdown",
   "id": "c75f54b3",
   "metadata": {},
   "source": [
    "### Q4: Write a function that calculates the factorial of a number recursively."
   ]
  },
  {
   "cell_type": "code",
   "execution_count": 28,
   "id": "69e54887",
   "metadata": {},
   "outputs": [
    {
     "name": "stdout",
     "output_type": "stream",
     "text": [
      " please enter the number to calculate factorial : 3\n"
     ]
    },
    {
     "data": {
      "text/plain": [
       "6"
      ]
     },
     "execution_count": 28,
     "metadata": {},
     "output_type": "execute_result"
    }
   ],
   "source": [
    "## Solution:\n",
    "\n",
    "inp = eval(input(\" please enter the number to calculate factorial : \"))\n",
    "\n",
    "def fact(a):\n",
    "    if a==1:\n",
    "        return 1\n",
    "    else:\n",
    "        return (a*fact(a-1))\n",
    "fact(inp)"
   ]
  },
  {
   "cell_type": "markdown",
   "id": "85977396",
   "metadata": {},
   "source": [
    "### Q5: Write a function that moves all elements of one type to the end of the list. "
   ]
  },
  {
   "cell_type": "code",
   "execution_count": 41,
   "id": "3605ef60",
   "metadata": {},
   "outputs": [
    {
     "name": "stdout",
     "output_type": "stream",
     "text": [
      " please enter the list and identifier : [7, 8, 9, 1, 2, 3, 4], 9\n"
     ]
    },
    {
     "data": {
      "text/plain": [
       "[7, 8, 1, 2, 3, 4, 9]"
      ]
     },
     "execution_count": 41,
     "metadata": {},
     "output_type": "execute_result"
    }
   ],
   "source": [
    "## Solution:\n",
    "\n",
    "inp = eval(input(\" please enter the list and identifier : \"))\n",
    "\n",
    "def move_end(a,b):\n",
    "    for i in a:\n",
    "        if i==b:\n",
    "            a.insert(len(a),i)\n",
    "            a.pop(a.index(i))\n",
    "    return a\n",
    "move_end(inp[0], inp[1])"
   ]
  }
 ],
 "metadata": {
  "kernelspec": {
   "display_name": "Python 3",
   "language": "python",
   "name": "python3"
  },
  "language_info": {
   "codemirror_mode": {
    "name": "ipython",
    "version": 3
   },
   "file_extension": ".py",
   "mimetype": "text/x-python",
   "name": "python",
   "nbconvert_exporter": "python",
   "pygments_lexer": "ipython3",
   "version": "3.8.8"
  }
 },
 "nbformat": 4,
 "nbformat_minor": 5
}
