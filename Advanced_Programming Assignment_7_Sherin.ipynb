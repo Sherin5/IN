{
 "cells": [
  {
   "cell_type": "markdown",
   "id": "754d057b",
   "metadata": {},
   "source": [
    "### Q1: Write a function that counts how many concentric layers a rug."
   ]
  },
  {
   "cell_type": "code",
   "execution_count": 11,
   "id": "4da5f75c",
   "metadata": {},
   "outputs": [
    {
     "name": "stdout",
     "output_type": "stream",
     "text": [
      " Please enter the layers separated by comma : AAAAAAAAA, ABBBBBBBA, ABBAAABBA, ABBBBBBBA, AAAAAAAAA\n"
     ]
    },
    {
     "data": {
      "text/plain": [
       "3"
      ]
     },
     "execution_count": 11,
     "metadata": {},
     "output_type": "execute_result"
    }
   ],
   "source": [
    "## Solution:\n",
    "inp = input(\" Please enter the layers separated by comma : \")\n",
    "\n",
    "def count_layers(x):\n",
    "    \"\"\"\n",
    "    This function counts the number of layers there are in a rug. \n",
    "    \"\"\"\n",
    "    l = set(inp.split(\",\"))\n",
    "    s = set()\n",
    "    cnt = 0\n",
    "    for i in l:\n",
    "        s.add(i.strip().strip('\"'))\n",
    "    for j in s:\n",
    "        cnt+=1\n",
    "    return cnt\n",
    "\n",
    "\n",
    "count_layers(inp)\n",
    "    "
   ]
  },
  {
   "cell_type": "markdown",
   "id": "83439524",
   "metadata": {},
   "source": [
    "### Q2: There are many different styles of music and many albums exhibit multiple styles. Create a function that takes a list of musical styles from albums and returns how many styles are unique."
   ]
  },
  {
   "cell_type": "code",
   "execution_count": null,
   "id": "da5c5443",
   "metadata": {},
   "outputs": [],
   "source": [
    "## Solution:\n",
    "\n",
    "inp = input(\" Please enter the styles of music : \")\n",
    "\n",
    "def unique_style(x):\n",
    "    \"\"\"\n",
    "    This function takes in a number of music styles and provides a unique list of all the musical styles\n",
    "    \"\"\"\n",
    "    l = inp.split(\",\")\n",
    "    s= set()\n",
    "    cnt=0\n",
    "    for i in l:\n",
    "        s.add(i.strip().lower().strip('\"'))\n",
    "    for j in s:\n",
    "        cnt+=1\n",
    "    return cnt\n",
    "\n",
    "unique_style(inp)"
   ]
  },
  {
   "cell_type": "markdown",
   "id": "706e8cbf",
   "metadata": {},
   "source": [
    "### Q3: Create a function that finds a target number in a list of prime numbers. Implement a binary search algorithm in your function. The target number will be from 2 through 97. If the target is prime then return &quot;yes&quot; else return &quot;no&quot;."
   ]
  },
  {
   "cell_type": "code",
   "execution_count": 21,
   "id": "95d3d03f",
   "metadata": {},
   "outputs": [
    {
     "name": "stdout",
     "output_type": "stream",
     "text": [
      " Please enter a number between 1 and 97 to check if it's a prime number : 36\n"
     ]
    },
    {
     "data": {
      "text/plain": [
       "'No'"
      ]
     },
     "execution_count": 21,
     "metadata": {},
     "output_type": "execute_result"
    }
   ],
   "source": [
    "## Solution:\n",
    "\n",
    "inp = input(\" Please enter a number between 1 and 97 to check if it's a prime number : \")\n",
    "\n",
    "def prime(x):\n",
    "    \"\"\"\n",
    "    This function finds out if a given number is a prime number between 1 and 97\n",
    "\n",
    "    \"\"\"\n",
    "    try:\n",
    "        x = int(inp)\n",
    "        l=[]\n",
    "        cnt=0\n",
    "        for i in range(2, 98):\n",
    "            for j in range(2, i):\n",
    "                if i%j==0:\n",
    "                    break\n",
    "            else:\n",
    "                l.append(i)\n",
    "        if x in l:\n",
    "            return \"Yes\"\n",
    "        else:\n",
    "            return \"No\"\n",
    "    except:\n",
    "        print(\" Please enter an integer between 1 and 97\")\n",
    "                \n",
    "\n",
    "\n",
    "prime(inp)"
   ]
  },
  {
   "cell_type": "markdown",
   "id": "756543c2",
   "metadata": {},
   "source": [
    "### Q4: Create a function that takes in n, a, b and returns the number of positive values raised to the nth power that lie in the range [a, b], inclusive."
   ]
  },
  {
   "cell_type": "code",
   "execution_count": 34,
   "id": "4f2a3cd6",
   "metadata": {},
   "outputs": [
    {
     "name": "stdout",
     "output_type": "stream",
     "text": [
      " Please enter the integer to raise to do the power of : 3\n",
      " Please enter the lower limit : 1\n",
      " Please enter the upper limit (should be greater than lower limit): 27\n"
     ]
    },
    {
     "data": {
      "text/plain": [
       "(3, [1, 8, 27])"
      ]
     },
     "execution_count": 34,
     "metadata": {},
     "output_type": "execute_result"
    }
   ],
   "source": [
    "## Solution:\n",
    "\n",
    "inp = input(\" Please enter the integer to raise to do the power of : \")\n",
    "inp1 = input(\" Please enter the lower limit : \")\n",
    "inp2 = input(\" Please enter the upper limit (should be greater than lower limit): \")\n",
    "\n",
    "def power_ranger(a,b,c):\n",
    "    \"\"\"\n",
    "    \n",
    "    This function returns all the positive values between two numbers that are provided by the user\n",
    "    \"\"\"\n",
    "    l=[]\n",
    "    try:\n",
    "        a = int(inp)\n",
    "        b = int(inp1)\n",
    "        c = int(inp2)\n",
    "    except:\n",
    "        print(\" Please enter integers \")\n",
    "        \n",
    "    for i in range(1,c):\n",
    "        if b<= i**a <= c:\n",
    "            l.append(i**a)\n",
    "    return len(l), l \n",
    "\n",
    "power_ranger(inp, inp1, inp2)\n",
    "        \n",
    "        \n"
   ]
  },
  {
   "cell_type": "markdown",
   "id": "9c190a59",
   "metadata": {},
   "source": [
    "### Q5: Given a number, return the difference between the maximum and minimum numbers that can be formed when the digits are rearranged."
   ]
  },
  {
   "cell_type": "code",
   "execution_count": 51,
   "id": "8666723f",
   "metadata": {},
   "outputs": [
    {
     "name": "stdout",
     "output_type": "stream",
     "text": [
      " Please enter the number as an integer : 972882\n"
     ]
    },
    {
     "data": {
      "text/plain": [
       "760833"
      ]
     },
     "execution_count": 51,
     "metadata": {},
     "output_type": "execute_result"
    }
   ],
   "source": [
    "## Solution:\n",
    "\n",
    "inp = input(\" Please enter the number as an integer : \")\n",
    "\n",
    "def rearranged(a):\n",
    "    \"\"\"\n",
    "    This function takes in 2 integers and then finds out the difference between the two when the elements are rearranged\n",
    "    \"\"\"\n",
    "    l = []\n",
    "    try:\n",
    "        \n",
    "        for i in a:\n",
    "            l.append(int(i))\n",
    "        m = sorted(l)\n",
    "        n = sorted(l, reverse=True)\n",
    "        small = \"\"\n",
    "        large=\"\"\n",
    "        for j in n:\n",
    "            large = large+str(j)\n",
    "        for k in m:\n",
    "            small = small+str(k)\n",
    "        diff = int(large) - int(small)\n",
    "        return diff   \n",
    "    except:\n",
    "        print(\" Please enter a valid integer \")\n",
    "        \n",
    "rearranged(inp)\n",
    "\n"
   ]
  },
  {
   "cell_type": "code",
   "execution_count": null,
   "id": "fd17a49b",
   "metadata": {},
   "outputs": [],
   "source": []
  }
 ],
 "metadata": {
  "kernelspec": {
   "display_name": "Python 3 (ipykernel)",
   "language": "python",
   "name": "python3"
  },
  "language_info": {
   "codemirror_mode": {
    "name": "ipython",
    "version": 3
   },
   "file_extension": ".py",
   "mimetype": "text/x-python",
   "name": "python",
   "nbconvert_exporter": "python",
   "pygments_lexer": "ipython3",
   "version": "3.8.8"
  }
 },
 "nbformat": 4,
 "nbformat_minor": 5
}
