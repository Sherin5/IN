{
 "cells": [
  {
   "cell_type": "markdown",
   "id": "44dbf36e",
   "metadata": {},
   "source": [
    "### Q1: Given a sentence, return the number of words which have the same first and last letter."
   ]
  },
  {
   "cell_type": "code",
   "execution_count": 12,
   "id": "1d57d0ba",
   "metadata": {},
   "outputs": [
    {
     "name": "stdout",
     "output_type": "stream",
     "text": [
      " Please enter the sentence : 'Pop! goes the balloon'\n",
      "['Pop', 'goes', 'the', 'balloon']\n"
     ]
    },
    {
     "data": {
      "text/plain": [
       "1"
      ]
     },
     "execution_count": 12,
     "metadata": {},
     "output_type": "execute_result"
    }
   ],
   "source": [
    "## Solution:\n",
    "\n",
    "inp = eval(input(\" Please enter the sentence in quotes : \"))\n",
    "import re\n",
    "def same_letter(a):\n",
    "    \"\"\"\n",
    "    This function takes in a list and returns the count of words which have the same first and last letter\n",
    "    \"\"\"\n",
    "    b= re.sub('\\W+', \" \", a).split(\" \")\n",
    "    cnt=0\n",
    "    for i in b:\n",
    "        if len(i)>1:\n",
    "            if i[0].lower() == i[-1].lower():\n",
    "                cnt+=1\n",
    "    return cnt\n",
    "same_letter(inp)"
   ]
  },
  {
   "cell_type": "markdown",
   "id": "00e7a139",
   "metadata": {},
   "source": [
    "### Q2: The Atbash cipher is an encryption method in which each letter of a word is replaced with its &quot;mirror&quot; letter in the alphabet: A &lt;=&gt; Z; B &lt;=&gt; Y; C &lt;=&gt; X; etc.\n",
    "\n",
    "Create a function that takes a string and applies the Atbash cipher to it."
   ]
  },
  {
   "cell_type": "code",
   "execution_count": 43,
   "id": "b6b424ec",
   "metadata": {},
   "outputs": [
    {
     "name": "stdout",
     "output_type": "stream",
     "text": [
      " Please enter the string in quotes : 'Christmas is the 25th of December'\n"
     ]
    },
    {
     "data": {
      "text/plain": [
       "'Xsirhgnzh rh gsv 25gs lu Wvxvnyvi'"
      ]
     },
     "execution_count": 43,
     "metadata": {},
     "output_type": "execute_result"
    }
   ],
   "source": [
    "## Solution:\n",
    "inp = eval(input(\" Please enter the string in quotes : \"))\n",
    "\n",
    "def atbash(a):\n",
    "    \"\"\"\n",
    "    This function takes in a string and converts it into a atbash cipher\n",
    "    \"\"\"\n",
    "    f=\"\"\n",
    "    for i in a:\n",
    "        if i.isalpha():\n",
    "            c=chr(122-(ord(i.lower())-97))\n",
    "            if i.isupper():\n",
    "                f+=c.upper()\n",
    "            else:\n",
    "                f+=c\n",
    "        else:\n",
    "            f+=i\n",
    "    return f\n",
    "atbash(inp)"
   ]
  },
  {
   "cell_type": "markdown",
   "id": "52f51601",
   "metadata": {},
   "source": [
    "### Q3: Create a class Employee that will take a full name as argument, as well as a set of none, one or more keywords. Each instance should have a name and a lastname attributes plus one more attribute for each of the keywords, if any."
   ]
  },
  {
   "cell_type": "code",
   "execution_count": 147,
   "id": "dd131501",
   "metadata": {},
   "outputs": [],
   "source": [
    "## Solution: \n",
    "\n",
    "class Employee:\n",
    "    def __init__(self, fullname, **kwargs):\n",
    "        self.fullname = fullname\n",
    "        self.__dict__.update(kwargs)\n",
    "\n",
    "    def name(self):\n",
    "        print(self.fullname.split(\" \")[0])\n",
    "        \n",
    "    def lastname(self):\n",
    "        print(self.fullname.split(\" \")[1])\n",
    "        \n",
    "    def Salary(self):\n",
    "        for k, v in self.__dict__.items():\n",
    "            if k=='salary':\n",
    "                print(f\"{v}\")\n",
    "                \n",
    "    def Height(self):\n",
    "        for k, v in self.__dict__.items():\n",
    "            if k=='height':\n",
    "                print(f\"{v}\")\n",
    "                \n",
    "    def Nationality(self):\n",
    "        for k, v in self.__dict__.items():\n",
    "            if k=='nationality':\n",
    "                print(f\"{v}\")\n",
    "                "
   ]
  },
  {
   "cell_type": "code",
   "execution_count": 148,
   "id": "82a098e1",
   "metadata": {},
   "outputs": [
    {
     "name": "stdout",
     "output_type": "stream",
     "text": [
      "Sherin\n",
      "Thomas\n",
      "1000000\n",
      "180\n"
     ]
    }
   ],
   "source": [
    "sherin = Employee(\"Sherin Thomas\", salary=1000000, height=180)\n",
    "sherin.name()\n",
    "sherin.lastname()\n",
    "sherin.Salary()\n",
    "sherin.Height()"
   ]
  },
  {
   "cell_type": "markdown",
   "id": "2b3e553a",
   "metadata": {},
   "source": [
    "### Q4: Create a function that determines whether each seat can &quot;see&quot; the front-stage. A number can &quot;see&quot; the front-stage if it is strictly greater than the number before it. \n",
    "\n",
    "Everyone can see the front-stage in the example below:\n",
    "\n",
    "# FRONT STAGE\n",
    "[[1, 2, 3, 2, 1, 1],\n",
    "[2, 4, 4, 3, 2, 2],\n",
    "[5, 5, 5, 5, 4, 4],\n",
    "[6, 6, 7, 6, 5, 5]]"
   ]
  },
  {
   "cell_type": "code",
   "execution_count": 144,
   "id": "d30df997",
   "metadata": {},
   "outputs": [
    {
     "name": "stdout",
     "output_type": "stream",
     "text": [
      " Please enter the lists : [ [0, 0, 0], [1, 1, 1], [2, 2, 2] ]\n"
     ]
    },
    {
     "data": {
      "text/plain": [
       "True"
      ]
     },
     "execution_count": 144,
     "metadata": {},
     "output_type": "execute_result"
    }
   ],
   "source": [
    "## Solution:\n",
    "inp = eval(input(\" Please enter the lists : \"))\n",
    "\n",
    "def see_stage(a):\n",
    "    \"\"\"\n",
    "    This function checks if all the seats can see the front-stage\n",
    "    \"\"\"\n",
    "    \n",
    "    for i in range(len(a[0])):\n",
    "        k=-1\n",
    "        for j in a:\n",
    "            if j[i] <= k:\n",
    "                return False\n",
    "            else:\n",
    "                k=j[i]\n",
    "    else:\n",
    "        return True\n",
    "see_stage(inp)\n",
    "            "
   ]
  },
  {
   "cell_type": "markdown",
   "id": "ed9bb7f0",
   "metadata": {},
   "source": [
    "### Q5: Create a Pizza class with the attributes order_number and ingredients (which is given as a list). Only the ingredients will be given as input.\n",
    "\n",
    "You should also make it so that its possible to choose a ready made pizza flavour rather than typing out the ingredients manually! As well as creating this Pizza class, hard-code the following pizza flavours.\n",
    "\n",
    "Name Ingredients\n",
    "hawaiian ham, pineapple\n",
    "meat_festival beef, meatball, bacon\n",
    "garden_feast spinach, olives, mushroom"
   ]
  },
  {
   "cell_type": "code",
   "execution_count": 172,
   "id": "06fabad6",
   "metadata": {},
   "outputs": [],
   "source": [
    "## Solution:\n",
    "\n",
    "class pizza:\n",
    "    count = 0\n",
    "    def hawaiian(defa=0):\n",
    "        print(['ham', 'pineapple'])\n",
    "        \n",
    "    def meat_festival(defa=0):\n",
    "        print(['beef', 'meatball', 'bacon'])\n",
    "        \n",
    "    def garden_feast(defa=0):\n",
    "        print(['spinach', 'olives', 'mushroom'])\n",
    "    \n",
    "    def __init__(self, *args):\n",
    "        self.args = args\n",
    "        pizza.count+=1\n",
    "        \n",
    "    def order_number(self):\n",
    "        print(pizza.count) \n",
    "    \n",
    "    def ingredients(self):\n",
    "        if type(self.args)== list:\n",
    "            print(self.args)\n",
    "    \n",
    "    def order_number(self):\n",
    "        print(pizza.count)\n",
    "    "
   ]
  },
  {
   "cell_type": "code",
   "execution_count": 159,
   "id": "72822c49",
   "metadata": {},
   "outputs": [],
   "source": [
    "p1 = pizza(['bacon', 'parmesan', 'ham'])"
   ]
  },
  {
   "cell_type": "code",
   "execution_count": 160,
   "id": "da3c8a5f",
   "metadata": {},
   "outputs": [
    {
     "name": "stdout",
     "output_type": "stream",
     "text": [
      "1\n"
     ]
    }
   ],
   "source": [
    "p1.order_number()"
   ]
  }
 ],
 "metadata": {
  "kernelspec": {
   "display_name": "Python 3",
   "language": "python",
   "name": "python3"
  },
  "language_info": {
   "codemirror_mode": {
    "name": "ipython",
    "version": 3
   },
   "file_extension": ".py",
   "mimetype": "text/x-python",
   "name": "python",
   "nbconvert_exporter": "python",
   "pygments_lexer": "ipython3",
   "version": "3.8.8"
  }
 },
 "nbformat": 4,
 "nbformat_minor": 5
}
