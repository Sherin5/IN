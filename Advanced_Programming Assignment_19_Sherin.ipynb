{
 "cells": [
  {
   "cell_type": "markdown",
   "id": "679222f0",
   "metadata": {},
   "source": [
    "### Q1: Create a checker board generator, which takes as inputs n and 2 elements to generate an n x n checkerboard with those two elements as alternating squares."
   ]
  },
  {
   "cell_type": "code",
   "execution_count": 106,
   "id": "b4a830a6",
   "metadata": {},
   "outputs": [
    {
     "name": "stdout",
     "output_type": "stream",
     "text": [
      " Please enter the grid size, and the elements separated by comma : 4,C,C\n"
     ]
    },
    {
     "data": {
      "text/plain": [
       "'Invalid'"
      ]
     },
     "execution_count": 106,
     "metadata": {},
     "output_type": "execute_result"
    }
   ],
   "source": [
    "## Solution:\n",
    "\n",
    "inp  = input(\" Please enter the grid size, and the elements separated by comma : \").split(\",\")\n",
    "\n",
    "\n",
    "def grid_generator(a):\n",
    "    \"\"\"\n",
    "    This function generates a grid and fills it with the provided inputs\n",
    "    \"\"\"\n",
    "    d={}\n",
    "    c=(a[1]+a[2])\n",
    "    cnt=0\n",
    "    s , r = a[1], a[2]\n",
    "    if a[1]==a[2]:\n",
    "        return \"Invalid\"\n",
    "    for i in range(int(a[0])):\n",
    "        cnt+=1\n",
    "        if i%2==0:\n",
    "            s , r = a[1], a[2]\n",
    "        else:\n",
    "            s , r = a[2], a[1]\n",
    "        for j in range(len(c)):\n",
    "            d.setdefault(cnt,[]).append(s)\n",
    "            if len(d[cnt])>=int(a[0]):\n",
    "                break\n",
    "            d.setdefault(cnt,[]).append(r)\n",
    "            if len(d[cnt])==int(a[0]):\n",
    "                break\n",
    "    return list(d.values())\n",
    "grid_generator(inp)"
   ]
  },
  {
   "cell_type": "markdown",
   "id": "db92c27c",
   "metadata": {},
   "source": [
    "### Q2: A string is an almost-palindrome if, by changing only one character, you can make it a palindrome. Create a function that returns True if a string is an almost-palindrome and False otherwise."
   ]
  },
  {
   "cell_type": "code",
   "execution_count": 113,
   "id": "17440eb1",
   "metadata": {},
   "outputs": [
    {
     "name": "stdout",
     "output_type": "stream",
     "text": [
      " Please enter the string to check within quotes : 'abcdcbg'\n"
     ]
    },
    {
     "data": {
      "text/plain": [
       "True"
      ]
     },
     "execution_count": 113,
     "metadata": {},
     "output_type": "execute_result"
    }
   ],
   "source": [
    "## Solution:\n",
    "\n",
    "inp = eval(input(\" Please enter the string to check within quotes : \"))\n",
    "\n",
    "def alm_palindrome(a):\n",
    "    \"\"\"\n",
    "    This function takes in a string and checks if it can be transformed into a palindrome by changing just one element\n",
    "    \"\"\"\n",
    "    cnt =0\n",
    "    for i in range(int(len(a)/2)):\n",
    "        if a[i]==a[-i-1]:\n",
    "            pass\n",
    "        else:\n",
    "            cnt+=1\n",
    "    if cnt <=1:\n",
    "        return True\n",
    "    elif cnt > 1:\n",
    "        return False\n",
    "alm_palindrome(inp)"
   ]
  },
  {
   "cell_type": "markdown",
   "id": "105a747a",
   "metadata": {},
   "source": [
    "### Q3: Create a function that finds how many prime numbers there are, up to the given integer."
   ]
  },
  {
   "cell_type": "code",
   "execution_count": 125,
   "id": "a7dbd0d2",
   "metadata": {},
   "outputs": [
    {
     "name": "stdout",
     "output_type": "stream",
     "text": [
      " Please enter the number upto which you want prime numbers : 30\n"
     ]
    },
    {
     "data": {
      "text/plain": [
       "10"
      ]
     },
     "execution_count": 125,
     "metadata": {},
     "output_type": "execute_result"
    }
   ],
   "source": [
    "## Solution:\n",
    "\n",
    "inp = eval(input(\" Please enter the number upto which you want prime numbers : \"))\n",
    "\n",
    "def primo(a):\n",
    "    \"\"\"\n",
    "    This function takes in an integer and find out how many prime numbers there are till the number\n",
    "    \"\"\"\n",
    "    l = []\n",
    "    for i in range(2, a):\n",
    "        for j in range(2, i):\n",
    "            if i%j==0:\n",
    "                break\n",
    "        else:\n",
    "            l.append(i)\n",
    "    return len(l)\n",
    "primo(inp)"
   ]
  },
  {
   "cell_type": "markdown",
   "id": "24ebfe3e",
   "metadata": {},
   "source": [
    "### Q4: If today was Monday, in two days, it would be Wednesday.  Create a function that takes in a list of days as input and the number of days to increment by. Return a list of days after n number of days has passed."
   ]
  },
  {
   "cell_type": "code",
   "execution_count": 130,
   "id": "3a02ed8a",
   "metadata": {},
   "outputs": [
    {
     "name": "stdout",
     "output_type": "stream",
     "text": [
      " Please enter the list of values and the increment number separated by comma : ['Monday', 'Tuesday', 'Friday'], 1\n"
     ]
    },
    {
     "data": {
      "text/plain": [
       "['Tuesday', 'Wednesday', 'Saturday']"
      ]
     },
     "execution_count": 130,
     "metadata": {},
     "output_type": "execute_result"
    }
   ],
   "source": [
    "## Solution:\n",
    "\n",
    "inp, inp1 = eval(input(\" Please enter the list of values and the increment number separated by comma : \"))\n",
    "def weekday(a,b):\n",
    "    \"\"\"\n",
    "    This function takes in days and the increment to find the resulting day\n",
    "    \"\"\"\n",
    "    d1 = {\"SUNDAY\": 1, \"MONDAY\":2,'TUESDAY':3, 'WEDNESDAY':4,'THURSDAY':5,'FRIDAY':6,'SATURDAY':7}\n",
    "    d2 = {1:\"SUNDAY\", 2:\"MONDAY\", 3:'TUESDAY',4:'WEDNESDAY',5:'THURSDAY',6:'FRIDAY',7:'SATURDAY'}\n",
    "    l=[]\n",
    "    for i in a:\n",
    "        c = d1[i.upper()] + b\n",
    "        if c> 7:\n",
    "            l.append(d2[c-7].capitalize())\n",
    "        else:\n",
    "            l.append(d2[c].capitalize())\n",
    "    return l\n",
    "weekday(inp,inp1)"
   ]
  },
  {
   "cell_type": "markdown",
   "id": "c788283b",
   "metadata": {},
   "source": [
    "### Q5: You are in the process of creating a chat application and want to add an anonymous name feature. This anonymous name feature will create an alias that consists of two capitalized words beginning with the same letter as the users first name.\n",
    "\n",
    "Create a function that determines if the list of users is mapped to a list of\n",
    "anonymous names correctly."
   ]
  },
  {
   "cell_type": "code",
   "execution_count": 140,
   "id": "e72da6ad",
   "metadata": {},
   "outputs": [
    {
     "name": "stdout",
     "output_type": "stream",
     "text": [
      " Please enter the list of names and aliases separated by comma : ['Rachel F.', 'Pam G.', 'Fred Z.', 'Nancy K.'], ['Reassuring Rat', 'Peaceful Panda', 'Fantastic Frog', 'Notable Nickel']\n"
     ]
    },
    {
     "data": {
      "text/plain": [
       "True"
      ]
     },
     "execution_count": 140,
     "metadata": {},
     "output_type": "execute_result"
    }
   ],
   "source": [
    "## Solution:\n",
    "\n",
    "inp,inp1 = eval(input(\" Please enter the list of names and aliases separated by comma : \")) \n",
    "\n",
    "def aliases(a,b):\n",
    "    \"\"\"\n",
    "    This function takes in list and returns true if they have matching aliases.\n",
    "    \"\"\"\n",
    "    for i in range(len(a)):\n",
    "        for j in b:\n",
    "            if a[i][0]== j.split(\" \")[0][0] and a[i][0]== j.split(\" \")[1][0]:\n",
    "                break\n",
    "        else:\n",
    "            return False\n",
    "    return True\n",
    "aliases(inp,inp1)"
   ]
  }
 ],
 "metadata": {
  "kernelspec": {
   "display_name": "Python 3",
   "language": "python",
   "name": "python3"
  },
  "language_info": {
   "codemirror_mode": {
    "name": "ipython",
    "version": 3
   },
   "file_extension": ".py",
   "mimetype": "text/x-python",
   "name": "python",
   "nbconvert_exporter": "python",
   "pygments_lexer": "ipython3",
   "version": "3.8.8"
  }
 },
 "nbformat": 4,
 "nbformat_minor": 5
}
