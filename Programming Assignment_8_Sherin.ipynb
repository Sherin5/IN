{
 "cells": [
  {
   "cell_type": "markdown",
   "id": "e53a89de",
   "metadata": {},
   "source": [
    "### Q1: Write a Python Program to Add Two Matrices?"
   ]
  },
  {
   "cell_type": "code",
   "execution_count": 8,
   "id": "907be082",
   "metadata": {},
   "outputs": [
    {
     "name": "stdout",
     "output_type": "stream",
     "text": [
      "Enter the matrix1 as list : [[12,7,3],     [4 ,5,6],     [7 ,8,9]]\n",
      "Enter the matrix 2 as list : [[5,8,1],     [6,7,3],     [4,5,9]]\n"
     ]
    },
    {
     "data": {
      "text/plain": [
       "[17, 15, 4, 10, 12, 9, 11, 13, 18]"
      ]
     },
     "execution_count": 8,
     "metadata": {},
     "output_type": "execute_result"
    }
   ],
   "source": [
    "## Solution:\n",
    "\n",
    "inp= eval(input(\"Enter the matrix1 as list : \"))\n",
    "inp1 = eval(input(\"Enter the matrix 2 as list : \"))\n",
    "\n",
    "def add_matrix(a,b):\n",
    "    final = [a[i][j]+b[i][j]  for i in range(len(a)) for j in range(len(a[0]))]\n",
    "    return final\n",
    "add_matrix(inp,inp1)"
   ]
  },
  {
   "cell_type": "markdown",
   "id": "6ff10e2e",
   "metadata": {},
   "source": [
    "### Q2: Write a Python Program to Multiply Two Matrices?"
   ]
  },
  {
   "cell_type": "code",
   "execution_count": 2,
   "id": "a14532c1",
   "metadata": {},
   "outputs": [
    {
     "name": "stdout",
     "output_type": "stream",
     "text": [
      "Enter the matrix1 as list : [[5,8,1],     [6,7,3],     [4,5,9]]\n",
      "Enter the matrix 2 as list : [[12,7,3],     [4 ,5,6],     [7 ,8,9]]\n"
     ]
    },
    {
     "data": {
      "text/plain": [
       "[60, 56, 3, 24, 35, 18, 28, 40, 81]"
      ]
     },
     "execution_count": 2,
     "metadata": {},
     "output_type": "execute_result"
    }
   ],
   "source": [
    "## Solution:\n",
    "\n",
    "inp= eval(input(\"Enter the matrix1 as list : \"))\n",
    "inp1 = eval(input(\"Enter the matrix 2 as list : \"))\n",
    "\n",
    "def add_matrix(a,b):\n",
    "    final = [a[i][j]*b[i][j]  for i in range(len(a)) for j in range(len(a[0]))]\n",
    "    return final\n",
    "add_matrix(inp,inp1)"
   ]
  },
  {
   "cell_type": "markdown",
   "id": "30af6f30",
   "metadata": {},
   "source": [
    "### Q3: Write a Python Program to Transpose a Matrix?"
   ]
  },
  {
   "cell_type": "code",
   "execution_count": 46,
   "id": "d0143ffa",
   "metadata": {},
   "outputs": [
    {
     "name": "stdout",
     "output_type": "stream",
     "text": [
      "Enter the matrix1 as list : [[5,8,1],     [6,7,3],     [4,5,9]]\n"
     ]
    },
    {
     "data": {
      "text/plain": [
       "[[5, 6, 4], [8, 7, 5], [1, 3, 9]]"
      ]
     },
     "execution_count": 46,
     "metadata": {},
     "output_type": "execute_result"
    }
   ],
   "source": [
    "### Solution:\n",
    "inp= eval(input(\"Enter the matrix1 as list : \"))\n",
    "\n",
    "def transpose_matrix(a):\n",
    "    c = []\n",
    "    d = list(zip(*a))\n",
    "    for i in d:\n",
    "        c.append(list(i))\n",
    "    return c\n",
    "transpose_matrix(inp)"
   ]
  },
  {
   "cell_type": "markdown",
   "id": "5e333c4c",
   "metadata": {},
   "source": [
    "### Q4: Write a Python Program to Sort Words in Alphabetic Order?"
   ]
  },
  {
   "cell_type": "code",
   "execution_count": 49,
   "id": "757de899",
   "metadata": {},
   "outputs": [
    {
     "name": "stdout",
     "output_type": "stream",
     "text": [
      " Please enter the list of words['sherin', 'Thomas', 'Bangalore']\n"
     ]
    },
    {
     "data": {
      "text/plain": [
       "['Bangalore', 'Thomas', 'sherin']"
      ]
     },
     "execution_count": 49,
     "metadata": {},
     "output_type": "execute_result"
    }
   ],
   "source": [
    "## Solution:\n",
    "\n",
    "inp = eval(input(\" Please enter the list of words\"))\n",
    "\n",
    "def sort_words(a):\n",
    "    a.sort()\n",
    "    return a\n",
    "sort_words(inp)"
   ]
  },
  {
   "cell_type": "markdown",
   "id": "1a9092f2",
   "metadata": {},
   "source": [
    "### Q5: Write a Python Program to Remove Punctuation From a String?\n"
   ]
  },
  {
   "cell_type": "code",
   "execution_count": 10,
   "id": "5d94f5b3",
   "metadata": {},
   "outputs": [
    {
     "name": "stdout",
     "output_type": "stream",
     "text": [
      " Enter the string here : 'Hello!!!, he said ---and went.'\n"
     ]
    },
    {
     "data": {
      "text/plain": [
       "'Hello he said and went'"
      ]
     },
     "execution_count": 10,
     "metadata": {},
     "output_type": "execute_result"
    }
   ],
   "source": [
    "## Solution:\n",
    "\n",
    "inp = eval(input(\" Enter the string here : \"))\n",
    "import re\n",
    "\n",
    "def rem_punc(a):\n",
    "    pattern = r'[a-zA-Z|\\s]'\n",
    "    match = re.findall(pattern, a)\n",
    "    l= \"\".join(match)\n",
    "    return str(l)\n",
    "rem_punc(inp)"
   ]
  },
  {
   "cell_type": "code",
   "execution_count": null,
   "id": "29ad67ff",
   "metadata": {},
   "outputs": [],
   "source": []
  }
 ],
 "metadata": {
  "kernelspec": {
   "display_name": "Python 3",
   "language": "python",
   "name": "python3"
  },
  "language_info": {
   "codemirror_mode": {
    "name": "ipython",
    "version": 3
   },
   "file_extension": ".py",
   "mimetype": "text/x-python",
   "name": "python",
   "nbconvert_exporter": "python",
   "pygments_lexer": "ipython3",
   "version": "3.8.8"
  }
 },
 "nbformat": 4,
 "nbformat_minor": 5
}
