{
 "cells": [
  {
   "cell_type": "markdown",
   "id": "39ebdf66",
   "metadata": {},
   "source": [
    "### Q1: Write a Python program to find words which are greater than given length k?"
   ]
  },
  {
   "cell_type": "code",
   "execution_count": 1,
   "id": "c074bf34",
   "metadata": {},
   "outputs": [
    {
     "name": "stdout",
     "output_type": "stream",
     "text": [
      " Please enter the list of words : ['Mumbai', 'Delhi', 'Russia', 'Ukraine','Bengaluru', 'Oslo']\n",
      " Please enter the max length of words : 5\n"
     ]
    },
    {
     "data": {
      "text/plain": [
       "['Mumbai', 'Russia', 'Ukraine', 'Bengaluru']"
      ]
     },
     "execution_count": 1,
     "metadata": {},
     "output_type": "execute_result"
    }
   ],
   "source": [
    "## Solution:\n",
    "\n",
    "Inp = eval(input(\" Please enter the list of words : \"))\n",
    "Inp1 = eval(input(\" Please enter the max length of words : \"))\n",
    "\n",
    "def maxi_leng(a,b):\n",
    "    l=[]\n",
    "    for i in a:\n",
    "        if len(i) > b:\n",
    "            l.append(i)\n",
    "    return l\n",
    "maxi_leng(Inp,Inp1)"
   ]
  },
  {
   "cell_type": "markdown",
   "id": "3564a6e5",
   "metadata": {},
   "source": [
    "### Q2: Write a Python program for removing i-th character from a string?"
   ]
  },
  {
   "cell_type": "code",
   "execution_count": 8,
   "id": "98a0af9d",
   "metadata": {},
   "outputs": [
    {
     "name": "stdout",
     "output_type": "stream",
     "text": [
      " Please enter the string : 'dystopia'\n",
      " Please enter the position of the character : 4\n"
     ]
    },
    {
     "data": {
      "text/plain": [
       "'dysopia'"
      ]
     },
     "execution_count": 8,
     "metadata": {},
     "output_type": "execute_result"
    }
   ],
   "source": [
    "## Solution:\n",
    "\n",
    "inp = eval(input(\" Please enter the string : \"))\n",
    "inp1 = eval(input(\" Please enter the position of the character : \"))\n",
    "\n",
    "def rem_char(a,b):\n",
    "    c=''\n",
    "    for i in range(len(a)):\n",
    "        if i!=(b-1):\n",
    "            c+=a[i]\n",
    "    return c\n",
    "rem_char(inp,inp1)"
   ]
  },
  {
   "cell_type": "markdown",
   "id": "5b3450ad",
   "metadata": {},
   "source": [
    "### Q3: Write a Python program to split and join a string?"
   ]
  },
  {
   "cell_type": "code",
   "execution_count": 13,
   "id": "3b613278",
   "metadata": {},
   "outputs": [
    {
     "name": "stdout",
     "output_type": "stream",
     "text": [
      " Please enter the string : 'This is Sparta!'\n"
     ]
    },
    {
     "data": {
      "text/plain": [
       "'This:is:Sparta!'"
      ]
     },
     "execution_count": 13,
     "metadata": {},
     "output_type": "execute_result"
    }
   ],
   "source": [
    "## Solution:\n",
    "\n",
    "inp = eval(input(\" Please enter the string : \"))\n",
    "\n",
    "def spl_joi(a):\n",
    "    c = a.split(\" \")\n",
    "    d = \":\".join(c)\n",
    "    return d\n",
    "spl_joi(inp)"
   ]
  },
  {
   "cell_type": "markdown",
   "id": "72090a21",
   "metadata": {},
   "source": [
    "### Q4: Write a Python to check if a given string is binary string or not?"
   ]
  },
  {
   "cell_type": "code",
   "execution_count": 26,
   "id": "e678bd1f",
   "metadata": {},
   "outputs": [
    {
     "name": "stdout",
     "output_type": "stream",
     "text": [
      " Please enter the string : 01100012\n"
     ]
    },
    {
     "data": {
      "text/plain": [
       "False"
      ]
     },
     "execution_count": 26,
     "metadata": {},
     "output_type": "execute_result"
    }
   ],
   "source": [
    "## Solution:\n",
    "\n",
    "inp = input(\" Please enter the string : \")\n",
    "\n",
    "def binar(a):\n",
    "    d = set()\n",
    "    for i in a :\n",
    "        d.add(i)\n",
    "    for i in d:\n",
    "        if i not in ['1','0']:\n",
    "            return False\n",
    "    else:\n",
    "        return True\n",
    "binar(inp)"
   ]
  },
  {
   "cell_type": "markdown",
   "id": "1981dbd5",
   "metadata": {},
   "source": [
    "### Q5: Write a Python program to find uncommon words from two Strings?"
   ]
  },
  {
   "cell_type": "code",
   "execution_count": 9,
   "id": "1923810a",
   "metadata": {},
   "outputs": [
    {
     "name": "stdout",
     "output_type": "stream",
     "text": [
      " Please enter the first string : This is Sparta!\n",
      " Please enter the second string : We are Sparta!\n"
     ]
    },
    {
     "data": {
      "text/plain": [
       "['This', 'We', 'is', 'are']"
      ]
     },
     "execution_count": 9,
     "metadata": {},
     "output_type": "execute_result"
    }
   ],
   "source": [
    "## Solution:\n",
    "\n",
    "inp = input(\" Please enter the first string : \")\n",
    "inp1 = input(\" Please enter the second string : \")\n",
    "\n",
    "def uncommon(a,b):\n",
    "    u = set()\n",
    "    l1 = set(a.split(\" \"))\n",
    "    l2 = set(b.split(\" \"))\n",
    "    l3= l1.difference(l2)\n",
    "    l4= l2.difference(l1)\n",
    "    return list(l3.union(l4, l3))\n",
    "uncommon(inp,inp1)"
   ]
  },
  {
   "cell_type": "markdown",
   "id": "cb8c4486",
   "metadata": {},
   "source": [
    "### Q6: Write a Python to find all duplicate characters in string?"
   ]
  },
  {
   "cell_type": "code",
   "execution_count": 4,
   "id": "2801d07a",
   "metadata": {},
   "outputs": [
    {
     "name": "stdout",
     "output_type": "stream",
     "text": [
      " Please enter the string : sherin thomas\n"
     ]
    },
    {
     "data": {
      "text/plain": [
       "['s', 'h']"
      ]
     },
     "execution_count": 4,
     "metadata": {},
     "output_type": "execute_result"
    }
   ],
   "source": [
    "## Solution:\n",
    "\n",
    "inp = input(\" Please enter the string : \")\n",
    "\n",
    "def dupl_char(a):\n",
    "    l=set()\n",
    "    for i in a:\n",
    "        if i!=\" \" and a.count(i) >1:\n",
    "            l.add(i)\n",
    "    return list(l)\n",
    "dupl_char(inp)\n",
    "    "
   ]
  },
  {
   "cell_type": "markdown",
   "id": "df76bb7e",
   "metadata": {},
   "source": [
    "### Q7: Write a Python Program to check if a string contains any special character?"
   ]
  },
  {
   "cell_type": "code",
   "execution_count": 7,
   "id": "c488dc44",
   "metadata": {},
   "outputs": [
    {
     "name": "stdout",
     "output_type": "stream",
     "text": [
      " Please enter the string : $chercher@$tech1234\n"
     ]
    },
    {
     "data": {
      "text/plain": [
       "(True, ['$', '@', '$'])"
      ]
     },
     "execution_count": 7,
     "metadata": {},
     "output_type": "execute_result"
    }
   ],
   "source": [
    "## Solution:\n",
    "\n",
    "inp = input(\" Please enter the string : \")\n",
    "import re\n",
    "def spec_char(a):\n",
    "    pattern = r'[^a-zA-Z1-9]'\n",
    "    match = re.findall(pattern, a)\n",
    "    if len(match) >0:\n",
    "        return True, match\n",
    "    else:\n",
    "        return False\n",
    "spec_char(inp)"
   ]
  }
 ],
 "metadata": {
  "kernelspec": {
   "display_name": "Python 3",
   "language": "python",
   "name": "python3"
  },
  "language_info": {
   "codemirror_mode": {
    "name": "ipython",
    "version": 3
   },
   "file_extension": ".py",
   "mimetype": "text/x-python",
   "name": "python",
   "nbconvert_exporter": "python",
   "pygments_lexer": "ipython3",
   "version": "3.8.8"
  }
 },
 "nbformat": 4,
 "nbformat_minor": 5
}
