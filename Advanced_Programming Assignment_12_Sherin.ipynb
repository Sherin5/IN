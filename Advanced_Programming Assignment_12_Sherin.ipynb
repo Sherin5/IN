{
 "cells": [
  {
   "cell_type": "markdown",
   "id": "6d53f0f2",
   "metadata": {},
   "source": [
    "### Q1: For this challenge, forget how to add two numbers together. The best explanation on what to do for this function is this meme:"
   ]
  },
  {
   "cell_type": "code",
   "execution_count": 42,
   "id": "244cb3cf",
   "metadata": {},
   "outputs": [
    {
     "name": "stdout",
     "output_type": "stream",
     "text": [
      " Please enter the two numbers to sum : 26,39\n"
     ]
    },
    {
     "data": {
      "text/plain": [
       "'515'"
      ]
     },
     "execution_count": 42,
     "metadata": {},
     "output_type": "execute_result"
    }
   ],
   "source": [
    "## Solution:\n",
    "\n",
    "inp, inp1 = eval(input(\" Please enter the two numbers to sum : \"))\n",
    "\n",
    "def meme(a,b):\n",
    "    \"\"\"\n",
    "    This function returns a meme sum of two numbers.\n",
    "    \"\"\"\n",
    "    st1 = str(a)\n",
    "    st2 = str(b)\n",
    "    t=\"\"\n",
    "    for i in range(-1, -max(len(st1),len(st2))-1, -1):\n",
    "        try:\n",
    "            s = int(st1[i]) + int(st2[i])\n",
    "            t=str(s)+ t\n",
    "            \n",
    "        except:\n",
    "            for j in range(-min(len(st1),len(st2))-1, -max(len(st1),len(st2))-1, -1):\n",
    "                try:\n",
    "                    t = st1[j] + t\n",
    "                except:\n",
    "                    t = st2[j] + t\n",
    "    return t\n",
    "\n",
    "meme(inp,inp1)"
   ]
  },
  {
   "cell_type": "markdown",
   "id": "50097cd2",
   "metadata": {},
   "source": [
    "### Q2: Given an integer, create a function that returns the next prime. If the number is prime, return the number itself."
   ]
  },
  {
   "cell_type": "code",
   "execution_count": 47,
   "id": "5cd6efcc",
   "metadata": {},
   "outputs": [
    {
     "name": "stdout",
     "output_type": "stream",
     "text": [
      " Please enter the number : 11\n"
     ]
    },
    {
     "data": {
      "text/plain": [
       "11"
      ]
     },
     "execution_count": 47,
     "metadata": {},
     "output_type": "execute_result"
    }
   ],
   "source": [
    "## Solution:\n",
    "\n",
    "inp = eval(input(\" Please enter the number : \"))\n",
    "def prime(a):\n",
    "    \"\"\"\n",
    "    This function takes in a number and returns the next prime number\n",
    "    \"\"\"\n",
    "    l=[]\n",
    "    for i in range(1, a+200):\n",
    "        for j in range(2, i):\n",
    "            if i%j==0:\n",
    "                break\n",
    "        else:\n",
    "            l.append(i)\n",
    "    if a in l:\n",
    "        return a\n",
    "    else:\n",
    "        for k in l:\n",
    "            if k > a:\n",
    "                return k\n",
    "prime(inp)"
   ]
  },
  {
   "cell_type": "markdown",
   "id": "fdcc257a",
   "metadata": {},
   "source": [
    "### Q3: If a person traveled up a hill for 18mins at 20mph and then traveled back down the same path at 60mph then their average speed traveled was 30mph.\n",
    "\n",
    "Write a function that returns the average speed traveled given an uphill time,\n",
    "uphill rate and a downhill rate. Uphill time is given in minutes. Return the rate\n",
    "as an integer (mph). No rounding is necessary."
   ]
  },
  {
   "cell_type": "code",
   "execution_count": 48,
   "id": "df4d05c6",
   "metadata": {},
   "outputs": [
    {
     "name": "stdout",
     "output_type": "stream",
     "text": [
      " Please enter the values : 18,20,60\n"
     ]
    },
    {
     "data": {
      "text/plain": [
       "30.0"
      ]
     },
     "execution_count": 48,
     "metadata": {},
     "output_type": "execute_result"
    }
   ],
   "source": [
    "## Solution:\n",
    "\n",
    "inp, inp1, inp2 = eval(input(\" Please enter the values : \"))\n",
    "\n",
    "def ave_spd(a,b,c):\n",
    "    \"\"\"\n",
    "    This function computes the ave speed given the time and average speeds\n",
    "    \"\"\"\n",
    "    s = (max(b,c)*2)/4\n",
    "    return s\n",
    "ave_spd(inp,inp1,inp2)\n",
    "    "
   ]
  },
  {
   "cell_type": "markdown",
   "id": "8d3c739e",
   "metadata": {},
   "source": [
    "### Q4: The Kempner Function, applied to a composite number, permits to find the smallest integer greater than zero whose factorial is exactly divided by the number."
   ]
  },
  {
   "cell_type": "code",
   "execution_count": 60,
   "id": "11d3812e",
   "metadata": {},
   "outputs": [
    {
     "name": "stdout",
     "output_type": "stream",
     "text": [
      " Please enter the number : 10\n"
     ]
    },
    {
     "data": {
      "text/plain": [
       "5"
      ]
     },
     "execution_count": 60,
     "metadata": {},
     "output_type": "execute_result"
    }
   ],
   "source": [
    "## Solution:\n",
    "\n",
    "inp = eval(input(\" Please enter the number : \"))\n",
    "\n",
    "def kempner(a):\n",
    "    \"\"\"\n",
    "    This function takes in a number as input and return the smalles number factorial that is divisble by the number\n",
    "    \n",
    "    \"\"\"\n",
    "    l=[]\n",
    "    for i in range(1, a+1):\n",
    "        for j in range(2, i):\n",
    "            if i%j==0:\n",
    "                break\n",
    "        else:\n",
    "            l.append(i)\n",
    "    if a in l:\n",
    "        return a\n",
    "    else:\n",
    "        s=1\n",
    "        for k in range(1, a+1):\n",
    "            s=s*k\n",
    "            if s%a==0:\n",
    "                return k       \n",
    "kempner(inp)"
   ]
  },
  {
   "cell_type": "markdown",
   "id": "8349cb9d",
   "metadata": {},
   "source": [
    "### Q5: You work in a factory, and your job is to take items from a conveyor belt and pack them into boxes. Each box can hold a maximum of 10 kgs. Given a list containing the weight (in kg) of each item, how many boxes would you need to pack all of the items?"
   ]
  },
  {
   "cell_type": "code",
   "execution_count": 17,
   "id": "6bfd89fd",
   "metadata": {},
   "outputs": [
    {
     "name": "stdout",
     "output_type": "stream",
     "text": [
      " Please enter the list of weights : [2, 1, 2, 5, 4, 3, 6, 1, 1, 9, 3, 2]\n"
     ]
    },
    {
     "data": {
      "text/plain": [
       "5"
      ]
     },
     "execution_count": 17,
     "metadata": {},
     "output_type": "execute_result"
    }
   ],
   "source": [
    "## Solution:\n",
    "\n",
    "inp = eval(input(\" Please enter the list of weights : \"))\n",
    "\n",
    "def boxes(a):\n",
    "    \"\"\"\n",
    "    This function takes in a list of weights and computes how many 10kg boxes are required\n",
    "    \"\"\"\n",
    "    s = 0\n",
    "    cnt = 1\n",
    "    for i in range(len(a)):\n",
    "        s+=a[i]\n",
    "        try:\n",
    "            if s==10 or s+a[i+1]>10:\n",
    "                cnt+=1\n",
    "                s=0\n",
    "        except:\n",
    "            pass\n",
    "    return cnt\n",
    "boxes(inp)  "
   ]
  }
 ],
 "metadata": {
  "kernelspec": {
   "display_name": "Python 3",
   "language": "python",
   "name": "python3"
  },
  "language_info": {
   "codemirror_mode": {
    "name": "ipython",
    "version": 3
   },
   "file_extension": ".py",
   "mimetype": "text/x-python",
   "name": "python",
   "nbconvert_exporter": "python",
   "pygments_lexer": "ipython3",
   "version": "3.8.8"
  }
 },
 "nbformat": 4,
 "nbformat_minor": 5
}
