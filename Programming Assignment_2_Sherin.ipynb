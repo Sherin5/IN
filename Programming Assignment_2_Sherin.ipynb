{
 "cells": [
  {
   "cell_type": "markdown",
   "id": "32cc187e",
   "metadata": {},
   "source": [
    "## Q1: Write a Python program to convert kilometers to miles?"
   ]
  },
  {
   "cell_type": "code",
   "execution_count": 44,
   "id": "a26ad435",
   "metadata": {},
   "outputs": [
    {
     "name": "stdout",
     "output_type": "stream",
     "text": [
      " Please enter the Kilometer to be converted 45\n",
      " 45.0 kilometers is 27.96 miles\n"
     ]
    }
   ],
   "source": [
    "## Solution:\n",
    "km =  input(\" Please enter the Kilometer to be converted \")\n",
    "\n",
    "try:\n",
    "    km = float(km)\n",
    "    def converter(km):\n",
    "        miles = round(km/1.60934, 2) \n",
    "        print (\" {} kilometers is {} miles\".format(km, miles))\n",
    "    converter(km)\n",
    "except ValueError:\n",
    "    print(\" Please enter an integer or a decimal number\")\n",
    "    \n"
   ]
  },
  {
   "cell_type": "markdown",
   "id": "046bdee7",
   "metadata": {},
   "source": [
    "## Q2: Write a Python program to convert Celsius to Fahrenheit?"
   ]
  },
  {
   "cell_type": "code",
   "execution_count": 27,
   "id": "1461cf35",
   "metadata": {},
   "outputs": [
    {
     "name": "stdout",
     "output_type": "stream",
     "text": [
      " Please enter the celsius to be converted 30\n",
      " 30.0 celsius is 77.0 fahrenheit\n"
     ]
    }
   ],
   "source": [
    "## Solution:\n",
    "celsius =  input(\" Please enter the celsius to be converted \")\n",
    "\n",
    "try:\n",
    "    km = float(celsius)\n",
    "    def converter(km):\n",
    "        miles = (km*1.5)+32\n",
    "        print (\" {} celsius is {} fahrenheit\".format(km, miles))\n",
    "    converter(km)\n",
    "except ValueError:\n",
    "    print(\" Please enter an integer or a decimal number\")"
   ]
  },
  {
   "cell_type": "markdown",
   "id": "872d97d3",
   "metadata": {},
   "source": [
    "## Q3: Write a Python program to display calendar?"
   ]
  },
  {
   "cell_type": "code",
   "execution_count": 46,
   "id": "377b7905",
   "metadata": {},
   "outputs": [
    {
     "name": "stdout",
     "output_type": "stream",
     "text": [
      " Please provide the year for the calendar 2021\n",
      " Please provide the month for the calendar 12\n",
      "   December 2021\n",
      "Mo Tu We Th Fr Sa Su\n",
      "       1  2  3  4  5\n",
      " 6  7  8  9 10 11 12\n",
      "13 14 15 16 17 18 19\n",
      "20 21 22 23 24 25 26\n",
      "27 28 29 30 31\n",
      "\n"
     ]
    }
   ],
   "source": [
    "## Solution:\n",
    "\n",
    "import calendar\n",
    "\n",
    "year =  int(input(\" Please provide the year for the calendar \"))\n",
    "month = int(input(\" Please provide the month for the calendar \"))\n",
    "\n",
    "print(calendar.month(year, month))"
   ]
  },
  {
   "cell_type": "markdown",
   "id": "8399c377",
   "metadata": {},
   "source": [
    "## Q4: Write a Python program to solve quadratic equation?"
   ]
  },
  {
   "cell_type": "code",
   "execution_count": 39,
   "id": "d68edf4e",
   "metadata": {},
   "outputs": [
    {
     "name": "stdout",
     "output_type": "stream",
     "text": [
      " Please enter the value of a 2\n",
      " Please enter the value of b 3\n",
      " Please enter the value of c 2\n",
      " Please enter the first operator +\n",
      " Please enter the second operator -\n",
      " The quadriatic equation is 2.0x² + 3.0x - 2.0 = 0\n",
      " 2.0 is the first of the two possible values of x\n",
      " -8.0 is the second of the two possible values of x\n"
     ]
    }
   ],
   "source": [
    "## Solution:\n",
    "import operator\n",
    "\n",
    "a =  input(\" Please enter the value of a \")\n",
    "b =  input(\" Please enter the value of b \")\n",
    "c =  input(\" Please enter the value of c \")\n",
    "d =  input(\" Please enter the first operator \")\n",
    "e =  input(\" Please enter the second operator \")\n",
    "ops = {'+': operator.add, \n",
    "       '-': operator.sub}\n",
    "try:\n",
    "    a = float(a)\n",
    "    b = float(b)\n",
    "    c = float(c)\n",
    "    if d in ops and e in ops:\n",
    "        print(\" The quadriatic equation is {}x\\u00b2 {} {}x {} {} = 0\".format(a, d,b,e,c))\n",
    "        def quadriatic(a,b,c):\n",
    "            x1 = (-b + (b**2 - (4*a*c)**(1/2)))/2*a\n",
    "            x2 = (-b - (b**2 - (4*a*c)**(1/2)))/2*a\n",
    "            print (\" {} is the first of the two possible values of x\".format(x1))\n",
    "            print (\" {} is the second of the two possible values of x\".format(x2))\n",
    "        quadriatic(a,b,c)\n",
    "    else:\n",
    "        print(\" Please enter either + or - for the operator input\")\n",
    "except ValueError:\n",
    "    print(\" Please enter an integer or a decimal number for the values of a, b, and c\")"
   ]
  },
  {
   "cell_type": "markdown",
   "id": "83b129e9",
   "metadata": {},
   "source": [
    "## Q5: Write a Python program to swap two variables without temp variable?"
   ]
  },
  {
   "cell_type": "code",
   "execution_count": 41,
   "id": "dcfe6d20",
   "metadata": {},
   "outputs": [
    {
     "name": "stdout",
     "output_type": "stream",
     "text": [
      " Please enter the value of variable A 23\n",
      " Please enter the value of variable B 42\n",
      "The swapped value of A is 42\n",
      "The swapped value of B is 23\n"
     ]
    }
   ],
   "source": [
    "## Solution:\n",
    "\n",
    "a =  input(\" Please enter the value of variable A \")\n",
    "b =  input(\" Please enter the value of variable B \")\n",
    "\n",
    "a, b = b,a\n",
    "\n",
    "print(\" The swapped value of A is {}\".format(a))\n",
    "print(\" The swapped value of B is {}\".format(b))\n"
   ]
  },
  {
   "cell_type": "code",
   "execution_count": null,
   "id": "de9fbf20",
   "metadata": {},
   "outputs": [],
   "source": []
  }
 ],
 "metadata": {
  "kernelspec": {
   "display_name": "Python 3",
   "language": "python",
   "name": "python3"
  },
  "language_info": {
   "codemirror_mode": {
    "name": "ipython",
    "version": 3
   },
   "file_extension": ".py",
   "mimetype": "text/x-python",
   "name": "python",
   "nbconvert_exporter": "python",
   "pygments_lexer": "ipython3",
   "version": "3.8.8"
  }
 },
 "nbformat": 4,
 "nbformat_minor": 5
}
