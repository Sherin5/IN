{
 "cells": [
  {
   "cell_type": "markdown",
   "id": "d1060774",
   "metadata": {},
   "source": [
    "### Q1: Write a function that takes a positive integer num and calculates how many dots exist in a pentagonal shape around the center dot on the Nth iteration."
   ]
  },
  {
   "cell_type": "code",
   "execution_count": 108,
   "id": "b06aee3f",
   "metadata": {},
   "outputs": [
    {
     "name": "stdout",
     "output_type": "stream",
     "text": [
      " Please enter an integer for points calculation : 8\n"
     ]
    },
    {
     "data": {
      "text/plain": [
       "141"
      ]
     },
     "execution_count": 108,
     "metadata": {},
     "output_type": "execute_result"
    }
   ],
   "source": [
    "## Solution:\n",
    "\n",
    "inp = int(input(\" Please enter an integer for points calculation : \"))\n",
    "\n",
    "def pentagon(inp):\n",
    "    \"\"\"\n",
    "    This function takes in an unteger and computes the number of points inside a pentagon\n",
    "    \"\"\"\n",
    "    points = 0\n",
    "    for i in range(inp, 1, -1):\n",
    "        points = points + 5 * (i-1) \n",
    "    return points +1\n",
    "\n",
    "pentagon(inp)\n",
    "    "
   ]
  },
  {
   "cell_type": "markdown",
   "id": "2b2f8e41",
   "metadata": {},
   "source": [
    "### Q2: Make a function that encrypts a given input with these steps:\n",
    "### Input: &quot;apple&quot;\n",
    "### Step 1: Reverse the input: &quot;elppa&quot;\n",
    "### Step 2: Replace all vowels using the following chart:\n",
    "### a =&gt; 0\n",
    "### e =&gt; 1\n",
    "### i =&gt; 2\n",
    "### o =&gt; 2\n",
    "### u =&gt; 3"
   ]
  },
  {
   "cell_type": "code",
   "execution_count": 115,
   "id": "d9714b27",
   "metadata": {},
   "outputs": [
    {
     "name": "stdout",
     "output_type": "stream",
     "text": [
      " Please enter a word : karaca\n"
     ]
    },
    {
     "data": {
      "text/plain": [
       "'0c0r0kaca'"
      ]
     },
     "execution_count": 115,
     "metadata": {},
     "output_type": "execute_result"
    }
   ],
   "source": [
    "## Solution:\n",
    "\n",
    "inp = input(\" Please enter a word : \")\n",
    "vowels = {'a':0, 'e': 1, 'i': 2, 'o': 3, \"u\": 4}\n",
    "def encrypt(inp):\n",
    "    \"\"\"\n",
    "    This function encrypts the inputed words. It reverses the word, then encodes the vowels and then suffixes with 'aca'\n",
    "    \"\"\"\n",
    "    low = inp.lower()\n",
    "    rev = low[::-1]\n",
    "    fin = ''\n",
    "    for i in rev:\n",
    "        if i in vowels:\n",
    "            fin =fin+str(vowels[i])\n",
    "        else:\n",
    "            fin = fin+i\n",
    "    return fin+'aca'\n",
    "\n",
    "encrypt(inp)"
   ]
  },
  {
   "cell_type": "markdown",
   "id": "8a7572cb",
   "metadata": {},
   "source": [
    "### Q3: Given the month and year as numbers, return whether that month contains a Friday 13th.(i.e You can check Python&#39;s datetime module)"
   ]
  },
  {
   "cell_type": "code",
   "execution_count": 178,
   "id": "0a9459f0",
   "metadata": {},
   "outputs": [
    {
     "name": "stdout",
     "output_type": "stream",
     "text": [
      " Please enter the year : 2017\n",
      " Please enter the month number : 3\n"
     ]
    },
    {
     "data": {
      "text/plain": [
       "False"
      ]
     },
     "execution_count": 178,
     "metadata": {},
     "output_type": "execute_result"
    }
   ],
   "source": [
    "import datetime\n",
    "\n",
    "\n",
    "year = int(input(\" Please enter the year : \"))\n",
    "month = int(input(\" Please enter the month number : \"))\n",
    "\n",
    "def is_friday(year, month):\n",
    "    \"\"\"\n",
    "    This function checks if the month has a friday the 13'th. If it does then it returns True else it returns False\n",
    "    \"\"\"\n",
    "    if datetime.date(year, month, 13).strftime(\"%A\")==\"Friday\":\n",
    "        return True\n",
    "    else:\n",
    "        return False\n",
    "    \n",
    "is_friday(year, month)\n"
   ]
  },
  {
   "cell_type": "markdown",
   "id": "641577d0",
   "metadata": {},
   "source": [
    "### Q4: Write a regular expression that will help us count how many bad cookies are produced every day. You must use RegEx negative lookbehind."
   ]
  },
  {
   "cell_type": "code",
   "execution_count": 194,
   "id": "99e96bef",
   "metadata": {},
   "outputs": [
    {
     "data": {
      "text/plain": [
       "2"
      ]
     },
     "execution_count": 194,
     "metadata": {},
     "output_type": "execute_result"
    }
   ],
   "source": [
    "## Solution:\n",
    "import re\n",
    "\n",
    "lst = ['bad cookie', 'good cookie', 'bad cookie', 'good cookie', 'good cookie']\n",
    "pattern = re.compile('(?<=(bad|Bad)\\s)cookie')\n",
    "\n",
    "len(re.findall(pattern, ','.join(lst)))\n",
    "\n"
   ]
  },
  {
   "cell_type": "markdown",
   "id": "f409a043",
   "metadata": {},
   "source": [
    "### Q5: Given a list of words in the singular form, return a set of those words in the plural form if they appear more than once in the list."
   ]
  },
  {
   "cell_type": "code",
   "execution_count": 182,
   "id": "bbc966a0",
   "metadata": {},
   "outputs": [],
   "source": [
    "def single(l):\n",
    "    l1=[]\n",
    "    l2 =set()\n",
    "    l3 = set()\n",
    "    l4 = set()\n",
    "    for i in l:\n",
    "        if i in l1:\n",
    "            l2.add(i)\n",
    "        else:\n",
    "            l1.append(i)\n",
    "    l3 = l2.intersection(set(l1))\n",
    "    l3.difference()\n",
    "    for j in l3:\n",
    "        l4.add(j+'s')\n",
    "    l3= set(l1).difference(l2)\n",
    "    for k in l3:\n",
    "        l4.add(k)\n",
    "    return l4"
   ]
  },
  {
   "cell_type": "code",
   "execution_count": 185,
   "id": "8fd5ef42",
   "metadata": {},
   "outputs": [
    {
     "data": {
      "text/plain": [
       "{'cows', 'pigs'}"
      ]
     },
     "execution_count": 185,
     "metadata": {},
     "output_type": "execute_result"
    }
   ],
   "source": [
    "single(['cow','pig','cow', 'pig'])"
   ]
  }
 ],
 "metadata": {
  "kernelspec": {
   "display_name": "Python 3 (ipykernel)",
   "language": "python",
   "name": "python3"
  },
  "language_info": {
   "codemirror_mode": {
    "name": "ipython",
    "version": 3
   },
   "file_extension": ".py",
   "mimetype": "text/x-python",
   "name": "python",
   "nbconvert_exporter": "python",
   "pygments_lexer": "ipython3",
   "version": "3.8.8"
  }
 },
 "nbformat": 4,
 "nbformat_minor": 5
}
