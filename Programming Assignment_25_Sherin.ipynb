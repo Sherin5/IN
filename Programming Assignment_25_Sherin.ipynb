{
 "cells": [
  {
   "cell_type": "markdown",
   "id": "39ec897c",
   "metadata": {},
   "source": [
    "### Q1: Create a function that takes three integer arguments (a, b, c) and returns the amount of integers which are of equal value."
   ]
  },
  {
   "cell_type": "code",
   "execution_count": 3,
   "id": "1aed71fd",
   "metadata": {},
   "outputs": [
    {
     "name": "stdout",
     "output_type": "stream",
     "text": [
      " Please enter the values separated by comma : 3,4,1\n"
     ]
    },
    {
     "data": {
      "text/plain": [
       "0"
      ]
     },
     "execution_count": 3,
     "metadata": {},
     "output_type": "execute_result"
    }
   ],
   "source": [
    "## Solution:\n",
    "inp = eval(input(\" Please enter the values separated by comma : \"))\n",
    "def eql(a,b,c):\n",
    "    d = [a,b,c]\n",
    "    return [d.count(i) if d.count(i) > 1 else 0 for i in d ][0]\n",
    "eql(inp[0], inp[1],inp[2])"
   ]
  },
  {
   "cell_type": "markdown",
   "id": "f7a518e7",
   "metadata": {},
   "source": [
    "### Q2: Write a function that converts a dictionary into a list of keys-values tuples."
   ]
  },
  {
   "cell_type": "code",
   "execution_count": 11,
   "id": "4c6942c6",
   "metadata": {},
   "outputs": [
    {
     "name": "stdout",
     "output_type": "stream",
     "text": [
      " Please enter the dictionary :  { 'b': 2, 'c': 3, 'd': 1 }\n"
     ]
    },
    {
     "data": {
      "text/plain": [
       "[('b', 2), ('c', 3), ('d', 1)]"
      ]
     },
     "execution_count": 11,
     "metadata": {},
     "output_type": "execute_result"
    }
   ],
   "source": [
    "## Solution:\n",
    "\n",
    "inp = eval(input(\" Please enter the dictionary : \"))\n",
    "def tupl_fm_dic(a):\n",
    "    return sorted([tuple([k,v]) for k,v in a.items()])\n",
    "tupl_fm_dic(inp)"
   ]
  },
  {
   "cell_type": "markdown",
   "id": "4521be30",
   "metadata": {},
   "source": [
    "### Q3: Write a function that creates a dictionary with each (key, value) pair being the (lower case, upper case) versions of a letter, respectively."
   ]
  },
  {
   "cell_type": "code",
   "execution_count": 12,
   "id": "0df76e40",
   "metadata": {},
   "outputs": [
    {
     "name": "stdout",
     "output_type": "stream",
     "text": [
      " Please enter the list of letters : ['p', 's']\n"
     ]
    },
    {
     "data": {
      "text/plain": [
       "{'p': 'P', 's': 'S'}"
      ]
     },
     "execution_count": 12,
     "metadata": {},
     "output_type": "execute_result"
    }
   ],
   "source": [
    "## Solution:\n",
    "\n",
    "inp = eval(input(\" Please enter the list of letters : \"))\n",
    "def dic_map(a):\n",
    "    d={}\n",
    "    for i in a:\n",
    "        d[i] = i.upper()\n",
    "    return d\n",
    "dic_map(inp)\n"
   ]
  },
  {
   "cell_type": "markdown",
   "id": "d9e8b5c9",
   "metadata": {},
   "source": [
    "### Q4: Write a function, that replaces all vowels in a string with a specified vowel."
   ]
  },
  {
   "cell_type": "code",
   "execution_count": 13,
   "id": "7333dbba",
   "metadata": {},
   "outputs": [
    {
     "name": "stdout",
     "output_type": "stream",
     "text": [
      " Please enter the string and vowel separated by comma : 'apples and bananas', 'u'\n"
     ]
    },
    {
     "data": {
      "text/plain": [
       "'upplus und bununus'"
      ]
     },
     "execution_count": 13,
     "metadata": {},
     "output_type": "execute_result"
    }
   ],
   "source": [
    "## Solution:\n",
    "\n",
    "inp = eval(input(\" Please enter the string and vowel separated by comma : \"))\n",
    "def vow_replace(a,b):\n",
    "    vowel = ['a','e','i','o','u']\n",
    "    return \"\".join([b if i.lower() in vowel else  i for i in a ])\n",
    "vow_replace(inp[0], inp[1])"
   ]
  },
  {
   "cell_type": "markdown",
   "id": "47a2bfe8",
   "metadata": {},
   "source": [
    "### Q5: Create a function that takes a string as input and capitalizes a letter if its ASCII code is even and returns its lower case version if its ASCII code is odd."
   ]
  },
  {
   "cell_type": "code",
   "execution_count": 18,
   "id": "afbd4bba",
   "metadata": {},
   "outputs": [
    {
     "name": "stdout",
     "output_type": "stream",
     "text": [
      " Please enter a string : 'to be or not to be!'\n"
     ]
    },
    {
     "data": {
      "text/plain": [
       "'To Be oR NoT To Be!'"
      ]
     },
     "execution_count": 18,
     "metadata": {},
     "output_type": "execute_result"
    }
   ],
   "source": [
    "## Solution:\n",
    "inp = eval(input(\" Please enter a string : \"))\n",
    "def asc_cap(a):\n",
    "    return \"\".join([ i.upper() if ord(i)%2==0 else i.lower() for i in a ])\n",
    "asc_cap(inp)"
   ]
  }
 ],
 "metadata": {
  "kernelspec": {
   "display_name": "Python 3",
   "language": "python",
   "name": "python3"
  },
  "language_info": {
   "codemirror_mode": {
    "name": "ipython",
    "version": 3
   },
   "file_extension": ".py",
   "mimetype": "text/x-python",
   "name": "python",
   "nbconvert_exporter": "python",
   "pygments_lexer": "ipython3",
   "version": "3.8.8"
  }
 },
 "nbformat": 4,
 "nbformat_minor": 5
}
