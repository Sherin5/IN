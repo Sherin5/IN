{
 "cells": [
  {
   "cell_type": "markdown",
   "id": "411126ac",
   "metadata": {},
   "source": [
    "### Q1: Write a function that returns True if a given name can generate an array of words."
   ]
  },
  {
   "cell_type": "code",
   "execution_count": 17,
   "id": "3a02dbe5",
   "metadata": {},
   "outputs": [
    {
     "name": "stdout",
     "output_type": "stream",
     "text": [
      " Please enter the word and the list separated by comma : 'Justin Bieber', ['injures', 'ebb', 'it']\n"
     ]
    },
    {
     "data": {
      "text/plain": [
       "True"
      ]
     },
     "execution_count": 17,
     "metadata": {},
     "output_type": "execute_result"
    }
   ],
   "source": [
    "## Solution:\n",
    "inp, inp1 = eval(input(\" Please enter the word and the list separated by comma : \"))\n",
    "\n",
    "def anagram(a,b):\n",
    "    \"\"\"\n",
    "    This function takes in a word and compares it against a list of words and returns true if all letter \n",
    "    are present in the list\n",
    "    \"\"\"\n",
    "    a = a.lower()\n",
    "    l=[]\n",
    "    f=\"\"\n",
    "    for i in b:\n",
    "        f+=i.lower()\n",
    "        for j in i:\n",
    "            if j.lower() not in a:\n",
    "                return False\n",
    "    else:\n",
    "        a = a.replace(\" \", \"\")\n",
    "        for k in a:\n",
    "            l.append(k)\n",
    "        for m in f:\n",
    "            l.remove(m)\n",
    "        if len(l)>0:\n",
    "            return False\n",
    "        else:\n",
    "            return True\n",
    "anagram(inp,inp1)"
   ]
  },
  {
   "cell_type": "markdown",
   "id": "b0f4feec",
   "metadata": {},
   "source": [
    "### Q2: Given an array of users, each defined by an object with the following properties: name, score, reputation create a function that sorts the array to form the correct leaderboard.\n",
    " \n",
    " -The leaderboard takes into consideration the score of each user of course, but an emphasis is put on their reputation in the community, so to get the trueScore, you should add the reputation multiplied by 2 to the score.\n",
    " -Once you know the trueScore of each user, sort the array according to it in descending order."
   ]
  },
  {
   "cell_type": "code",
   "execution_count": 54,
   "id": "707d7edd",
   "metadata": {},
   "outputs": [
    {
     "name": "stdout",
     "output_type": "stream",
     "text": [
      " Please input the array : [ { 'name': 'a', 'score': 100, 'reputation': 20 }, { 'name': 'b', 'score': 90, 'reputation': 40 }, { 'name': 'c', 'score': 115,'reputation': 30 } ]\n"
     ]
    },
    {
     "data": {
      "text/plain": [
       "[{'name': 'c', 'score': 115, 'reputation': 30},\n",
       " {'name': 'b', 'score': 90, 'reputation': 40},\n",
       " {'name': 'a', 'score': 100, 'reputation': 20}]"
      ]
     },
     "execution_count": 54,
     "metadata": {},
     "output_type": "execute_result"
    }
   ],
   "source": [
    "## Solution:\n",
    "\n",
    "inp = eval(input(\" Please input the array : \"))\n",
    "\n",
    "def high_score(a):\n",
    "    \"\"\"\n",
    "    This function sorts the list in a descending order of actual scores\n",
    "    \"\"\"\n",
    "    l=[]\n",
    "    m=[]\n",
    "    for i in a:\n",
    "        i['final'] = i['score'] + i['reputation']*2\n",
    "        l.append(i['final'])\n",
    "    l.sort(reverse = True)\n",
    "    for j in l:\n",
    "        for k in a:\n",
    "            if j==k['final']:\n",
    "                m.append(k)\n",
    "    for fin in m:\n",
    "        del(fin['final'])\n",
    "    return m\n",
    "high_score(inp)"
   ]
  },
  {
   "cell_type": "markdown",
   "id": "ac456eb4",
   "metadata": {},
   "source": [
    "### Q3: Create a function that, given a phrase and a number of letters guessed,  returns a string with hyphens - for every letter of the phrase not guessed, and each letter guessed in place."
   ]
  },
  {
   "cell_type": "code",
   "execution_count": 63,
   "id": "1a3a8440",
   "metadata": {},
   "outputs": [
    {
     "name": "stdout",
     "output_type": "stream",
     "text": [
      " Please enter the string and the list separated by comma : 'python rules',['a','n','p','r','z']\n"
     ]
    },
    {
     "data": {
      "text/plain": [
       "'p----n-r----'"
      ]
     },
     "execution_count": 63,
     "metadata": {},
     "output_type": "execute_result"
    }
   ],
   "source": [
    "## Solution:\n",
    "\n",
    "inp, inp1 = eval(input(\" Please enter the string and the list separated by comma : \"))\n",
    "\n",
    "def hangman(a,b):\n",
    "    \"\"\"\n",
    "    This function takes in a string and a list of guess to mimic hangman\n",
    "    \"\"\"\n",
    "    h=\"\"\n",
    "    for i in a:\n",
    "        if i in b:\n",
    "            h+=i\n",
    "        else:\n",
    "            h+=\"-\"\n",
    "    return h\n",
    "hangman(inp,inp1)"
   ]
  },
  {
   "cell_type": "markdown",
   "id": "155fa0c4",
   "metadata": {},
   "source": [
    "### Q4: The Collatz sequence is as follows:\n",
    "- Start with some given integer n.\n",
    "- If it is even, the next number will be n divided by 2.\n",
    "- If it is odd, multiply it by 3 and add 1 to make the next number.\n",
    "- The sequence stops when it reaches 1.\n",
    "\n",
    "According to the Collatz conjecture, it will always reach 1. If that&#39;s true, you\n",
    "can construct a finite sequence following the aforementioned method for any\n",
    "given integer.\n",
    "Write a function that takes in an integer n and returns the highest integer in\n",
    "the corresponding Collatz sequence."
   ]
  },
  {
   "cell_type": "code",
   "execution_count": 5,
   "id": "a88d705a",
   "metadata": {},
   "outputs": [
    {
     "name": "stdout",
     "output_type": "stream",
     "text": [
      " Please enter the integer : 85\n"
     ]
    },
    {
     "data": {
      "text/plain": [
       "256"
      ]
     },
     "execution_count": 5,
     "metadata": {},
     "output_type": "execute_result"
    }
   ],
   "source": [
    "## Solution:\n",
    "\n",
    "inp = eval(input(\" Please enter the integer : \"))\n",
    "\n",
    "def collatz(a):\n",
    "    \"\"\"\n",
    "    This function returns the highest number in a collatz series\n",
    "    \"\"\"\n",
    "    l=[a]\n",
    "    flag = True\n",
    "    while flag:\n",
    "        if a%2==0:\n",
    "            a = a/2\n",
    "            l.append(a)\n",
    "            if a==1:\n",
    "                flag = False\n",
    "        if a%2==1:\n",
    "            a = (a*3)+1\n",
    "            l.append(a)\n",
    "            if a==1:\n",
    "                flag = False\n",
    "    return max(l)\n",
    "collatz(inp)"
   ]
  },
  {
   "cell_type": "markdown",
   "id": "b5fc07d0",
   "metadata": {},
   "source": [
    "### Q5: Write a function that sorts a list of integers by their digit length in descending order, then settles ties by sorting numbers with the same digit length in ascending order."
   ]
  },
  {
   "cell_type": "code",
   "execution_count": 6,
   "id": "81d1cd92",
   "metadata": {},
   "outputs": [
    {
     "name": "stdout",
     "output_type": "stream",
     "text": [
      " Please enter the list of integers : [1, 5, 9, 2, 789, 563, 444]\n"
     ]
    },
    {
     "data": {
      "text/plain": [
       "[444, 563, 789, 1, 2, 5, 9]"
      ]
     },
     "execution_count": 6,
     "metadata": {},
     "output_type": "execute_result"
    }
   ],
   "source": [
    "## Solution:\n",
    "\n",
    "inp = eval(input(\" Please enter the list of integers : \"))\n",
    "\n",
    "def list_sort(a):\n",
    "    \"\"\"\n",
    "    This function sorts the digits in descending order based on their length and ties in ascending order\n",
    "    \"\"\"\n",
    "    c= len(str(max(a)))\n",
    "    d={}\n",
    "    l=[]\n",
    "    for i in range(c,0,-1):\n",
    "        for j in a:\n",
    "            if len(str(j))==i:\n",
    "                d.setdefault(i, []).append(j)\n",
    "    for k in d.values():\n",
    "        if len(k)>1:\n",
    "            k.sort()\n",
    "        l.extend(k)             \n",
    "    return l\n",
    "list_sort(inp)"
   ]
  }
 ],
 "metadata": {
  "kernelspec": {
   "display_name": "Python 3",
   "language": "python",
   "name": "python3"
  },
  "language_info": {
   "codemirror_mode": {
    "name": "ipython",
    "version": 3
   },
   "file_extension": ".py",
   "mimetype": "text/x-python",
   "name": "python",
   "nbconvert_exporter": "python",
   "pygments_lexer": "ipython3",
   "version": "3.8.8"
  }
 },
 "nbformat": 4,
 "nbformat_minor": 5
}
