{
 "cells": [
  {
   "cell_type": "markdown",
   "id": "6889826e",
   "metadata": {},
   "source": [
    "### Q1: Create a function that takes a number as an argument and returns True or False depending on whether the number is symmetrical or not. A number is symmetrical when it is the same as its reverse."
   ]
  },
  {
   "cell_type": "code",
   "execution_count": 3,
   "id": "511af72d",
   "metadata": {},
   "outputs": [
    {
     "name": "stdout",
     "output_type": "stream",
     "text": [
      " Please enter the number to check : 12567\n"
     ]
    },
    {
     "data": {
      "text/plain": [
       "False"
      ]
     },
     "execution_count": 3,
     "metadata": {},
     "output_type": "execute_result"
    }
   ],
   "source": [
    "## Solution:\n",
    "\n",
    "inp = input(\" Please enter the number to check : \")\n",
    "def symm(a):\n",
    "    if a==a[::-1]:\n",
    "        return True\n",
    "    else:\n",
    "        return False\n",
    "symm(inp)"
   ]
  },
  {
   "cell_type": "markdown",
   "id": "b49d5973",
   "metadata": {},
   "source": [
    "### Q2: Given a string of numbers separated by a comma and space, return the product of the numbers."
   ]
  },
  {
   "cell_type": "code",
   "execution_count": 4,
   "id": "db09fa03",
   "metadata": {},
   "outputs": [
    {
     "name": "stdout",
     "output_type": "stream",
     "text": [
      " Please enter the string : '10,-2'\n"
     ]
    },
    {
     "data": {
      "text/plain": [
       "-20"
      ]
     },
     "execution_count": 4,
     "metadata": {},
     "output_type": "execute_result"
    }
   ],
   "source": [
    "## Solution:\n",
    "from functools import reduce\n",
    "inp = eval(input(\" Please enter the string : \")).split(\",\")\n",
    "\n",
    "def prod(a):\n",
    "    return reduce(lambda x,y: int(x)*int(y), a)\n",
    "prod(inp)"
   ]
  },
  {
   "cell_type": "markdown",
   "id": "8c955d51",
   "metadata": {},
   "source": [
    "### Q3: Create a function that squares every digit of a number."
   ]
  },
  {
   "cell_type": "code",
   "execution_count": 11,
   "id": "f519133a",
   "metadata": {},
   "outputs": [
    {
     "name": "stdout",
     "output_type": "stream",
     "text": [
      " Please enter the number : 2483\n"
     ]
    },
    {
     "data": {
      "text/plain": [
       "416649"
      ]
     },
     "execution_count": 11,
     "metadata": {},
     "output_type": "execute_result"
    }
   ],
   "source": [
    "## Solution:\n",
    "\n",
    "inp = eval(input(\" Please enter the number : \"))\n",
    "\n",
    "def square(a):\n",
    "    a = list(str(a))\n",
    "    return int(\"\".join( list(map(lambda x:str( int(x)**2),a))))\n",
    "square(inp)"
   ]
  },
  {
   "cell_type": "markdown",
   "id": "849af27e",
   "metadata": {},
   "source": [
    "### Q4: Create a function that sorts a list and removes all duplicate items from it."
   ]
  },
  {
   "cell_type": "code",
   "execution_count": 16,
   "id": "848917ac",
   "metadata": {},
   "outputs": [
    {
     "name": "stdout",
     "output_type": "stream",
     "text": [
      " Please enter a list : [3, 3, 3, 2, 1]\n"
     ]
    },
    {
     "data": {
      "text/plain": [
       "[1, 2, 3]"
      ]
     },
     "execution_count": 16,
     "metadata": {},
     "output_type": "execute_result"
    }
   ],
   "source": [
    "## Solution:\n",
    "\n",
    "inp = eval(input(\" Please enter a list : \"))\n",
    "def rem_srt(a):\n",
    "    a = set(a)\n",
    "    b= list(a)\n",
    "    b.sort()\n",
    "    return b\n",
    "rem_srt(inp)"
   ]
  },
  {
   "cell_type": "markdown",
   "id": "af152cb2",
   "metadata": {},
   "source": [
    "### Q5: Create a function that returns the mean of all digits."
   ]
  },
  {
   "cell_type": "code",
   "execution_count": 20,
   "id": "23e8cdae",
   "metadata": {},
   "outputs": [
    {
     "name": "stdout",
     "output_type": "stream",
     "text": [
      " Please enter the number :12345\n"
     ]
    },
    {
     "data": {
      "text/plain": [
       "3"
      ]
     },
     "execution_count": 20,
     "metadata": {},
     "output_type": "execute_result"
    }
   ],
   "source": [
    "## Solution:\n",
    "\n",
    "inp = eval(input(\" Please enter the number :\"))\n",
    "\n",
    "def avg_sum(a):\n",
    "    a =list(str(a))\n",
    "    return int(sum(list(map(lambda x: int(x),a)))/len(a))\n",
    "avg_sum(inp)"
   ]
  }
 ],
 "metadata": {
  "kernelspec": {
   "display_name": "Python 3",
   "language": "python",
   "name": "python3"
  },
  "language_info": {
   "codemirror_mode": {
    "name": "ipython",
    "version": 3
   },
   "file_extension": ".py",
   "mimetype": "text/x-python",
   "name": "python",
   "nbconvert_exporter": "python",
   "pygments_lexer": "ipython3",
   "version": "3.8.8"
  }
 },
 "nbformat": 4,
 "nbformat_minor": 5
}
