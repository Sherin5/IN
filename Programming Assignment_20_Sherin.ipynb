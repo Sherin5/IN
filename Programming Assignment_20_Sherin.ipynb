{
 "cells": [
  {
   "cell_type": "markdown",
   "id": "5fd7b61e",
   "metadata": {},
   "source": [
    "### Q1: Create a function that takes a list of strings and integers, and filters out the list so that it returns a list of integers only."
   ]
  },
  {
   "cell_type": "code",
   "execution_count": 1,
   "id": "9070b35b",
   "metadata": {},
   "outputs": [
    {
     "name": "stdout",
     "output_type": "stream",
     "text": [
      " Please enter the list : [1, 2, 3, 'a', 'b', 4]\n"
     ]
    },
    {
     "data": {
      "text/plain": [
       "[1, 2, 3, 4]"
      ]
     },
     "execution_count": 1,
     "metadata": {},
     "output_type": "execute_result"
    }
   ],
   "source": [
    "## Solution:\n",
    "\n",
    "inp = eval(input(\" Please enter the list : \"))\n",
    "\n",
    "def intege(a):\n",
    "    return list(filter(lambda x: str(x).isnumeric(), a))\n",
    "intege(inp)"
   ]
  },
  {
   "cell_type": "markdown",
   "id": "f4fe72c4",
   "metadata": {},
   "source": [
    "### Q2: Given a list of numbers, create a function which returns the list but with each element&#39;s index in the list added to itself. This means you add 0 to the number at index 0, add 1 to the number at index 1, etc..."
   ]
  },
  {
   "cell_type": "code",
   "execution_count": 2,
   "id": "dac4e381",
   "metadata": {},
   "outputs": [
    {
     "name": "stdout",
     "output_type": "stream",
     "text": [
      " Please enter the list : [1, 2, 3, 4, 5]\n"
     ]
    },
    {
     "data": {
      "text/plain": [
       "[1, 3, 5, 7, 9]"
      ]
     },
     "execution_count": 2,
     "metadata": {},
     "output_type": "execute_result"
    }
   ],
   "source": [
    "## Solution:\n",
    "\n",
    "inp = eval(input(\" Please enter the list : \"))\n",
    "def add_ind(a):\n",
    "    return [a[i]+i for i in range(len(a))]\n",
    "add_ind(inp)"
   ]
  },
  {
   "cell_type": "markdown",
   "id": "5974da73",
   "metadata": {},
   "source": [
    "### Q3: Create a function that takes the height and radius of a cone as arguments and returns the volume of the cone rounded to the nearest hundredth. See the resources tab for the formula."
   ]
  },
  {
   "cell_type": "code",
   "execution_count": 4,
   "id": "09df4192",
   "metadata": {},
   "outputs": [
    {
     "name": "stdout",
     "output_type": "stream",
     "text": [
      "Please enter the height of cone15\n",
      "Please enter the radius of cone6\n"
     ]
    },
    {
     "data": {
      "text/plain": [
       "565.49"
      ]
     },
     "execution_count": 4,
     "metadata": {},
     "output_type": "execute_result"
    }
   ],
   "source": [
    "## Solution:\n",
    "h = eval(input(\"Please enter the height of cone\"))\n",
    "r = eval(input(\"Please enter the radius of cone\"))\n",
    "import math\n",
    "def vol_cone(a,b):\n",
    "    p = math.pi\n",
    "    vol = p*(b**2)*(a/3)\n",
    "    return float('{:.2f}'.format(vol)) \n",
    "vol_cone(h,r)"
   ]
  },
  {
   "cell_type": "markdown",
   "id": "b3d315ae",
   "metadata": {},
   "source": [
    "### Q4: This Triangular Number Sequence is generated from a pattern of dots that form a triangle. The first 5 numbers of the sequence, or dots, are:\n",
    "\n",
    "1, 3, 6, 10, 15\n",
    "\n",
    "This means that the first triangle has just one dot, the second one has three dots, the third one has 6 dots and so on.\n",
    "\n",
    "Write a function that gives the number of dots with its corresponding triangle number of the\n",
    "sequence."
   ]
  },
  {
   "cell_type": "code",
   "execution_count": 6,
   "id": "884a739e",
   "metadata": {},
   "outputs": [
    {
     "name": "stdout",
     "output_type": "stream",
     "text": [
      " Please enter the number : 215\n"
     ]
    },
    {
     "data": {
      "text/plain": [
       "23220"
      ]
     },
     "execution_count": 6,
     "metadata": {},
     "output_type": "execute_result"
    }
   ],
   "source": [
    "## Solution:\n",
    "inp = eval(input(\" Please enter the number : \"))\n",
    "def triangle_dot(a):\n",
    "    c =[1]\n",
    "    for i in range(2,a+1):\n",
    "        c.append(c[-1]+i)\n",
    "    return c[-1]\n",
    "triangle_dot(inp)"
   ]
  },
  {
   "cell_type": "markdown",
   "id": "b9602956",
   "metadata": {},
   "source": [
    "### Q5: Create a function that takes a list of numbers between 1 and 10 (excluding one number) and returns the missing number."
   ]
  },
  {
   "cell_type": "code",
   "execution_count": 6,
   "id": "cd8bee5d",
   "metadata": {},
   "outputs": [
    {
     "name": "stdout",
     "output_type": "stream",
     "text": [
      " Please enter the list of numbers : [1, 2, 3, 4, 6, 7, 8, 9, 10]\n"
     ]
    },
    {
     "data": {
      "text/plain": [
       "5"
      ]
     },
     "execution_count": 6,
     "metadata": {},
     "output_type": "execute_result"
    }
   ],
   "source": [
    "## Solution:\n",
    "\n",
    "inp = eval(input(\" Please enter the list of numbers : \"))\n",
    "def missing_num(a):\n",
    "    b = {1,2,3,4,5,6,7,8,9,10}\n",
    "    c= set(a)\n",
    "    return list(b.difference(a))[0]\n",
    "missing_num(inp)"
   ]
  }
 ],
 "metadata": {
  "kernelspec": {
   "display_name": "Python 3",
   "language": "python",
   "name": "python3"
  },
  "language_info": {
   "codemirror_mode": {
    "name": "ipython",
    "version": 3
   },
   "file_extension": ".py",
   "mimetype": "text/x-python",
   "name": "python",
   "nbconvert_exporter": "python",
   "pygments_lexer": "ipython3",
   "version": "3.8.8"
  }
 },
 "nbformat": 4,
 "nbformat_minor": 5
}
