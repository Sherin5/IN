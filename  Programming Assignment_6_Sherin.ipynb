{
 "cells": [
  {
   "cell_type": "markdown",
   "id": "1b4afc18",
   "metadata": {},
   "source": [
    "### Q1: Write a Python Program to Display Fibonacci Sequence Using Recursion?"
   ]
  },
  {
   "cell_type": "code",
   "execution_count": 13,
   "id": "0ea7d3fb",
   "metadata": {},
   "outputs": [
    {
     "name": "stdout",
     "output_type": "stream",
     "text": [
      " Please enter the number : 5\n",
      "0\n",
      "1\n",
      "1\n",
      "2\n",
      "3\n"
     ]
    }
   ],
   "source": [
    "## Solution:\n",
    "inp = eval(input(\" Please enter the number : \"))\n",
    "def fib_rec(a):\n",
    "    if a<=1:\n",
    "        return a\n",
    "    \n",
    "    else:\n",
    "        return fib_rec(a-1) + fib_rec(a-2)\n",
    "        \n",
    "for i in range(inp):\n",
    "    print(fib_rec(i))\n",
    "        "
   ]
  },
  {
   "cell_type": "markdown",
   "id": "9bcd0b83",
   "metadata": {},
   "source": [
    "### Q2: Write a Python Program to Find Factorial of Number Using Recursion?"
   ]
  },
  {
   "cell_type": "code",
   "execution_count": 9,
   "id": "03483d1c",
   "metadata": {},
   "outputs": [
    {
     "name": "stdout",
     "output_type": "stream",
     "text": [
      " Please enter the number for factorial : 7\n"
     ]
    },
    {
     "data": {
      "text/plain": [
       "5040"
      ]
     },
     "execution_count": 9,
     "metadata": {},
     "output_type": "execute_result"
    }
   ],
   "source": [
    "## Solution:\n",
    "\n",
    "inp = eval(input(\" Please enter the number for factorial : \"))\n",
    "\n",
    "def fact(a):\n",
    "    if a==1:\n",
    "        return 1\n",
    "    else:\n",
    "        factorial = (a* fact(a-1))\n",
    "        \n",
    "    return factorial\n",
    "fact(inp)"
   ]
  },
  {
   "cell_type": "markdown",
   "id": "a38dad28",
   "metadata": {},
   "source": [
    "### Q3: Write a Python Program to calculate your Body Mass Index?\n"
   ]
  },
  {
   "cell_type": "code",
   "execution_count": 18,
   "id": "1e9a7ca3",
   "metadata": {},
   "outputs": [
    {
     "name": "stdout",
     "output_type": "stream",
     "text": [
      " Please input your weight in Kgs : 83\n",
      " Please input your height in Cms : 176\n"
     ]
    },
    {
     "data": {
      "text/plain": [
       "'BMI : 26.79, Overweight  '"
      ]
     },
     "execution_count": 18,
     "metadata": {},
     "output_type": "execute_result"
    }
   ],
   "source": [
    "## Solution:\n",
    "\n",
    "inp = eval(input(\" Please input your weight in Kgs : \"))\n",
    "inp1 = eval(input(\" Please input your height in Cms : \"))\n",
    "\n",
    "def bmi(a,b):\n",
    "    BodyMass = a/(b/100)**2\n",
    "    if BodyMass <18.5:\n",
    "        return \"BMI : {:.2f}, Underweight \".format(BodyMass)\n",
    "    elif 18.5 <= BodyMass <=24.9:\n",
    "        return \"BMI : {:.2f}, Normal weight \".format(BodyMass)\n",
    "    elif 25 <= BodyMass <=29.9:\n",
    "        return \"BMI : {:.2f}, Overweight  \".format(BodyMass)\n",
    "    else:\n",
    "        return \"BMI : {:.2f}, Obese  \".format(BodyMass)\n",
    "bmi(inp,inp1)\n"
   ]
  },
  {
   "cell_type": "markdown",
   "id": "9cd674b1",
   "metadata": {},
   "source": [
    "### Q4: Write a Python Program to calculate the natural logarithm of any number?"
   ]
  },
  {
   "cell_type": "code",
   "execution_count": 2,
   "id": "1d91bd9e",
   "metadata": {},
   "outputs": [
    {
     "name": "stdout",
     "output_type": "stream",
     "text": [
      " Please input the number to calculate : 30\n"
     ]
    },
    {
     "data": {
      "text/plain": [
       "3.4011973816621555"
      ]
     },
     "execution_count": 2,
     "metadata": {},
     "output_type": "execute_result"
    }
   ],
   "source": [
    "## Solution:\n",
    "import math\n",
    "inp = eval(input(\" Please input the number to calculate : \"))\n",
    "def nat_log(a):\n",
    "    return math.log(a )\n",
    "    \n",
    "nat_log(inp)"
   ]
  },
  {
   "cell_type": "markdown",
   "id": "6f976b47",
   "metadata": {},
   "source": [
    "### Q5: Write a Python Program for cube sum of first n natural numbers?"
   ]
  },
  {
   "cell_type": "code",
   "execution_count": 3,
   "id": "0e9beabe",
   "metadata": {},
   "outputs": [
    {
     "name": "stdout",
     "output_type": "stream",
     "text": [
      " Please enter the number : 5\n"
     ]
    },
    {
     "data": {
      "text/plain": [
       "225"
      ]
     },
     "execution_count": 3,
     "metadata": {},
     "output_type": "execute_result"
    }
   ],
   "source": [
    "## Solution:\n",
    "\n",
    "inp = eval(input(\" Please enter the number : \"))\n",
    "def cube_sum(a):\n",
    "    return sum(list(map(lambda x : x**3, range(a+1))))\n",
    "cube_sum(inp)"
   ]
  }
 ],
 "metadata": {
  "kernelspec": {
   "display_name": "Python 3",
   "language": "python",
   "name": "python3"
  },
  "language_info": {
   "codemirror_mode": {
    "name": "ipython",
    "version": 3
   },
   "file_extension": ".py",
   "mimetype": "text/x-python",
   "name": "python",
   "nbconvert_exporter": "python",
   "pygments_lexer": "ipython3",
   "version": "3.8.8"
  }
 },
 "nbformat": 4,
 "nbformat_minor": 5
}
