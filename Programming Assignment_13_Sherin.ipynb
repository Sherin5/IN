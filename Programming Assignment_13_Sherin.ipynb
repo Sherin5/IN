{
 "cells": [
  {
   "cell_type": "markdown",
   "id": "fc976088",
   "metadata": {},
   "source": [
    "### Q1: Write a program that calculates and prints the value according to the given formula:\n",
    "\n",
    "Q = Square root of [(2 * C * D)/H]\n",
    "\n",
    "Following are the fixed values of C and H:\n",
    "\n",
    "C is 50. H is 30.\n",
    "\n",
    "D is the variable whose values should be input to your program in a comma-separated sequence."
   ]
  },
  {
   "cell_type": "code",
   "execution_count": 5,
   "id": "9f2f7745",
   "metadata": {},
   "outputs": [
    {
     "name": "stdout",
     "output_type": "stream",
     "text": [
      " Please enter the values for D : 100,150,180\n"
     ]
    },
    {
     "data": {
      "text/plain": [
       "[18, 22, 24]"
      ]
     },
     "execution_count": 5,
     "metadata": {},
     "output_type": "execute_result"
    }
   ],
   "source": [
    "## Solution:\n",
    "\n",
    "Inp = input(\" Please enter the values for D : \").split(\",\")\n",
    "def calc(a):\n",
    "    l= []\n",
    "    C=50\n",
    "    H=30\n",
    "    for i in a:\n",
    "        m = ((2*C*int(i))/H)**(1/2)\n",
    "        l.append(int(m))\n",
    "    return l\n",
    "calc(Inp)\n"
   ]
  },
  {
   "cell_type": "markdown",
   "id": "8bf8f007",
   "metadata": {},
   "source": [
    "### Q2: Write a program which takes 2 digits, X,Y as input and generates a 2-dimensional array. The element value in the i-th row and j-th column of the array should be i*j.\n",
    "\n",
    "Note: i=0,1.., X-1; j=0,1,¡Y-1."
   ]
  },
  {
   "cell_type": "code",
   "execution_count": 50,
   "id": "bd8ad413",
   "metadata": {},
   "outputs": [
    {
     "name": "stdout",
     "output_type": "stream",
     "text": [
      " Please enter the dimensions of the array separated by comma: 3,5\n"
     ]
    },
    {
     "data": {
      "text/plain": [
       "[[0, 0, 0, 0, 0], [0, 1, 2, 3, 4], [0, 2, 4, 6, 8]]"
      ]
     },
     "execution_count": 50,
     "metadata": {},
     "output_type": "execute_result"
    }
   ],
   "source": [
    "## Solution:\n",
    "\n",
    "Inp = input(\" Please enter the dimensions of the array separated by comma: \").split(\",\")\n",
    "def two_d_array(a):\n",
    "    l = []\n",
    "    [[[l.append(i*j)]] for i in range(int(a[0])) for j in range(int(a[1]))]\n",
    "    m = [l[i:i+int(a[1])] for i in range(0,len(l),int(a[1]))]\n",
    "    return m\n",
    "two_d_array(Inp)"
   ]
  },
  {
   "cell_type": "markdown",
   "id": "6d4929ed",
   "metadata": {},
   "source": [
    "### Q3: Write a program that accepts a comma separated sequence of words as input and prints the words in a comma-separated sequence after sorting them alphabetically."
   ]
  },
  {
   "cell_type": "code",
   "execution_count": 51,
   "id": "facf3d2f",
   "metadata": {},
   "outputs": [
    {
     "name": "stdout",
     "output_type": "stream",
     "text": [
      " Please enter the words separated by comma : without,hello,bag,world\n"
     ]
    },
    {
     "data": {
      "text/plain": [
       "['bag', 'hello', 'without', 'world']"
      ]
     },
     "execution_count": 51,
     "metadata": {},
     "output_type": "execute_result"
    }
   ],
   "source": [
    "## Solution:\n",
    "\n",
    "inp = input(\" Please enter the words separated by comma : \").split(\",\")\n",
    "\n",
    "def word_sort(a):\n",
    "    a.sort()\n",
    "    return a\n",
    "word_sort(inp)"
   ]
  },
  {
   "cell_type": "markdown",
   "id": "92bf8797",
   "metadata": {},
   "source": [
    "### Q4: Write a program that accepts a sequence of whitespace separated words as input and prints the words after removing all duplicate words and sorting them alphanumerically. "
   ]
  },
  {
   "cell_type": "code",
   "execution_count": 58,
   "id": "504fd5ba",
   "metadata": {},
   "outputs": [
    {
     "name": "stdout",
     "output_type": "stream",
     "text": [
      " Please enter the words separated by space : hello world and practice makes perfect and hello world again\n"
     ]
    },
    {
     "data": {
      "text/plain": [
       "['again', 'and', 'hello', 'makes', 'perfect', 'practice', 'world']"
      ]
     },
     "execution_count": 58,
     "metadata": {},
     "output_type": "execute_result"
    }
   ],
   "source": [
    "## Solution:\n",
    "\n",
    "inp = input(\" Please enter the words separated by space : \").split(\" \")\n",
    "def dupl_wor_sort(a):\n",
    "    b = set(a)\n",
    "    c= list(b)\n",
    "    c.sort()\n",
    "    return c\n",
    "dupl_wor_sort(inp)"
   ]
  },
  {
   "cell_type": "markdown",
   "id": "91eda904",
   "metadata": {},
   "source": [
    "### Q5: Write a program that accepts a sentence and calculate the number of letters and digits."
   ]
  },
  {
   "cell_type": "code",
   "execution_count": 63,
   "id": "136d3e74",
   "metadata": {},
   "outputs": [
    {
     "name": "stdout",
     "output_type": "stream",
     "text": [
      " Please input the string to count : hello world! 123\n"
     ]
    },
    {
     "data": {
      "text/plain": [
       "'LETTERS : 10 and DIGITS : 3'"
      ]
     },
     "execution_count": 63,
     "metadata": {},
     "output_type": "execute_result"
    }
   ],
   "source": [
    "## Solution:\n",
    "import re\n",
    "inp = input(\" Please input the string to count : \")\n",
    "def num_lett(a):\n",
    "    pattern_lett = r'[a-zA-Z]'\n",
    "    lett = len(re.findall(pattern_lett,a))\n",
    "    pattern_num = r'[1-9]'\n",
    "    num = len(re.findall(pattern_num,a))\n",
    "    return 'LETTERS : {} and DIGITS : {}'.format(lett, num)\n",
    "num_lett(inp)"
   ]
  },
  {
   "cell_type": "markdown",
   "id": "82bc9e29",
   "metadata": {},
   "source": [
    "### Q6: A website requires the users to input username and password to register. Write a program to check the validity of password input by users.\n",
    "\n",
    "Following are the criteria for checking the password:\n",
    "\n",
    "1. At least 1 letter between [a-z]\n",
    "\n",
    "2. At least 1 number between [0-9]\n",
    "\n",
    "1. At least 1 letter between [A-Z]\n",
    "\n",
    "3. At least 1 character from [$#@]\n",
    "\n",
    "4. Minimum length of transaction password: 6\n",
    "\n",
    "5. Maximum length of transaction password: 12\n"
   ]
  },
  {
   "cell_type": "code",
   "execution_count": 68,
   "id": "a8a4ac01",
   "metadata": {},
   "outputs": [
    {
     "name": "stdout",
     "output_type": "stream",
     "text": [
      " Please enter the passwords separated by comma : ABd1234@1,a F1#,2w3E*,2We3345\n",
      "ABd1234@1\n",
      "2We3345\n"
     ]
    },
    {
     "data": {
      "text/plain": [
       "['ABd1234@1']"
      ]
     },
     "execution_count": 68,
     "metadata": {},
     "output_type": "execute_result"
    }
   ],
   "source": [
    "## Solution:\n",
    "import re\n",
    "inp = input(\" Please enter the passwords separated by comma : \").split(\",\")\n",
    "def passwrd(a):\n",
    "    l = []\n",
    "    for i in a:\n",
    "        if len(i)>= 6 and len(i) <= 12:\n",
    "            patt1 = r'[a-z]'\n",
    "            if len(re.findall(patt1,i)) >= 1:\n",
    "                patt2 = r'[A-Z]'\n",
    "                if len(re.findall(patt2,i)) >= 1:\n",
    "                    patt3 = r'[1-9]'\n",
    "                    if len(re.findall(patt3,i)) >= 1:\n",
    "                        patt4  = r'[\\$]|[\\#]|[\\@]'\n",
    "                        if len(re.findall(patt4,i)) >= 1:\n",
    "                            l.append(i)\n",
    "    return l\n",
    "passwrd(inp)"
   ]
  }
 ],
 "metadata": {
  "kernelspec": {
   "display_name": "Python 3",
   "language": "python",
   "name": "python3"
  },
  "language_info": {
   "codemirror_mode": {
    "name": "ipython",
    "version": 3
   },
   "file_extension": ".py",
   "mimetype": "text/x-python",
   "name": "python",
   "nbconvert_exporter": "python",
   "pygments_lexer": "ipython3",
   "version": "3.8.8"
  }
 },
 "nbformat": 4,
 "nbformat_minor": 5
}
