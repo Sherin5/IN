{
 "cells": [
  {
   "cell_type": "markdown",
   "id": "75e5e255",
   "metadata": {},
   "source": [
    "## Q1: Write a Python Program to Find LCM?"
   ]
  },
  {
   "cell_type": "code",
   "execution_count": 15,
   "id": "dc56575e",
   "metadata": {},
   "outputs": [
    {
     "name": "stdout",
     "output_type": "stream",
     "text": [
      " Please enter the first number to calculate LCM : 24\n",
      " Please enter the second number to calculate LCM : 300\n",
      " The LCM of 24 and 300 is 600\n"
     ]
    }
   ],
   "source": [
    "## Solution:\n",
    "\n",
    "inp = input(\" Please enter the first number to calculate LCM : \")\n",
    "inp1 = input(\" Please enter the second number to calculate LCM : \")\n",
    "\n",
    "try:\n",
    "    num = int(inp)\n",
    "    num1 = int(inp1)\n",
    "    maximum= max(num,num1)\n",
    "    def lcm(num, num1):\n",
    "        l = set()\n",
    "        m = set()\n",
    "        for i in range(1,maximum):\n",
    "            prod = num*i\n",
    "            l.add(prod)\n",
    "        for j in range(1,maximum):\n",
    "            prod1 = num1*j\n",
    "            m.add(prod1)\n",
    "        low= min(m.intersection(l))\n",
    "        print(\" The LCM of {} and {} is {}\".format(inp, inp1, low))\n",
    "    lcm(num, num1)\n",
    "except ValueError:\n",
    "    print(\" Please enter a valid number \")"
   ]
  },
  {
   "cell_type": "markdown",
   "id": "6a14db8a",
   "metadata": {},
   "source": [
    "## Q2: Write a Python Program to Find HCF?"
   ]
  },
  {
   "cell_type": "code",
   "execution_count": 21,
   "id": "6034d16b",
   "metadata": {},
   "outputs": [
    {
     "name": "stdout",
     "output_type": "stream",
     "text": [
      " Please enter the first number to calculate HCF : 60\n",
      " Please enter the second number to calculate HCF : 20\n",
      " The HCF of 60 and 20 is 20\n"
     ]
    }
   ],
   "source": [
    "## Solution:\n",
    "\n",
    "inp = input(\" Please enter the first number to calculate HCF : \")\n",
    "inp1 = input(\" Please enter the second number to calculate HCF : \")\n",
    "\n",
    "try:\n",
    "    num = int(inp)\n",
    "    num1 = int(inp1)\n",
    "    maximum= max(num,num1)\n",
    "    def hcf(num, num1):\n",
    "        l = set()\n",
    "        m = set()\n",
    "        for i in range(1,maximum):\n",
    "            if num%i==0:\n",
    "                l.add(i)\n",
    "        for j in range(1,maximum):\n",
    "            if num1%j==0:\n",
    "                m.add(j)\n",
    "        high= max(m.intersection(l))\n",
    "        print(\" The HCF of {} and {} is {}\".format(inp, inp1, high))\n",
    "    hcf(num, num1)\n",
    "except ValueError:\n",
    "    print(\" Please enter a valid number \")\n",
    "\n"
   ]
  },
  {
   "cell_type": "markdown",
   "id": "8c46ae61",
   "metadata": {},
   "source": [
    "## Q3: Write a Python Program to Convert Decimal to Binary, Octal and Hexadecimal?"
   ]
  },
  {
   "cell_type": "code",
   "execution_count": 7,
   "id": "1ac08e35",
   "metadata": {},
   "outputs": [
    {
     "name": "stdout",
     "output_type": "stream",
     "text": [
      " Please enter number to convert to decimal : 540\n",
      " The decimal 540 converted to binary is : 1000011100\n",
      " The decimal 540 converted to Octal is : 1034\n",
      " The decimal 540 converted to hexadecimal is : 021C\n"
     ]
    }
   ],
   "source": [
    "## Solution: \n",
    "\n",
    "inp = input(\" Please enter number to convert to decimal : \")\n",
    "\n",
    "try:\n",
    "    num = int(inp)\n",
    "    if num > 0:\n",
    "        def bin(num):\n",
    "            mod = 0\n",
    "            l = []\n",
    "            div = num\n",
    "            fin = num\n",
    "            while div >= 1:\n",
    "                div = int(fin/2)\n",
    "                l.append(fin%2)\n",
    "                fin = div\n",
    "            t =(\"\".join(map(str,l[::-1])))\n",
    "            print(\" The decimal {} converted to binary is : {}\".format(inp, t))        \n",
    "        bin(num)\n",
    "        def oct(num):\n",
    "            mod = 0\n",
    "            l = []\n",
    "            div = num\n",
    "            fin = num\n",
    "            while div >= 1:\n",
    "                div = int(fin/8)\n",
    "                l.append(fin%8)\n",
    "                fin = div\n",
    "            t =(\"\".join(map(str,l[::-1])))\n",
    "            print(\" The decimal {} converted to Octal is : {}\".format(inp, t))        \n",
    "        oct(num)\n",
    "        def hex(num):\n",
    "            mod = 0\n",
    "            l = []\n",
    "            d1 = {1:1, 2:2, 3:3, 4:4, 5:5, 6:6, 7:7,8:8, 0:0, 9:9,10:\"A\",11:\"B\",12:\"C\",13:\"D\",14:\"E\",15:\"F\"}\n",
    "            div = num\n",
    "            fin = num\n",
    "            while div >= 1:\n",
    "                div = int(fin/16)\n",
    "                \n",
    "                l.append(d1[fin%16])\n",
    "                fin = div\n",
    "            if len(l)==1:\n",
    "                l.extend([0,0,0])\n",
    "            else:\n",
    "                l.append(0)\n",
    "            t =(\"\".join(map(str,l[::-1])))\n",
    "            print(\" The decimal {} converted to hexadecimal is : {}\".format(inp, t))        \n",
    "        hex(num)\n",
    "        \n",
    "    else:\n",
    "        print(\" Please enter a number greater than 0 \")\n",
    "except ValueError:\n",
    "    print(\" Please enter a valid number \")"
   ]
  },
  {
   "cell_type": "markdown",
   "id": "1fdbe7dd",
   "metadata": {},
   "source": [
    "## Q4: Write a Python Program To Find ASCII value of a character?"
   ]
  },
  {
   "cell_type": "code",
   "execution_count": 15,
   "id": "374b2881",
   "metadata": {},
   "outputs": [
    {
     "name": "stdout",
     "output_type": "stream",
     "text": [
      " Please enter character to convert to decimal : 3\n",
      " The ASCII value of a character 3 is 51 \n"
     ]
    }
   ],
   "source": [
    "## Solution: \n",
    "\n",
    "inp = input(\" Please enter character to convert to decimal : \")\n",
    "\n",
    "def asc(inp):\n",
    "    char = ord(inp)\n",
    "    print(\" The ASCII value of a character {} is {} \".format(inp, char))\n",
    "    \n",
    "asc(inp)\n"
   ]
  },
  {
   "cell_type": "markdown",
   "id": "f233d066",
   "metadata": {},
   "source": [
    "## Q5: Write a Python Program to Make a Simple Calculator with 4 basic mathematical operations?"
   ]
  },
  {
   "cell_type": "code",
   "execution_count": 8,
   "id": "2a5d472c",
   "metadata": {},
   "outputs": [
    {
     "name": "stdout",
     "output_type": "stream",
     "text": [
      " Please enter the first number for calculation : 3\n",
      " Please enter the mathematical operation (Add, Subtract, Divide, or Multiply): *\n",
      " Please enter the second number for calculation : 2\n",
      " 3 * 2 = 6.0\n"
     ]
    }
   ],
   "source": [
    "## Solution:\n",
    "import operator\n",
    "\n",
    "inp = input(\" Please enter the first number for calculation : \")\n",
    "sign = input(\" Please enter the mathematical operation (Add, Subtract, Divide, or Multiply): \")\n",
    "inp1 = input(\" Please enter the second number for calculation : \")\n",
    "ops = {'+': operator.add, \n",
    "       '-': operator.sub,\n",
    "       '/': operator.truediv,\n",
    "       '*': operator.mul}\n",
    "\n",
    "try:\n",
    "    num = float(inp)\n",
    "    num1 = float(inp1)\n",
    "    if sign in ops:\n",
    "        if sign ==\"+\":\n",
    "            calc= operator.add(num, num1)\n",
    "        elif sign == \"-\":\n",
    "            calc=operator.sub(num, num1)\n",
    "        elif sign ==\"/\":\n",
    "            calc=operator.truediv(num, num1)\n",
    "        else:\n",
    "            calc=operator.mul(num,num1)\n",
    "        print(' {} {} {} = {}'.format(inp, sign, inp1, calc)  )\n",
    "    else:\n",
    "        print(\" Please enter a +, -, /, or * operator : \")\n",
    "except ValueError:\n",
    "    print(\" Please enter a numerical value for calculation\")"
   ]
  }
 ],
 "metadata": {
  "kernelspec": {
   "display_name": "Python 3",
   "language": "python",
   "name": "python3"
  }
 },
 "nbformat": 4,
 "nbformat_minor": 5
}
