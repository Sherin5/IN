{
 "cells": [
  {
   "cell_type": "markdown",
   "id": "bfa8cae1",
   "metadata": {},
   "source": [
    "###  Q1: Write a function that takes a list of lists and returns the value of all of the symbols in it, where each symbol adds or takes something from the total score. Symbol values:\n",
    "### # = 5,  O = 3, X = 1,  ! = -1,  !! = -3, !!! = -5\n"
   ]
  },
  {
   "cell_type": "code",
   "execution_count": 31,
   "id": "0f2306c1",
   "metadata": {},
   "outputs": [],
   "source": [
    "## Solution:\n",
    "\n",
    "def check_score(lst):\n",
    "    d1 = {'#': 5, 'O':3,'X':1,\"!\":-1,\"!!\":-3, \"!!!\":-5}\n",
    "    \n",
    "    s = 0\n",
    "    for i in lst:\n",
    "        for j in i:\n",
    "            s+=d1[j]\n",
    "    if s < 0:\n",
    "        return 0\n",
    "    else:\n",
    "        return \"the corresponding sum of the list is\", s\n",
    "    "
   ]
  },
  {
   "cell_type": "code",
   "execution_count": 32,
   "id": "b3c73769",
   "metadata": {},
   "outputs": [
    {
     "data": {
      "text/plain": [
       "('the corresponding sum of the list is', 2)"
      ]
     },
     "execution_count": 32,
     "metadata": {},
     "output_type": "execute_result"
    }
   ],
   "source": [
    "check_score([['#',\"!\"], ['X',\"!!\"]])"
   ]
  },
  {
   "cell_type": "markdown",
   "id": "071bbf23",
   "metadata": {},
   "source": [
    "### Q2: Create a function that takes a variable number of arguments, each argument representing the number of items in a group, and returns the number of permutations (combinations) of items that you could get by taking one item from each group.\n",
    "        "
   ]
  },
  {
   "cell_type": "code",
   "execution_count": 59,
   "id": "ca611af1",
   "metadata": {},
   "outputs": [],
   "source": [
    "## Solution:\n",
    "\n",
    "def combination(*args):\n",
    "    c = 1\n",
    "    for i in args:\n",
    "        for j in range(i,0,-1):\n",
    "            if j-1==0:\n",
    "                break\n",
    "            else:\n",
    "                c=(c*j)/(1*(j-1))   \n",
    "    return c\n",
    "    "
   ]
  },
  {
   "cell_type": "code",
   "execution_count": 63,
   "id": "aef983c4",
   "metadata": {},
   "outputs": [
    {
     "data": {
      "text/plain": [
       "120.0"
      ]
     },
     "execution_count": 63,
     "metadata": {},
     "output_type": "execute_result"
    }
   ],
   "source": [
    "combination(2,3,4,5)"
   ]
  },
  {
   "cell_type": "markdown",
   "id": "55837655",
   "metadata": {},
   "source": [
    "### Q3: Create a function that takes a string as an argument and returns the Morse code equivalent."
   ]
  },
  {
   "cell_type": "code",
   "execution_count": 72,
   "id": "89f7218a",
   "metadata": {},
   "outputs": [],
   "source": [
    "\n",
    "def morse(text):\n",
    "    d1 = {'A':'.-', 'B':'-...', 'C':'-.-.', 'D':'-..', 'E':'.','F':'..-.', 'G':'--.', 'H':'....','I':'..', 'J':'.---', 'K':'-.-',\n",
    "                    'L':'.-..', 'M':'--', 'N':'-.','O':'---', 'P':'.--.', 'Q':'--.-','R':'.-.', 'S':'...', 'T':'-',\n",
    "                    'U':'..-', 'V':'...-', 'W':'.--','X':'-..-', 'Y':'-.--', 'Z':'--..','1':'.----', '2':'..---', '3':'...--', '4':'....-', '5':'.....', '6':'-....',\n",
    "                    '7':'--...', '8':'---..', '9':'----.','0':'-----', ', ':'--..--', '.':'.-.-.-','?':'..--..', '/':'-..-.', '-':'-....-',\n",
    "                    '(':'-.--.', ')':'-.--.-',\" \":\"/\"}\n",
    "    morsecode = ''\n",
    "    for i in text:\n",
    "        morsecode = morsecode + \" \"+d1[i.upper()]\n",
    "        \n",
    "    return morsecode"
   ]
  },
  {
   "cell_type": "code",
   "execution_count": 75,
   "id": "343ecedb",
   "metadata": {},
   "outputs": [
    {
     "data": {
      "text/plain": [
       "' .... . .-.. .--. / -- .'"
      ]
     },
     "execution_count": 75,
     "metadata": {},
     "output_type": "execute_result"
    }
   ],
   "source": [
    "morse('help me')"
   ]
  },
  {
   "cell_type": "markdown",
   "id": "1b042518",
   "metadata": {},
   "source": [
    "### Q4: Write a function that takes a number and returns True if it&#39;s a prime; False otherwise. The number can be 2^64-1 (2 to the power of 63, not XOR). With the standard technique it would be O(2^64-1), which is much too large for the 10 second time limit."
   ]
  },
  {
   "cell_type": "code",
   "execution_count": 79,
   "id": "5e576c43",
   "metadata": {},
   "outputs": [],
   "source": [
    "## Solution:\n",
    "\n",
    "def prime(num):\n",
    "    for i in range(2, num):\n",
    "        if num%i==0:\n",
    "            return False\n",
    "    else:\n",
    "        return True"
   ]
  },
  {
   "cell_type": "code",
   "execution_count": 84,
   "id": "7fbece4b",
   "metadata": {},
   "outputs": [
    {
     "data": {
      "text/plain": [
       "False"
      ]
     },
     "execution_count": 84,
     "metadata": {},
     "output_type": "execute_result"
    }
   ],
   "source": [
    "prime(2**63)"
   ]
  },
  {
   "cell_type": "markdown",
   "id": "7baf266c",
   "metadata": {},
   "source": [
    "### Q5: Create a function that converts a word to a bitstring and then to a boolean list based on the following criteria:\n",
    "1. Locate the position of the letter in the English alphabet (from 1 to 26).\n",
    "2. Odd positions will be represented as 1 and 0 otherwise.\n",
    "3. Convert the represented positions to boolean values, 1 for True and 0\n",
    "for False.\n",
    "4. Store the conversions into an array."
   ]
  },
  {
   "cell_type": "code",
   "execution_count": 109,
   "id": "c86fe903",
   "metadata": {},
   "outputs": [],
   "source": [
    "## Solution:\n",
    "\n",
    "def bitstr(text):\n",
    "    d2 = {}\n",
    "    c= 0\n",
    "    l2=[]\n",
    "    l3 = []\n",
    "    for i in range(ord('a'),ord('z')+1):\n",
    "        d2[chr(i)]= c+1\n",
    "        c+=1\n",
    "    for j in text:\n",
    "        if d2[j.lower()]%2==0:\n",
    "            l2.append(0)\n",
    "        else:\n",
    "            l2.append(1)\n",
    "    for k in l2:\n",
    "         l3.append(bool(k))\n",
    "    return l3\n",
    "    \n",
    "    "
   ]
  },
  {
   "cell_type": "code",
   "execution_count": 110,
   "id": "b10e60f3",
   "metadata": {},
   "outputs": [
    {
     "data": {
      "text/plain": [
       "[True, False, True, False, True, False]"
      ]
     },
     "execution_count": 110,
     "metadata": {},
     "output_type": "execute_result"
    }
   ],
   "source": [
    "bitstr(\"SHERIN\")"
   ]
  }
 ],
 "metadata": {
  "kernelspec": {
   "display_name": "Python 3",
   "language": "python",
   "name": "python3"
  },
  "language_info": {
   "codemirror_mode": {
    "name": "ipython",
    "version": 3
   },
   "file_extension": ".py",
   "mimetype": "text/x-python",
   "name": "python",
   "nbconvert_exporter": "python",
   "pygments_lexer": "ipython3",
   "version": "3.8.8"
  }
 },
 "nbformat": 4,
 "nbformat_minor": 5
}
