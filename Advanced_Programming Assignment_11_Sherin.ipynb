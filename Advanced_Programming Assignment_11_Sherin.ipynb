{
 "cells": [
  {
   "cell_type": "markdown",
   "id": "0ada154c",
   "metadata": {},
   "source": [
    "### Q1: Create a function that takes a list and returns a new list containing only prime numbers."
   ]
  },
  {
   "cell_type": "code",
   "execution_count": 8,
   "id": "f85e74ca",
   "metadata": {},
   "outputs": [
    {
     "name": "stdout",
     "output_type": "stream",
     "text": [
      " Please enter the list of numbers to filter : [7, 9, 3, 9, 10, 11, 27]\n"
     ]
    },
    {
     "data": {
      "text/plain": [
       "[3, 7, 11]"
      ]
     },
     "execution_count": 8,
     "metadata": {},
     "output_type": "execute_result"
    }
   ],
   "source": [
    "## Solution:\n",
    "\n",
    "inp = eval(input(\" Please enter the list of numbers to filter : \"))\n",
    "\n",
    "def prime(a):\n",
    "    \"\"\"\n",
    "    This function takes in a list and returns all the prime numbers from the list\n",
    "    \"\"\"\n",
    "    c = max(a)\n",
    "    l=[]\n",
    "    v=[]\n",
    "    try:\n",
    "        for i in range(1, c+1):\n",
    "            for j in range(2, i):\n",
    "                if i%j==0:\n",
    "                    break\n",
    "            else:\n",
    "                l.append(i)\n",
    "        for k in a:\n",
    "            if k in l:\n",
    "                v.append(k)\n",
    "                v.sort()\n",
    "        return v\n",
    "        \n",
    "    except Exception as e:\n",
    "        print(e)\n",
    "prime(inp)\n",
    "                "
   ]
  },
  {
   "cell_type": "markdown",
   "id": "51801bc5",
   "metadata": {},
   "source": [
    "### Q2: Once a water balloon pops, is soaks the area around it. The ground gets drier the further away you travel from the balloon.\n",
    "\n",
    "### The effect of a water balloon popping can be modeled using a list. Create a function that takes a list which takes the pre-pop state and returns the state after the balloon is popped. The pre-pop state will contain at most a single balloon, whose size is represented by the only non-zero element."
   ]
  },
  {
   "cell_type": "code",
   "execution_count": 16,
   "id": "3d72cf0d",
   "metadata": {},
   "outputs": [
    {
     "name": "stdout",
     "output_type": "stream",
     "text": [
      " Please enter a list : [0, 0, 0, 3, 0, 0, 0]\n"
     ]
    },
    {
     "data": {
      "text/plain": [
       "[0, 1, 2, 3, 2, 1, 0]"
      ]
     },
     "execution_count": 16,
     "metadata": {},
     "output_type": "execute_result"
    }
   ],
   "source": [
    "## Solution:\n",
    "\n",
    "inp = eval(input(\" Please enter a list : \"))\n",
    "\n",
    "def baloon(a):\n",
    "    \"\"\"\n",
    "    This function takes in a list and returns the baloons popping image\n",
    "    \"\"\"\n",
    "    c = max(a)\n",
    "    l=[]\n",
    "    try:\n",
    "        if a.count(0)== c*2:\n",
    "            for i in range(c):\n",
    "                a[i] = i\n",
    "                a[-i-1]=i\n",
    "            return a\n",
    "        else:\n",
    "            print(\"Please enter a list of equal size with baloon in the middle \")\n",
    "    except Exception as e:\n",
    "        print(e)\n",
    "baloon(inp)"
   ]
  },
  {
   "cell_type": "markdown",
   "id": "49593ecc",
   "metadata": {},
   "source": [
    "### Q3: &quot;Loves me, loves me not&quot; is a traditional game in which a person plucks off all the petals of a flower one by one, saying the phrase &quot;Loves me&quot; and &quot;Loves me not&quot; when determining whether the one that they love, loves them back.\n",
    "\n",
    "### Given a number of petals, return a string which repeats the phrases &quot;Loves me&quot; and &quot;Loves me not&quot; for every alternating petal, and return the last phrase in all caps. Remember to put a comma and space between phrases."
   ]
  },
  {
   "cell_type": "code",
   "execution_count": 32,
   "id": "a6c6e9cb",
   "metadata": {},
   "outputs": [
    {
     "name": "stdout",
     "output_type": "stream",
     "text": [
      " Please enter the number of Petals : 1\n"
     ]
    },
    {
     "data": {
      "text/plain": [
       "'LOVES ME'"
      ]
     },
     "execution_count": 32,
     "metadata": {},
     "output_type": "execute_result"
    }
   ],
   "source": [
    "## Solution:\n",
    "\n",
    "inp = eval(input(\" Please enter the number of Petals : \"))\n",
    "\n",
    "def lovesme(a):\n",
    "    \"\"\"\n",
    "    Given the number of petals, this function returns either Loves me or Loves me not\n",
    "    \"\"\"\n",
    "    odd =\"Loves me, \"\n",
    "    even = \"Loves me not, \"\n",
    "    l=\"\"\n",
    "    for i in range(a-1):\n",
    "        if i%2==0 :\n",
    "            l+=odd\n",
    "        elif i%2==1 :\n",
    "            l+=even\n",
    "    if a%2==0:\n",
    "        l+=even.upper().strip(\", \")\n",
    "    else:\n",
    "        l+=odd.upper().strip(\", \")\n",
    "    return l\n",
    "\n",
    "lovesme(inp)\n",
    "            "
   ]
  },
  {
   "cell_type": "markdown",
   "id": "0ebad320",
   "metadata": {},
   "source": [
    "### Q4: Write a function that sorts each string in a list by the letter in alphabetic ascending order (a-z)."
   ]
  },
  {
   "cell_type": "code",
   "execution_count": 20,
   "id": "d17d9d28",
   "metadata": {},
   "outputs": [
    {
     "name": "stdout",
     "output_type": "stream",
     "text": [
      " Please enter the list of items to be sorted :['932c', '832u32', '2344b']\n"
     ]
    },
    {
     "data": {
      "text/plain": [
       "['2344b', '932c', '832u32']"
      ]
     },
     "execution_count": 20,
     "metadata": {},
     "output_type": "execute_result"
    }
   ],
   "source": [
    "## Solution: \n",
    "\n",
    "inp = eval(input(\" Please enter the list of items to be sorted :\"))\n",
    "\n",
    "def sort(a):\n",
    "    \"\"\"\n",
    "    This function takes a list as an input and returns the list in ascending order of the alphabetical letters.\n",
    "    \"\"\"\n",
    "    l= []\n",
    "    v=[0]*len(a)\n",
    "    for i in a:\n",
    "        for j in i:\n",
    "            if j.isalpha():\n",
    "                l.append(j)\n",
    "                l.sort()\n",
    "    for k in a:\n",
    "        for m in k:\n",
    "            if m in l:\n",
    "                v[l.index(m)]= k               \n",
    "    return v\n",
    "sort(inp)\n",
    "    "
   ]
  },
  {
   "cell_type": "markdown",
   "id": "a81e72ec",
   "metadata": {},
   "source": [
    "### Q5: There are three cups on a table, at positions A, B, and C. At the start, there is a ball hidden under the cup at position B.\n",
    "\n",
    "However, I perform several swaps on the cups, which is notated as two\n",
    "letters. For example, if I swap the cups at positions A and B, I could notate\n",
    "this as AB or BA.\n",
    "Create a function that returns the letter position that the ball is at, once I finish\n",
    "swapping the cups. The swaps will be given to you as a list."
   ]
  },
  {
   "cell_type": "code",
   "execution_count": 44,
   "id": "265bba98",
   "metadata": {},
   "outputs": [
    {
     "name": "stdout",
     "output_type": "stream",
     "text": [
      " Please enter the list of moves : ['AB','CA','AB']\n"
     ]
    },
    {
     "data": {
      "text/plain": [
       "'C'"
      ]
     },
     "execution_count": 44,
     "metadata": {},
     "output_type": "execute_result"
    }
   ],
   "source": [
    "## Solution:\n",
    "\n",
    "inp = eval(input(\" Please enter the list of moves : \"))\n",
    "\n",
    "def cup_swap(a):\n",
    "    \"\"\"\n",
    "    This function predicts the position of the ball based on the moves provided in the list\n",
    "    \"\"\"\n",
    "    l=[0]*len(a)\n",
    "    cnt=0\n",
    "    b=[\"B\"]\n",
    "    for i in a:\n",
    "        a[cnt] = \"\".join(sorted(i)).upper()\n",
    "        cnt+=1\n",
    "    for j in a:\n",
    "        if b[0] in j:\n",
    "            for k in j:\n",
    "                if k!=b[0]:\n",
    "                    b[0] = k\n",
    "                    break       \n",
    "    return b[0]\n",
    "\n",
    "cup_swap(inp)\n",
    "            "
   ]
  }
 ],
 "metadata": {
  "kernelspec": {
   "display_name": "Python 3",
   "language": "python",
   "name": "python3"
  },
  "language_info": {
   "codemirror_mode": {
    "name": "ipython",
    "version": 3
   },
   "file_extension": ".py",
   "mimetype": "text/x-python",
   "name": "python",
   "nbconvert_exporter": "python",
   "pygments_lexer": "ipython3",
   "version": "3.8.8"
  }
 },
 "nbformat": 4,
 "nbformat_minor": 5
}
