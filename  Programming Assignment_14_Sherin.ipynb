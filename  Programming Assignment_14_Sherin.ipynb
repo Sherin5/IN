{
 "cells": [
  {
   "cell_type": "markdown",
   "id": "64fbc24a",
   "metadata": {},
   "source": [
    "### Q1: Define a class with a generator which can iterate the numbers, which are divisible by 7, between a given range 0 and n."
   ]
  },
  {
   "cell_type": "code",
   "execution_count": 4,
   "id": "544cd21a",
   "metadata": {},
   "outputs": [
    {
     "name": "stdout",
     "output_type": "stream",
     "text": [
      " Please input the number upto which you want to check : 200\n",
      "0\n",
      "7\n",
      "14\n",
      "21\n",
      "28\n",
      "35\n",
      "42\n",
      "49\n",
      "56\n",
      "63\n",
      "70\n",
      "77\n",
      "84\n",
      "91\n",
      "98\n",
      "105\n",
      "112\n",
      "119\n",
      "126\n",
      "133\n",
      "140\n",
      "147\n",
      "154\n",
      "161\n",
      "168\n",
      "175\n",
      "182\n",
      "189\n",
      "196\n"
     ]
    }
   ],
   "source": [
    "## Solution:\n",
    "\n",
    "inp = eval(input(\" Please input the number upto which you want to check : \"))\n",
    "class generate:\n",
    "    def __init__(self):\n",
    "        pass\n",
    "        \n",
    "    def div_by_7(self,a):\n",
    "        for i in range(a):\n",
    "            if i%7==0:\n",
    "                yield i \n",
    "\n",
    "c1 = generate()\n",
    "for j in c1.div_by_7(inp):\n",
    "    print(j)"
   ]
  },
  {
   "cell_type": "markdown",
   "id": "f5b56ac3",
   "metadata": {},
   "source": [
    "### Q2: Write a program to compute the frequency of the words from the input. The output should output after sorting the key alphanumerically."
   ]
  },
  {
   "cell_type": "code",
   "execution_count": 15,
   "id": "cc1e900b",
   "metadata": {},
   "outputs": [
    {
     "name": "stdout",
     "output_type": "stream",
     "text": [
      " Please input the sentence : New to Python or choosing between Python 2 and Python 3? Read Python 2 or Python 3\n"
     ]
    },
    {
     "data": {
      "text/plain": [
       "{'2': 2,\n",
       " '3': 1,\n",
       " '3?': 1,\n",
       " 'New': 1,\n",
       " 'Python': 5,\n",
       " 'Read': 1,\n",
       " 'and': 1,\n",
       " 'between': 1,\n",
       " 'choosing': 1,\n",
       " 'or': 2,\n",
       " 'to': 1}"
      ]
     },
     "execution_count": 15,
     "metadata": {},
     "output_type": "execute_result"
    }
   ],
   "source": [
    "### Solution:\n",
    "\n",
    "inp = input(\" Please input the sentence : \").split(\" \")\n",
    "\n",
    "def freq_word(a):\n",
    "    alpha =[]\n",
    "    num = []\n",
    "    d={}\n",
    "    for i in a:\n",
    "        if i.isnumeric():\n",
    "            num.append(i)\n",
    "        else:\n",
    "            alpha.append(i)\n",
    "    c = sorted(num) + sorted(alpha)\n",
    "    for j in c:\n",
    "        d.setdefault(j, a.count(j))\n",
    "    return d\n",
    "freq_word(inp)"
   ]
  },
  {
   "cell_type": "markdown",
   "id": "3d3bc6b4",
   "metadata": {},
   "source": [
    "### Q3: Define a class Person and its two child classes: Male and Female. All classes have a method &quot;getGender&quot; which can print &quot;Male&quot; for Male class and &quot;Female&quot; for Female class."
   ]
  },
  {
   "cell_type": "code",
   "execution_count": 22,
   "id": "804c0e44",
   "metadata": {},
   "outputs": [
    {
     "data": {
      "text/plain": [
       "'Male'"
      ]
     },
     "execution_count": 22,
     "metadata": {},
     "output_type": "execute_result"
    }
   ],
   "source": [
    "## Solution:\n",
    "\n",
    "class Person:\n",
    "    def __init__(self):\n",
    "        pass\n",
    "class Male(Person):\n",
    "    def getGender(self):\n",
    "        return 'Male'\n",
    "class Female(Person):\n",
    "    def getGender(self):\n",
    "        return 'Female'\n",
    "M1= Male()\n",
    "M1.getGender()     \n",
    "        "
   ]
  },
  {
   "cell_type": "markdown",
   "id": "3ab54568",
   "metadata": {},
   "source": [
    "### Q4: Please write a program to generate all sentences where subject is in [&quot;I&quot;, &quot;You&quot;] and verb is in [&quot;Play&quot;, &quot;Love&quot;] and the object is in [&quot;Hockey&quot;,&quot;Football&quot;]."
   ]
  },
  {
   "cell_type": "code",
   "execution_count": 25,
   "id": "3ae4bb0e",
   "metadata": {},
   "outputs": [
    {
     "name": "stdout",
     "output_type": "stream",
     "text": [
      " Please enter the list of subject, verb and object as lists : [[\"I\", \"You\"],[\"Play\", \"Love\"],[\"Hockey\",\"Football\"]]\n",
      "I Play Hockey\n",
      "I Play Football\n",
      "I Love Hockey\n",
      "I Love Football\n",
      "You Play Hockey\n",
      "You Play Football\n",
      "You Love Hockey\n",
      "You Love Football\n"
     ]
    }
   ],
   "source": [
    "## Solution:\n",
    "\n",
    "inp = eval(input(\" Please enter the list of subject, verb and object as lists : \"))\n",
    "def sentence(a):\n",
    "    sub=[\"I\", \"You\"]\n",
    "    ver=[\"Play\", \"Love\"]\n",
    "    obj=[\"Hockey\",\"Football\"]\n",
    "    c=0\n",
    "    d= len(a)\n",
    "    for i in a[0]:\n",
    "        for j in a[1]:\n",
    "            for k in a[2]:\n",
    "                if i in sub and j in ver and k in obj:\n",
    "                    print('{} {} {}'.format(i,j,k))\n",
    "sentence(inp)\n",
    "            "
   ]
  },
  {
   "cell_type": "markdown",
   "id": "e8149947",
   "metadata": {},
   "source": [
    "### Q5: Please write a program to compress and decompress the string &quot;hello world!hello world!hello world!hello world!&quot;."
   ]
  },
  {
   "cell_type": "code",
   "execution_count": 29,
   "id": "e0a790a1",
   "metadata": {},
   "outputs": [
    {
     "name": "stdout",
     "output_type": "stream",
     "text": [
      "b'hello world!hello world!hello world!hello world!'\n"
     ]
    }
   ],
   "source": [
    "## Solution:\n",
    "\n",
    "def comp_decomp():\n",
    "    import gzip\n",
    "    com = b'hello world!hello world!hello world!hello world!'\n",
    "    comp = gzip.compress(com)\n",
    "    decom = gzip.decompress(comp)\n",
    "    print(decom)\n",
    "    \n",
    "comp_decomp()"
   ]
  },
  {
   "cell_type": "markdown",
   "id": "69a81b3b",
   "metadata": {},
   "source": [
    "### Q6: Please write a binary search function which searches an item in a sorted list. The function should return the index of element to be searched in the list."
   ]
  },
  {
   "cell_type": "code",
   "execution_count": 31,
   "id": "8cb9b9a1",
   "metadata": {},
   "outputs": [
    {
     "name": "stdout",
     "output_type": "stream",
     "text": [
      " please enter the list of numbers : [1,5,2,6,4,3]\n",
      " please enter the number to search : 5\n"
     ]
    },
    {
     "data": {
      "text/plain": [
       "([1, 2, 3, 4, 5, 6], 4)"
      ]
     },
     "execution_count": 31,
     "metadata": {},
     "output_type": "execute_result"
    }
   ],
   "source": [
    "## Solution:\n",
    "\n",
    "inp = eval(input(\" please enter the list of numbers : \"))\n",
    "inp1 = eval(input(\" please enter the number to search : \"))\n",
    "\n",
    "def bin_sear(a,b):\n",
    "    a.sort()\n",
    "    low = 0\n",
    "    high = len(a)-1\n",
    "    while low<=high:\n",
    "        mid = low + (high - low)//2\n",
    "        if b == a[mid]:\n",
    "            return a, mid\n",
    "        elif b > a[mid]:\n",
    "            low = mid +1\n",
    "        else:\n",
    "            high = mid-1\n",
    "    return False\n",
    "bin_sear(inp,inp1)\n",
    "\n",
    "    "
   ]
  },
  {
   "cell_type": "code",
   "execution_count": null,
   "id": "ac134c81",
   "metadata": {},
   "outputs": [],
   "source": []
  }
 ],
 "metadata": {
  "kernelspec": {
   "display_name": "Python 3",
   "language": "python",
   "name": "python3"
  },
  "language_info": {
   "codemirror_mode": {
    "name": "ipython",
    "version": 3
   },
   "file_extension": ".py",
   "mimetype": "text/x-python",
   "name": "python",
   "nbconvert_exporter": "python",
   "pygments_lexer": "ipython3",
   "version": "3.8.8"
  }
 },
 "nbformat": 4,
 "nbformat_minor": 5
}
