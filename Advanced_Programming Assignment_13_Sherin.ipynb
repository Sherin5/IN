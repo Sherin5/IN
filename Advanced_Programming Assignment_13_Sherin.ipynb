{
 "cells": [
  {
   "cell_type": "markdown",
   "id": "7759a290",
   "metadata": {},
   "source": [
    "### Q1: Create a function that takes a list and string. The function should remove the letters in the string from the list, and return the list."
   ]
  },
  {
   "cell_type": "code",
   "execution_count": 11,
   "id": "901c7e16",
   "metadata": {},
   "outputs": [
    {
     "name": "stdout",
     "output_type": "stream",
     "text": [
      " Please enter a list and string separated by a comma : ['b', 'b', 'l', 'l', 'g', 'n', 'o', 'a', 'w'], 'balloon'\n"
     ]
    },
    {
     "data": {
      "text/plain": [
       "['b', 'g', 'w']"
      ]
     },
     "execution_count": 11,
     "metadata": {},
     "output_type": "execute_result"
    }
   ],
   "source": [
    "## Solution:\n",
    "\n",
    "inp, inp1 = eval(input(\" Please enter a list and string separated by a comma : \"))\n",
    "\n",
    "def dupl(a,b):\n",
    "    \"\"\"\n",
    "    This function takes in a list and a string and returns the \n",
    "    \"\"\"\n",
    "    for i in inp1:\n",
    "        if i in inp:\n",
    "            inp.remove(i)\n",
    "    return inp\n",
    "\n",
    "dupl(inp,inp1)"
   ]
  },
  {
   "cell_type": "markdown",
   "id": "68573e39",
   "metadata": {},
   "source": [
    "### Q2: A block sequence in three dimensions. We can write a formula for this one:\n",
    "\n",
    "Create a function that takes a number (step) as an argument and returns the amount of blocks in that step."
   ]
  },
  {
   "cell_type": "code",
   "execution_count": 29,
   "id": "b95dab96",
   "metadata": {},
   "outputs": [
    {
     "name": "stdout",
     "output_type": "stream",
     "text": [
      " Please enter the number of steps : 5\n"
     ]
    },
    {
     "data": {
      "text/plain": [
       "39"
      ]
     },
     "execution_count": 29,
     "metadata": {},
     "output_type": "execute_result"
    }
   ],
   "source": [
    "## Solution:\n",
    "\n",
    "inp = eval(input(\" Please enter the number of steps : \"))\n",
    "\n",
    "def blocks(a):\n",
    "    \"\"\"\n",
    "    This function takes in the number of steps to calculate the number of blocks required\n",
    "    \"\"\"\n",
    "    st1 = 5\n",
    "    if a==1:\n",
    "        return st1\n",
    "    else:\n",
    "        total = st1+ (a-1)*3 \n",
    "        c=4\n",
    "        for i in range(1,(a-1)+1):\n",
    "            total+=c\n",
    "            c+=1\n",
    "    return total\n",
    "blocks(inp)\n",
    "    "
   ]
  },
  {
   "cell_type": "markdown",
   "id": "cb34758b",
   "metadata": {},
   "source": [
    "### Q3: Create a function that subtracts one positive integer from another, without using any arithmetic operators such as -, %, /, +, etc. "
   ]
  },
  {
   "cell_type": "code",
   "execution_count": 47,
   "id": "f8e6a1f9",
   "metadata": {},
   "outputs": [
    {
     "name": "stdout",
     "output_type": "stream",
     "text": [
      " Please enter two postitive integers separated by comma : 5,9\n"
     ]
    },
    {
     "data": {
      "text/plain": [
       "4"
      ]
     },
     "execution_count": 47,
     "metadata": {},
     "output_type": "execute_result"
    }
   ],
   "source": [
    "## Solution:\n",
    "\n",
    "inp, inp1 = eval(input(\" Please enter two postitive integers separated by comma : \"))\n",
    "\n",
    "def subt(a,b):\n",
    "    \"\"\"\n",
    "    This function takes in two positive numbers as inputs and returns the subtracted amount without using arithematic operators\n",
    "    \"\"\"\n",
    "    maximum = max(a, b)\n",
    "    minimum  = min(a, b)\n",
    "    l=[]\n",
    "    if max(a,b)==0:\n",
    "        return 0\n",
    "    for i in range(minimum, maximum):\n",
    "        l.append(i)\n",
    "        sub = len(l)\n",
    "    return sub\n",
    "subt(inp,inp1)\n",
    "   "
   ]
  },
  {
   "cell_type": "markdown",
   "id": "34c53369",
   "metadata": {},
   "source": [
    "### Q4: Create a function that takes a string containing money in dollars and pounds sterling (seperated by comma) and returns the sum of dollar bills only, as an integer.\n",
    "\n",
    "For the input string:\n",
    " -Each amount is prefixed by the currency symbol dollars for dollars and pounds for pounds.\n",
    " -Thousands are represented by the suffix k.\n",
    "i.e. $4k = $4,000 and £40k = £40,000"
   ]
  },
  {
   "cell_type": "code",
   "execution_count": 58,
   "id": "31e92b4e",
   "metadata": {},
   "outputs": [
    {
     "name": "stdout",
     "output_type": "stream",
     "text": [
      " Please enter the amounts separated by comma : 'p30,d20,p60,d150,p360'\n"
     ]
    },
    {
     "data": {
      "text/plain": [
       "170"
      ]
     },
     "execution_count": 58,
     "metadata": {},
     "output_type": "execute_result"
    }
   ],
   "source": [
    "## Solution:\n",
    "\n",
    "inp  = input(\" Please enter the amounts separated by comma : \").split(',')\n",
    "\n",
    "def dollar(a):\n",
    "    \"\"\"\n",
    "    This function calculates the sum of all the dollar amounts\n",
    "    \"\"\"\n",
    "    l=[]\n",
    "    for i in a:\n",
    "        if 'd' in i.strip(\"''\") or \"D\" in i:\n",
    "            if 'k' in i.strip(\"''\") or \"K\" in i:\n",
    "                l.append(int(i.strip(\"''\").strip(\"d\").strip('D').strip(\"k\").strip(\"K\"))*1000)\n",
    "            else:\n",
    "                l.append(int(i.strip(\"''\").strip(\"d\").strip('D')))\n",
    "    return sum(l)\n",
    "dollar(inp)\n",
    "            "
   ]
  },
  {
   "cell_type": "markdown",
   "id": "a354d284",
   "metadata": {},
   "source": [
    "### Q5: Create a function that flips a horizontal list into a vertical list, and a vertical list into a horizontal list.\n",
    "In other words, take an 1 x n list (1 row + n columns) and flip it into a n x 1 list (n rows and 1 column), and vice versa."
   ]
  },
  {
   "cell_type": "code",
   "execution_count": 60,
   "id": "b296c7b1",
   "metadata": {},
   "outputs": [
    {
     "name": "stdout",
     "output_type": "stream",
     "text": [
      " Please enter a list to be converted : [[5], [6], [9]]\n"
     ]
    },
    {
     "data": {
      "text/plain": [
       "[5, 6, 9]"
      ]
     },
     "execution_count": 60,
     "metadata": {},
     "output_type": "execute_result"
    }
   ],
   "source": [
    "## Solution:\n",
    "\n",
    "inp = eval(input(\" Please enter a list to be converted : \"))\n",
    "def hor_vert(a):\n",
    "    \"\"\"\n",
    "    This function converts a vertical list into a horizontal one and vice versa\n",
    "    \"\"\"\n",
    "    l=[]\n",
    "    for i in a:\n",
    "        if type(i)== list:\n",
    "            l.extend(i)\n",
    "        elif type(i)!= list:\n",
    "            l.append([i])\n",
    "    return l\n",
    "hor_vert(inp)\n",
    "            "
   ]
  }
 ],
 "metadata": {
  "kernelspec": {
   "display_name": "Python 3",
   "language": "python",
   "name": "python3"
  },
  "language_info": {
   "codemirror_mode": {
    "name": "ipython",
    "version": 3
   },
   "file_extension": ".py",
   "mimetype": "text/x-python",
   "name": "python",
   "nbconvert_exporter": "python",
   "pygments_lexer": "ipython3",
   "version": "3.8.8"
  }
 },
 "nbformat": 4,
 "nbformat_minor": 5
}
