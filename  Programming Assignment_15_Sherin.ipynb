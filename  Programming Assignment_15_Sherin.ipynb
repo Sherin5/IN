{
 "cells": [
  {
   "cell_type": "markdown",
   "id": "3eaa3e55",
   "metadata": {},
   "source": [
    "### Q1: Please write a program using generator to print the numbers which can be divisible by 5 and 7 between 0 and n in comma separated form while n is input by console."
   ]
  },
  {
   "cell_type": "code",
   "execution_count": 1,
   "id": "29898651",
   "metadata": {},
   "outputs": [
    {
     "name": "stdout",
     "output_type": "stream",
     "text": [
      " Please enter the number upto which you want to generate the numbers : 100\n",
      "0,35,70,"
     ]
    }
   ],
   "source": [
    "## Solution:\n",
    "\n",
    "inp = eval(input(\" Please enter the number upto which you want to generate the numbers : \"))\n",
    "\n",
    "def dev_by_5and7(a):\n",
    "    for i in range(a+1):\n",
    "        if i%5==0 and i%7==0:\n",
    "            yield i\n",
    "            \n",
    "for i in dev_by_5and7(inp):\n",
    "    print(i, end = \",\")"
   ]
  },
  {
   "cell_type": "markdown",
   "id": "577ff18f",
   "metadata": {},
   "source": [
    "### Q2: Please write a program using generator to print the even numbers between 0 and n in comma separated form while n is input by console."
   ]
  },
  {
   "cell_type": "code",
   "execution_count": 6,
   "id": "163da909",
   "metadata": {},
   "outputs": [
    {
     "name": "stdout",
     "output_type": "stream",
     "text": [
      " Please enter the number upto which you want to generate even numbers : 10\n",
      "0,2,4,6,8,10,"
     ]
    }
   ],
   "source": [
    "## Solution:\n",
    "inp = eval(input(\" Please enter the number upto which you want to generate even numbers : \"))\n",
    "\n",
    "def div_by_2(a):\n",
    "    for i in range(a+1):\n",
    "        if i%2==0:\n",
    "            yield i\n",
    "for i in div_by_2(inp):\n",
    "    print(i,  end=\",\")"
   ]
  },
  {
   "cell_type": "markdown",
   "id": "daf0b302",
   "metadata": {},
   "source": [
    "### Q3: Please write a program using list comprehension to print the Fibonacci Sequence in comma separated form with a given n input by console."
   ]
  },
  {
   "cell_type": "code",
   "execution_count": 9,
   "id": "76fdbccf",
   "metadata": {},
   "outputs": [
    {
     "name": "stdout",
     "output_type": "stream",
     "text": [
      " Please enter the number of values : 7\n"
     ]
    },
    {
     "data": {
      "text/plain": [
       "[0, 1, 1, 2, 3, 5, 8, 13]"
      ]
     },
     "execution_count": 9,
     "metadata": {},
     "output_type": "execute_result"
    }
   ],
   "source": [
    "## Solution:\n",
    "\n",
    "inp = eval(input(\" Please enter the number of values : \"))\n",
    "\n",
    "def fib_num(a):\n",
    "    l=[0,1]\n",
    "    [l.append((l[-1]+l[-2]))  for i in range(a-1)]\n",
    "    return l\n",
    "fib_num(inp)"
   ]
  },
  {
   "cell_type": "markdown",
   "id": "fa5ebb59",
   "metadata": {},
   "source": [
    "### Q4: Assuming that we have some email addresses in the &quot;username@companyname.com&quot; format, please write program to print the user name of a given email address. Both user names and company names are composed of letters only."
   ]
  },
  {
   "cell_type": "code",
   "execution_count": 10,
   "id": "3e437e04",
   "metadata": {},
   "outputs": [
    {
     "name": "stdout",
     "output_type": "stream",
     "text": [
      " Please enter the email address : john@google.com\n"
     ]
    },
    {
     "data": {
      "text/plain": [
       "'john'"
      ]
     },
     "execution_count": 10,
     "metadata": {},
     "output_type": "execute_result"
    }
   ],
   "source": [
    "## Solution:\n",
    "import re\n",
    "inp = input(\" Please enter the email address : \")\n",
    "def email_name(a):\n",
    "    pattern = r'\\w+(?=\\@)'\n",
    "    match = re.findall(pattern, a)\n",
    "    return match[0]\n",
    "email_name(inp)"
   ]
  },
  {
   "cell_type": "markdown",
   "id": "13282da1",
   "metadata": {},
   "source": [
    "### Q5: Define a class named Shape and its subclass Square. The Square class has an init function which takes a length as argument. Both classes have a area function which can print the area of the shape where Shape&#39;s area is 0 by default."
   ]
  },
  {
   "cell_type": "code",
   "execution_count": 11,
   "id": "0bd5720c",
   "metadata": {},
   "outputs": [],
   "source": [
    "## Solution:\n",
    "\n",
    "class Shape:\n",
    "    def __init__(self):\n",
    "        pass\n",
    "    def area(self):\n",
    "        return 0\n",
    "    \n",
    "class Square(Shape):\n",
    "    def __init__(self, length):\n",
    "        self.length = length\n",
    "        \n",
    "    def area(self):\n",
    "        return self.length**2"
   ]
  },
  {
   "cell_type": "code",
   "execution_count": 12,
   "id": "351c9af2",
   "metadata": {},
   "outputs": [],
   "source": [
    "s1 = Shape()"
   ]
  },
  {
   "cell_type": "code",
   "execution_count": 13,
   "id": "93825537",
   "metadata": {},
   "outputs": [
    {
     "data": {
      "text/plain": [
       "0"
      ]
     },
     "execution_count": 13,
     "metadata": {},
     "output_type": "execute_result"
    }
   ],
   "source": [
    "s1.area()"
   ]
  },
  {
   "cell_type": "code",
   "execution_count": 15,
   "id": "2cc02a40",
   "metadata": {},
   "outputs": [],
   "source": [
    "s2 = Square(2)"
   ]
  },
  {
   "cell_type": "code",
   "execution_count": 16,
   "id": "f38e3c9a",
   "metadata": {},
   "outputs": [
    {
     "data": {
      "text/plain": [
       "4"
      ]
     },
     "execution_count": 16,
     "metadata": {},
     "output_type": "execute_result"
    }
   ],
   "source": [
    "s2.area()"
   ]
  }
 ],
 "metadata": {
  "kernelspec": {
   "display_name": "Python 3",
   "language": "python",
   "name": "python3"
  },
  "language_info": {
   "codemirror_mode": {
    "name": "ipython",
    "version": 3
   },
   "file_extension": ".py",
   "mimetype": "text/x-python",
   "name": "python",
   "nbconvert_exporter": "python",
   "pygments_lexer": "ipython3",
   "version": "3.8.8"
  }
 },
 "nbformat": 4,
 "nbformat_minor": 5
}
