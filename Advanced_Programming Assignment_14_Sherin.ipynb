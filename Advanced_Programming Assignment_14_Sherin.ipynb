{
 "cells": [
  {
   "cell_type": "markdown",
   "id": "d9dd0eca",
   "metadata": {},
   "source": [
    "### Q1: Given a list of numbers, create a function that removes 25% from every number in the list except the smallest number, and adds the total amount removed to the smallest number."
   ]
  },
  {
   "cell_type": "code",
   "execution_count": 16,
   "id": "7ba309a5",
   "metadata": {},
   "outputs": [
    {
     "name": "stdout",
     "output_type": "stream",
     "text": [
      " Please enter the list of numbers : [2,100]\n"
     ]
    },
    {
     "data": {
      "text/plain": [
       "[27.0, 75.0]"
      ]
     },
     "execution_count": 16,
     "metadata": {},
     "output_type": "execute_result"
    }
   ],
   "source": [
    "## Solution:\n",
    "\n",
    "inp = eval(input(\" Please enter the list of numbers : \"))\n",
    "\n",
    "def small(a):\n",
    "    \"\"\"\n",
    "    This function takes in a list as an input and subtracts 25% from each number and adds to the smallest number\n",
    "    \"\"\"\n",
    "    s = min(a)\n",
    "    l=[]\n",
    "    t=0\n",
    "    for i in range(len(a)):\n",
    "        if a[i]==s:\n",
    "            pass\n",
    "        else:\n",
    "            t= t+ (a[i]- a[i]*0.75)\n",
    "            a[i]= a[i]*0.75\n",
    "    a[a.index(s)]=s+t   \n",
    "    return a\n",
    "small(inp)"
   ]
  },
  {
   "cell_type": "markdown",
   "id": "48672d9c",
   "metadata": {},
   "source": [
    "### Q2: Create a function that takes in two words as input and returns a list of three elements, in the following order:\n",
    "1.Shared letters between two words.\n",
    "2.Letters unique to word 1.\\n\n",
    "3.Letters unique to word 2.\\n\n",
    "Each element should have unique letters, and have each letter be alphabetically sorted."
   ]
  },
  {
   "cell_type": "code",
   "execution_count": 13,
   "id": "ce91263a",
   "metadata": {},
   "outputs": [
    {
     "name": "stdout",
     "output_type": "stream",
     "text": [
      " Please enter the two words separated by comma : \"match\", \"ham\"\n"
     ]
    },
    {
     "data": {
      "text/plain": [
       "['ahm', 'ct', '']"
      ]
     },
     "execution_count": 13,
     "metadata": {},
     "output_type": "execute_result"
    }
   ],
   "source": [
    "## Solution:\n",
    "inp,inp1 = eval(input(\" Please enter the two words separated by comma : \"))\n",
    "\n",
    "def dupl_sor(a,b):\n",
    "    \"\"\"\n",
    "    This function takes in two words and then outputs a list of common letters, and uncommon letters from the two words in an alphabetical order\n",
    "    \"\"\"\n",
    "    s=set(a.lower())\n",
    "    s1 = set(b.lower())\n",
    "    f=\"\"\n",
    "    m=\"\"\n",
    "    n=\"\"\n",
    "    l=[]\n",
    "    s2 = sorted(s.intersection(s1))\n",
    "    s3 = sorted(s.difference(s1))\n",
    "    s4 = sorted(s1.difference(s))\n",
    "    for i in s2:\n",
    "        f+=i\n",
    "    l.append(f)\n",
    "    for j in s3:\n",
    "        m+=j\n",
    "    l.append(m)\n",
    "    for k in s4:\n",
    "        n+=k\n",
    "    l.append(n)\n",
    "    return l\n",
    "dupl_sor(inp,inp1)"
   ]
  },
  {
   "cell_type": "markdown",
   "id": "40dc1da8",
   "metadata": {},
   "source": [
    "### Q3: Write a function that pairs the first number in an array with the last, the second number with the second to last, etc."
   ]
  },
  {
   "cell_type": "code",
   "execution_count": 31,
   "id": "75477a6a",
   "metadata": {},
   "outputs": [
    {
     "name": "stdout",
     "output_type": "stream",
     "text": [
      " Please enter the list of numbers : [[]]\n"
     ]
    },
    {
     "data": {
      "text/plain": [
       "[]"
      ]
     },
     "execution_count": 31,
     "metadata": {},
     "output_type": "execute_result"
    }
   ],
   "source": [
    "## Solution:\n",
    "\n",
    "inp = eval(input(\" Please enter the list of numbers : \"))\n",
    "\n",
    "def pairs(a):\n",
    "    \"\"\"\n",
    "    This function takes in a list and pairs it \n",
    "    \"\"\"\n",
    "    l=[]\n",
    "    if len(a[0])==0:\n",
    "        return l\n",
    "    elif len(a)%2==1:\n",
    "        j=int(len(a)/2)+1\n",
    "    else:\n",
    "        j=int(len(a)/2)\n",
    "    try:\n",
    "        for i in range(j):\n",
    "            l.append([a[i],a[-i-1]])\n",
    "        return l\n",
    "    except:\n",
    "        pass\n",
    "pairs(inp)"
   ]
  },
  {
   "cell_type": "markdown",
   "id": "a93383ee",
   "metadata": {},
   "source": [
    "### Q4: Write a function that adds two numbers. The catch, however, is that the numbers will be strings.\n"
   ]
  },
  {
   "cell_type": "code",
   "execution_count": 40,
   "id": "68652ef1",
   "metadata": {},
   "outputs": [
    {
     "name": "stdout",
     "output_type": "stream",
     "text": [
      " Please enter the numbers to be summed : '1874682736267235927359283579235789257', '32652983572985729'\n"
     ]
    },
    {
     "data": {
      "text/plain": [
       "'1874682736267235927391936562808774986'"
      ]
     },
     "execution_count": 40,
     "metadata": {},
     "output_type": "execute_result"
    }
   ],
   "source": [
    "## Solution:\n",
    "\n",
    "inp, inp1  = eval(input(\" Please enter the numbers to be summed : \"))\n",
    "\n",
    "def add_num(a,b):\n",
    "    \"\"\"\n",
    "    This function takes in two numbers are string and outputs the sum as a string\n",
    "    \"\"\"\n",
    "    try:\n",
    "        a = int(a)\n",
    "        b = int(b)\n",
    "        c = str(a+b)\n",
    "        return c\n",
    "    except:\n",
    "        return -1\n",
    "add_num(inp,inp1)"
   ]
  },
  {
   "cell_type": "markdown",
   "id": "b5db4d4f",
   "metadata": {},
   "source": [
    "### Q5: lPaeesh le pemu mnxit ehess rtnisg! Oh, sorry, that was supposed to say:\n",
    "Please help me unmix these strings! Somehow my strings have all become mixed up; every pair of characters has\n",
    "been swapped. Help me undo this so I can understand my strings again."
   ]
  },
  {
   "cell_type": "code",
   "execution_count": 11,
   "id": "bc403b50",
   "metadata": {},
   "outputs": [
    {
     "name": "stdout",
     "output_type": "stream",
     "text": [
      " Please enter the mixed up string : 'badce'\n"
     ]
    },
    {
     "data": {
      "text/plain": [
       "'abcde'"
      ]
     },
     "execution_count": 11,
     "metadata": {},
     "output_type": "execute_result"
    }
   ],
   "source": [
    "## Solution:\n",
    "\n",
    "inp  = eval(input(\" Please enter the mixed up string : \"))\n",
    "\n",
    "def unmix(a):\n",
    "    \"\"\"\n",
    "    This function takes a mixed up string as an input and returns an unmixed string\n",
    "    \"\"\"\n",
    "    f=\"\"\n",
    "    l = len(a)\n",
    "    if l > 10:\n",
    "        m = a[::2]\n",
    "        n= a[1::2]\n",
    "        c= -1\n",
    "        \n",
    "        for j in range(max(len(m),len(n))):\n",
    "            if len(m)>len(n):\n",
    "                try:\n",
    "                    f+=n[c]+m[c]\n",
    "                    c-=1\n",
    "                except:\n",
    "                    f+=m[c]\n",
    "            elif len(m)==len(n):\n",
    "                f+=m[c]+n[c]\n",
    "                c-=1\n",
    "        return f[::-1]\n",
    "        \n",
    "    \n",
    "    else:\n",
    "        for i in range(1,l,2):\n",
    "            if i%2==1:\n",
    "                f+=a[i]+a[i-1]\n",
    "        else:\n",
    "            if l%2==1:\n",
    "                f+=a[-(l-max(range(l)))]\n",
    "        return f       \n",
    "unmix(inp)"
   ]
  },
  {
   "cell_type": "code",
   "execution_count": null,
   "id": "f791d7bf",
   "metadata": {},
   "outputs": [],
   "source": []
  }
 ],
 "metadata": {
  "kernelspec": {
   "display_name": "Python 3",
   "language": "python",
   "name": "python3"
  },
  "language_info": {
   "codemirror_mode": {
    "name": "ipython",
    "version": 3
   },
   "file_extension": ".py",
   "mimetype": "text/x-python",
   "name": "python",
   "nbconvert_exporter": "python",
   "pygments_lexer": "ipython3",
   "version": "3.8.8"
  }
 },
 "nbformat": 4,
 "nbformat_minor": 5
}
