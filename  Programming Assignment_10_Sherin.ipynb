{
 "cells": [
  {
   "cell_type": "markdown",
   "id": "04b55d91",
   "metadata": {},
   "source": [
    "### Q1: Write a Python program to find sum of elements in list?"
   ]
  },
  {
   "cell_type": "code",
   "execution_count": 1,
   "id": "c23e2c15",
   "metadata": {},
   "outputs": [
    {
     "name": "stdout",
     "output_type": "stream",
     "text": [
      " Please enter the list of numbers to sum : [1,2,3,4,5,6,7,8,9]\n"
     ]
    },
    {
     "data": {
      "text/plain": [
       "45"
      ]
     },
     "execution_count": 1,
     "metadata": {},
     "output_type": "execute_result"
    }
   ],
   "source": [
    "## Solution:\n",
    "\n",
    "inp = eval(input(\" Please enter the list of numbers to sum : \"))\n",
    "def add_list(a):\n",
    "    c = sum(a)\n",
    "    return c\n",
    "add_list(inp)"
   ]
  },
  {
   "cell_type": "markdown",
   "id": "f8be4242",
   "metadata": {},
   "source": [
    "### Q2: Write a Python program to Multiply all numbers in the list?"
   ]
  },
  {
   "cell_type": "code",
   "execution_count": 14,
   "id": "f924430a",
   "metadata": {},
   "outputs": [
    {
     "name": "stdout",
     "output_type": "stream",
     "text": [
      " Please enter the list to multiply : [1,2,3,4,5,6,7,8,9]\n",
      "362880\n"
     ]
    }
   ],
   "source": [
    "## Solution:\n",
    "inp = eval(input(\" Please enter the list to multiply : \"))\n",
    "from functools import reduce\n",
    "c=reduce(lambda x,y: x*y, inp)\n",
    "print(c)"
   ]
  },
  {
   "cell_type": "markdown",
   "id": "25a5421e",
   "metadata": {},
   "source": [
    "### Q3: Write a Python program to find smallest number in a list?"
   ]
  },
  {
   "cell_type": "code",
   "execution_count": 15,
   "id": "3952869e",
   "metadata": {},
   "outputs": [
    {
     "name": "stdout",
     "output_type": "stream",
     "text": [
      "Please enter the list : [1,2,3,4,5,6,7,8,9]\n"
     ]
    },
    {
     "data": {
      "text/plain": [
       "1"
      ]
     },
     "execution_count": 15,
     "metadata": {},
     "output_type": "execute_result"
    }
   ],
   "source": [
    "## Solution:\n",
    "inp = eval(input('Please enter the list : '))\n",
    "def small(a):\n",
    "    c = min(a)\n",
    "    return c\n",
    "small(inp)"
   ]
  },
  {
   "cell_type": "markdown",
   "id": "5bdc844a",
   "metadata": {},
   "source": [
    "### Q4: Write a Python program to find largest number in a list?"
   ]
  },
  {
   "cell_type": "code",
   "execution_count": 17,
   "id": "746603d0",
   "metadata": {},
   "outputs": [
    {
     "name": "stdout",
     "output_type": "stream",
     "text": [
      "Please enter the list : [1,2,3,4,5,6,7,8,9]\n"
     ]
    },
    {
     "data": {
      "text/plain": [
       "9"
      ]
     },
     "execution_count": 17,
     "metadata": {},
     "output_type": "execute_result"
    }
   ],
   "source": [
    "## Solution:\n",
    "inp = eval(input('Please enter the list : '))\n",
    "def big(a):\n",
    "    c = max(a)\n",
    "    return c\n",
    "big(inp)"
   ]
  },
  {
   "cell_type": "markdown",
   "id": "d14bd88c",
   "metadata": {},
   "source": [
    "### Q5: Write a Python program to find second largest number in a list?"
   ]
  },
  {
   "cell_type": "code",
   "execution_count": 6,
   "id": "59f2e14f",
   "metadata": {},
   "outputs": [
    {
     "name": "stdout",
     "output_type": "stream",
     "text": [
      " Please enter the list : [13,5,3,67,34,99,67]\n"
     ]
    },
    {
     "data": {
      "text/plain": [
       "67"
      ]
     },
     "execution_count": 6,
     "metadata": {},
     "output_type": "execute_result"
    }
   ],
   "source": [
    "## Solution:\n",
    "\n",
    "inp = eval(input(\" Please enter the list : \"))\n",
    "def second_last(a):\n",
    "    a.sort()\n",
    "    return a[-2]\n",
    "second_last(inp)"
   ]
  },
  {
   "cell_type": "markdown",
   "id": "eb239106",
   "metadata": {},
   "source": [
    "### Q6: Write a Python program to find N largest elements from a list?"
   ]
  },
  {
   "cell_type": "code",
   "execution_count": 12,
   "id": "2c2ea91f",
   "metadata": {},
   "outputs": [
    {
     "name": "stdout",
     "output_type": "stream",
     "text": [
      " Please enter the list : [13,5,3,67,34,99,68]\n",
      " Please enter the number of largest items : 3\n"
     ]
    },
    {
     "data": {
      "text/plain": [
       "[99, 68, 67]"
      ]
     },
     "execution_count": 12,
     "metadata": {},
     "output_type": "execute_result"
    }
   ],
   "source": [
    "## Solution:\n",
    "\n",
    "inp = eval(input(\" Please enter the list : \"))\n",
    "inp1 = eval(input(\" Please enter the number of largest items : \"))\n",
    "\n",
    "def larg_numb(a,b):\n",
    "    a.sort()\n",
    "    c=-b-1\n",
    "    return a[-1:c:-1]\n",
    "larg_numb(inp,inp1)"
   ]
  },
  {
   "cell_type": "markdown",
   "id": "522e1a9e",
   "metadata": {},
   "source": [
    "### Q7: Write a Python program to print even numbers in a list?"
   ]
  },
  {
   "cell_type": "code",
   "execution_count": 13,
   "id": "29ddcbc5",
   "metadata": {},
   "outputs": [
    {
     "name": "stdout",
     "output_type": "stream",
     "text": [
      " Please enter the list : [13,5,3,67,34,99,68]\n"
     ]
    },
    {
     "data": {
      "text/plain": [
       "[34, 68]"
      ]
     },
     "execution_count": 13,
     "metadata": {},
     "output_type": "execute_result"
    }
   ],
   "source": [
    "## Solution:\n",
    "\n",
    "inp = eval(input(\" Please enter the list : \"))\n",
    "\n",
    "def even_list(a):\n",
    "    return list(filter(lambda x: x%2==0, a))\n",
    "even_list(inp)"
   ]
  },
  {
   "cell_type": "markdown",
   "id": "0baaf546",
   "metadata": {},
   "source": [
    "### Q8: Write a Python program to print odd numbers in a List?"
   ]
  },
  {
   "cell_type": "code",
   "execution_count": 14,
   "id": "19bb07ea",
   "metadata": {},
   "outputs": [
    {
     "name": "stdout",
     "output_type": "stream",
     "text": [
      " Please enter the list : [13,5,3,67,34,99,68]\n"
     ]
    },
    {
     "data": {
      "text/plain": [
       "[13, 5, 3, 67, 99]"
      ]
     },
     "execution_count": 14,
     "metadata": {},
     "output_type": "execute_result"
    }
   ],
   "source": [
    "## Solution:\n",
    "\n",
    "inp = eval(input(\" Please enter the list : \"))\n",
    "\n",
    "def odd_list(a):\n",
    "    return list(filter(lambda x: x%2==1, a))\n",
    "odd_list(inp)"
   ]
  },
  {
   "cell_type": "markdown",
   "id": "84839700",
   "metadata": {},
   "source": [
    "### Q9: Write a Python program to Remove empty List from List?"
   ]
  },
  {
   "cell_type": "code",
   "execution_count": 23,
   "id": "56d2125b",
   "metadata": {},
   "outputs": [
    {
     "name": "stdout",
     "output_type": "stream",
     "text": [
      " Please enter the list of lists : [[1,2,3], [1,2,3], [1,2,3], [1,2,3], [], []]\n"
     ]
    },
    {
     "data": {
      "text/plain": [
       "[[1, 2, 3], [1, 2, 3], [1, 2, 3], [1, 2, 3]]"
      ]
     },
     "execution_count": 23,
     "metadata": {},
     "output_type": "execute_result"
    }
   ],
   "source": [
    "## Solution:\n",
    "\n",
    "inp = eval(input(\" Please enter the list of lists : \"))\n",
    "\n",
    "def rem_empty(a):\n",
    "    m=[]\n",
    "    return list(filter(lambda x: len(x)!=0, a))\n",
    "rem_empty(inp)"
   ]
  },
  {
   "cell_type": "markdown",
   "id": "351adb2b",
   "metadata": {},
   "source": [
    "### Q10: Write a Python program to Cloning or Copying a list?"
   ]
  },
  {
   "cell_type": "code",
   "execution_count": 24,
   "id": "dd4fed75",
   "metadata": {},
   "outputs": [
    {
     "name": "stdout",
     "output_type": "stream",
     "text": [
      " Please enter the list to clone : [1, 2, 3]\n"
     ]
    },
    {
     "data": {
      "text/plain": [
       "[1, 2, 3]"
      ]
     },
     "execution_count": 24,
     "metadata": {},
     "output_type": "execute_result"
    }
   ],
   "source": [
    "## Solution:\n",
    "\n",
    "inp = eval(input(\" Please enter the list to clone : \"))\n",
    "def clone(a):\n",
    "    m= [i for i in a]\n",
    "    return m\n",
    "clone(inp)"
   ]
  },
  {
   "cell_type": "markdown",
   "id": "27a33406",
   "metadata": {},
   "source": [
    "### Q11: Write a Python program to Count occurrences of an element in a list?"
   ]
  },
  {
   "cell_type": "code",
   "execution_count": 5,
   "id": "336f8c17",
   "metadata": {},
   "outputs": [
    {
     "name": "stdout",
     "output_type": "stream",
     "text": [
      " Please enter the list : [1,1,1,2,3,2,4,5,6,6]\n"
     ]
    },
    {
     "data": {
      "text/plain": [
       "{1: {3}, 2: {2}, 3: {1}, 4: {1}, 5: {1}, 6: {2}}"
      ]
     },
     "execution_count": 5,
     "metadata": {},
     "output_type": "execute_result"
    }
   ],
   "source": [
    "## Solution:\n",
    "\n",
    "inp = eval(input(\" Please enter the list : \"))\n",
    "def count_occur(a):\n",
    "    d={}\n",
    "    for i in a:\n",
    "        d.setdefault(i, set()).add(a.count(i))\n",
    "    return d\n",
    "count_occur(inp)"
   ]
  }
 ],
 "metadata": {
  "kernelspec": {
   "display_name": "Python 3",
   "language": "python",
   "name": "python3"
  },
  "language_info": {
   "codemirror_mode": {
    "name": "ipython",
    "version": 3
   },
   "file_extension": ".py",
   "mimetype": "text/x-python",
   "name": "python",
   "nbconvert_exporter": "python",
   "pygments_lexer": "ipython3",
   "version": "3.8.8"
  }
 },
 "nbformat": 4,
 "nbformat_minor": 5
}
