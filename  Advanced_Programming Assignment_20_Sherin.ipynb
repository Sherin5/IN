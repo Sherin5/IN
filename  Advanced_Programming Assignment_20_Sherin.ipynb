{
 "cells": [
  {
   "cell_type": "markdown",
   "id": "ce568d6d",
   "metadata": {},
   "source": [
    "### Q1: Create a function based on the input and output. Look at the examples, there is a pattern."
   ]
  },
  {
   "cell_type": "code",
   "execution_count": 9,
   "id": "3289e4f3",
   "metadata": {},
   "outputs": [
    {
     "name": "stdout",
     "output_type": "stream",
     "text": [
      " Please enter the string within quotes : 'p.four.five'\n"
     ]
    },
    {
     "data": {
      "text/plain": [
       "\"<p class='four five'></p>\""
      ]
     },
     "execution_count": 9,
     "metadata": {},
     "output_type": "execute_result"
    }
   ],
   "source": [
    "## Solution:\n",
    "\n",
    "inp = eval(input(\" Please enter the string within quotes : \")).split(\".\")\n",
    "\n",
    "def secret(a):\n",
    "    c =r\"<p class=\"\n",
    "    d = r\"></p>\"\n",
    "    e=\"\"\n",
    "    for i in a[1:]:\n",
    "        e+=i+\" \"\n",
    "    e =\"'\"+ e.rstrip()+ \"'\"\n",
    "    c+=e\n",
    "    final =c+d\n",
    "    return final\n",
    "secret(inp)"
   ]
  },
  {
   "cell_type": "markdown",
   "id": "7931b922",
   "metadata": {},
   "source": [
    "### Q2: Create a function which counts how many lone 1s appear in a given number. Lone means the number doesn&#39;t appear twice or more in a row."
   ]
  },
  {
   "cell_type": "code",
   "execution_count": 18,
   "id": "d031b31c",
   "metadata": {},
   "outputs": [
    {
     "name": "stdout",
     "output_type": "stream",
     "text": [
      " Please enter the number to check : 462\n"
     ]
    },
    {
     "data": {
      "text/plain": [
       "0"
      ]
     },
     "execution_count": 18,
     "metadata": {},
     "output_type": "execute_result"
    }
   ],
   "source": [
    "## Solution:\n",
    "\n",
    "inp = input(\" Please enter the number to check : \")\n",
    "def lone_one(a):\n",
    "    \"\"\"\n",
    "    This function checks for the number of lone ones in a number\n",
    "    \"\"\"\n",
    "    cnt=0\n",
    "    for i in range(len(a)):\n",
    "        if i==0 and a[i]=='1' and a[i+1]!='1':\n",
    "            cnt+=1\n",
    "        elif a[i]=='1'and a[min(i+1, len(a)-1)]!='1' and a[max(i-1, 0)]!='1':\n",
    "            cnt+=1\n",
    "    else:\n",
    "        if a[-1]=='1' and a[-2]!='1':\n",
    "            cnt+=1\n",
    "    return cnt\n",
    "lone_one(inp)"
   ]
  },
  {
   "cell_type": "markdown",
   "id": "193e97bc",
   "metadata": {},
   "source": [
    "### Q3: Write a method that accepts two integer parameters rows and cols. The output is a 2d array of numbers displayed in column-major order, meaning the numbers shown increase sequentially down each column and wrap to the top of the next column to the right once the bottom of the current column is reached."
   ]
  },
  {
   "cell_type": "code",
   "execution_count": 33,
   "id": "3ee3b6e6",
   "metadata": {},
   "outputs": [
    {
     "name": "stdout",
     "output_type": "stream",
     "text": [
      " Please enter the two numbers separated by comma : 3,6\n"
     ]
    },
    {
     "data": {
      "text/plain": [
       "[[1, 4, 7, 10, 13, 16], [2, 5, 8, 11, 14, 17], [3, 6, 9, 12, 15, 18]]"
      ]
     },
     "execution_count": 33,
     "metadata": {},
     "output_type": "execute_result"
    }
   ],
   "source": [
    "## Solution:\n",
    "\n",
    "inp, inp1 = eval(input(\" Please enter the two numbers separated by comma : \"))\n",
    "def print_grid(a,b):\n",
    "    \"\"\"\n",
    "    This function takes in grid parameters and prints numbers in the grid\n",
    "    \"\"\"\n",
    "    d = {}\n",
    "    cnt=1\n",
    "    for i in range(a):\n",
    "        for j in range(b):\n",
    "            d.setdefault(i, []).append(0)\n",
    "    l = list(d.values())\n",
    "    for k in range(b):\n",
    "        for m in range(a):\n",
    "            l[m][k]= cnt\n",
    "            cnt+=1\n",
    "    return l\n",
    "print_grid(inp,inp1)"
   ]
  },
  {
   "cell_type": "markdown",
   "id": "f24836a4",
   "metadata": {},
   "source": [
    "### Q4: Given a list of integers, return the smallest positive integer not present in the list.\n",
    "\n",
    "Here is a representative example. Consider the list:\n",
    "[-2, 6, 4, 5, 7, -1, 7, 1, 3, 6, 6, -2, 9, 10, 2, 2]\n",
    "\n",
    "After reordering, the list becomes:\n",
    "[-2, -2, -1, 1, 2, 2, 3, 4, 5, 6, 6, 6, 7, 7, 9, 10]\n",
    "\n",
    "from which we see that the smallest missing positive integer is 8."
   ]
  },
  {
   "cell_type": "code",
   "execution_count": 67,
   "id": "6a8610b1",
   "metadata": {},
   "outputs": [
    {
     "name": "stdout",
     "output_type": "stream",
     "text": [
      " Please enter the list : [0, 4, 4, -1, 9, 4, 5, 2, 10, 7, 6, 3, 10, 9]\n"
     ]
    },
    {
     "data": {
      "text/plain": [
       "1"
      ]
     },
     "execution_count": 67,
     "metadata": {},
     "output_type": "execute_result"
    }
   ],
   "source": [
    "## Solution:\n",
    "\n",
    "inp = eval(input(\" Please enter the list : \"))\n",
    "\n",
    "def min_miss(a):\n",
    "    \"\"\"\n",
    "    This function takes in a list and returns the lowest missing number\n",
    "    \"\"\"\n",
    "    l=[]\n",
    "    a.sort()\n",
    "    for i in range(1,len(a)):\n",
    "        if a[i]==a[i-1] or abs(a[i])-abs(a[i-1])==1 or abs(a[i])-abs(a[i-1])==-1 or abs(a[i])-abs(a[i-1])==0 :\n",
    "            pass\n",
    "        else:\n",
    "            for j in range(a[i-1], a[i]):\n",
    "                if j not in a and j> 0:\n",
    "                    l.append(j)\n",
    "    return min(l)\n",
    "min_miss(inp)"
   ]
  },
  {
   "cell_type": "markdown",
   "id": "c8a3fa23",
   "metadata": {},
   "source": [
    "### Q5: Google is launching a network of autonomous pizza delivery drones and wants you to create a flexible rewards system (Pizza Points™) that can be tweaked in the future. The rules are simple: if a customer has made at least N orders of at least Y price, they get a FREE pizza!\n",
    "\n",
    "Create a function that takes a dictionary of customers, a minimum number of\n",
    "orders and a minimum order price. Return a list of customers that are eligible\n",
    "for a free pizza."
   ]
  },
  {
   "cell_type": "code",
   "execution_count": 10,
   "id": "352e056d",
   "metadata": {},
   "outputs": [
    {
     "name": "stdout",
     "output_type": "stream",
     "text": [
      " Please enter the dictionary, min no of order, min number of order price separated by comma : { 'Batman': [22, 30, 11, 17, 15, 52, 27, 12], 'Spider-Man': [5, 17, 30, 33, 40, 22, 26, 10, 11, 45] }, 6,20\n"
     ]
    },
    {
     "data": {
      "text/plain": [
       "['Spider-Man']"
      ]
     },
     "execution_count": 10,
     "metadata": {},
     "output_type": "execute_result"
    }
   ],
   "source": [
    "## Solution:\n",
    "inp, inp1, inp2 = eval(input(\" Please enter the dictionary, min no of order, min number of order price separated by comma : \"))\n",
    "\n",
    "\n",
    "def pizza_points(a,b,c):\n",
    "    \"\"\"\n",
    "    This function takes in a dictionary of customer orders and returns the qualifying customer based on the criteria\n",
    "    \"\"\"\n",
    "    l=[]\n",
    "    for i in a.keys():\n",
    "        cnt= 0 \n",
    "        for j in a[i]:\n",
    "            if j > c:\n",
    "                cnt+=1\n",
    "        if cnt >=b:\n",
    "            l.append(i)\n",
    "    return l\n",
    "pizza_points(inp,inp1,inp2)"
   ]
  }
 ],
 "metadata": {
  "kernelspec": {
   "display_name": "Python 3",
   "language": "python",
   "name": "python3"
  },
  "language_info": {
   "codemirror_mode": {
    "name": "ipython",
    "version": 3
   },
   "file_extension": ".py",
   "mimetype": "text/x-python",
   "name": "python",
   "nbconvert_exporter": "python",
   "pygments_lexer": "ipython3",
   "version": "3.8.8"
  }
 },
 "nbformat": 4,
 "nbformat_minor": 5
}
