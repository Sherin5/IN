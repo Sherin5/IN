{
 "cells": [
  {
   "cell_type": "markdown",
   "id": "88d94f34",
   "metadata": {},
   "source": [
    "## 1. Write a Python program to print &quot;Hello Python&quot;?"
   ]
  },
  {
   "cell_type": "code",
   "execution_count": 17,
   "id": "9cd0853c",
   "metadata": {},
   "outputs": [
    {
     "name": "stdout",
     "output_type": "stream",
     "text": [
      "Hello Python\n"
     ]
    }
   ],
   "source": [
    "#Solution:\n",
    "print(\"Hello Python\")"
   ]
  },
  {
   "cell_type": "markdown",
   "id": "49ab0947",
   "metadata": {},
   "source": [
    "## 2. Write a Python program to do arithmetical operations addition and division.?"
   ]
  },
  {
   "cell_type": "code",
   "execution_count": 7,
   "id": "aef3a500",
   "metadata": {},
   "outputs": [],
   "source": [
    "#Solution:\n",
    "def mathop(x,y):\n",
    "    if type(x)== int or type(y)==int or type(x)== float or type(y)== float:\n",
    "        addition = x+y\n",
    "        division = x/y\n",
    "        \n",
    "        print(\"{} is the summation of the two numbers\".format(addition))\n",
    "        print(\"{} is the number we get when we divide {} by {} \".format(division, x, y))\n",
    "    else:\n",
    "        print(\"Please enter numerical values\")"
   ]
  },
  {
   "cell_type": "code",
   "execution_count": 8,
   "id": "545a3531",
   "metadata": {},
   "outputs": [
    {
     "name": "stdout",
     "output_type": "stream",
     "text": [
      "54 is the summation of the two numbers\n",
      "5.0 is the number we get when we divide 45 by 9 \n"
     ]
    }
   ],
   "source": [
    "mathop(45,9)"
   ]
  },
  {
   "cell_type": "markdown",
   "id": "24e4dfe2",
   "metadata": {},
   "source": [
    "## 3. Write a Python program to find the area of a triangle?"
   ]
  },
  {
   "cell_type": "code",
   "execution_count": 16,
   "id": "e4d918e9",
   "metadata": {},
   "outputs": [
    {
     "name": "stdout",
     "output_type": "stream",
     "text": [
      "Please enter the base of the triangle 5\n",
      "Please enter the height of the triangle 4\n",
      "10.0 is the area of the triangle with base 5 and height 4\n"
     ]
    }
   ],
   "source": [
    "#Solution:\n",
    "def areatriangle(b,h):\n",
    "    if type(b)== int or type(h)==int or type(b)== float or type(h)== float:\n",
    "        area = 0.5 * b * h\n",
    "        print( \"{} is the area of the triangle with base {} and height {}\". format(area, b, h))\n",
    "    else:\n",
    "        print(\"Please enter numerical values\")\n",
    "        \n",
    "b = int(input(\"Please enter the base of the triangle \"))\n",
    "h = int(input(\"Please enter the height of the triangle \"))\n",
    "\n",
    "result = areatriangle(b,h)\n"
   ]
  },
  {
   "cell_type": "markdown",
   "id": "ad25862c",
   "metadata": {},
   "source": [
    "## 4. Write a Python program to swap two variables?"
   ]
  },
  {
   "cell_type": "code",
   "execution_count": 18,
   "id": "2bd77a50",
   "metadata": {},
   "outputs": [
    {
     "name": "stdout",
     "output_type": "stream",
     "text": [
      " Please enter variable a Sherin\n",
      " Please enter variable b Thomas\n",
      " The swapped value of a is  Thomas\n",
      " The swapped value of b is  Sherin\n"
     ]
    }
   ],
   "source": [
    "#Solution:\n",
    "def swapvar(a,b):\n",
    "    c = []\n",
    "    c.append(b) \n",
    "    c.append(a)\n",
    "    b = c[1]\n",
    "    a = c[0]\n",
    "    print(\" The swapped value of a is \", a)\n",
    "    print(\" The swapped value of b is \", b)\n",
    "    \n",
    "a = input(\" Please enter variable a \")\n",
    "b = input(\" Please enter variable b \")\n",
    "\n",
    "result = swapvar(a,b)\n",
    "    "
   ]
  },
  {
   "cell_type": "markdown",
   "id": "9699cb55",
   "metadata": {},
   "source": [
    "## 5. Write a Python program to generate a random number?"
   ]
  },
  {
   "cell_type": "code",
   "execution_count": 21,
   "id": "df7d123d",
   "metadata": {},
   "outputs": [
    {
     "data": {
      "text/plain": [
       "7"
      ]
     },
     "execution_count": 21,
     "metadata": {},
     "output_type": "execute_result"
    }
   ],
   "source": [
    "# Solution:\n",
    "\n",
    "import random\n",
    "\n",
    "random.randint(1, 100)"
   ]
  },
  {
   "cell_type": "code",
   "execution_count": null,
   "id": "3dcd81b6",
   "metadata": {},
   "outputs": [],
   "source": []
  }
 ],
 "metadata": {
  "kernelspec": {
   "display_name": "Python 3",
   "language": "python",
   "name": "python3"
  },
  "language_info": {
   "codemirror_mode": {
    "name": "ipython",
    "version": 3
   },
   "file_extension": ".py",
   "mimetype": "text/x-python",
   "name": "python",
   "nbconvert_exporter": "python",
   "pygments_lexer": "ipython3",
   "version": "3.8.8"
  }
 },
 "nbformat": 4,
 "nbformat_minor": 5
}
