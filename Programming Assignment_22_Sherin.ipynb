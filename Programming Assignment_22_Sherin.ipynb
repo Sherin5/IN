{
 "cells": [
  {
   "cell_type": "markdown",
   "id": "0bb63521",
   "metadata": {},
   "source": [
    "### Q1: Create a function that takes three parameters where:\n",
    "\n",
    " x is the start of the range (inclusive).\n",
    "\n",
    " y is the end of the range (inclusive).\n",
    "\n",
    " n is the divisor to be checked against.\n",
    "\n",
    "Return an ordered list with numbers in the range that are divisible by the third parameter n.\n",
    "Return an empty list if there are no numbers that are divisible by n."
   ]
  },
  {
   "cell_type": "code",
   "execution_count": 2,
   "id": "efd0b8d8",
   "metadata": {},
   "outputs": [
    {
     "name": "stdout",
     "output_type": "stream",
     "text": [
      " Please enter X,Y, and N separated by comma : 7,9,2\n"
     ]
    },
    {
     "data": {
      "text/plain": [
       "[8]"
      ]
     },
     "execution_count": 2,
     "metadata": {},
     "output_type": "execute_result"
    }
   ],
   "source": [
    "## Solution:\n",
    "\n",
    "inp = eval(input(\" Please enter X,Y, and N separated by comma : \"))\n",
    "def divi(a,b,c):\n",
    "    return sorted(list(filter(lambda x: x%c==0, range(a,b+1))))\n",
    "divi(inp[0],inp[1],inp[2])"
   ]
  },
  {
   "cell_type": "markdown",
   "id": "c7f404ca",
   "metadata": {},
   "source": [
    "### Q2: Create a function that takes in two lists and returns True if the second list follows the first list by one element, and False otherwise. In other words, determine if the second list is the first list shifted to the right by 1."
   ]
  },
  {
   "cell_type": "code",
   "execution_count": 7,
   "id": "d56c1d2e",
   "metadata": {},
   "outputs": [
    {
     "name": "stdout",
     "output_type": "stream",
     "text": [
      " Please enter the two lists : [1, 2, 3, 4, 5], [0, 1, 2, 3, 4]\n",
      "[1, 2, 3, 4] [1, 2, 3, 4]\n"
     ]
    },
    {
     "data": {
      "text/plain": [
       "True"
      ]
     },
     "execution_count": 7,
     "metadata": {},
     "output_type": "execute_result"
    }
   ],
   "source": [
    "## Solution:\n",
    "inp = eval(input(\" Please enter the two lists : \"))\n",
    "\n",
    "def check_list(a,b):\n",
    "    print(a,b)\n",
    "    if a==b:\n",
    "        return True\n",
    "    else:\n",
    "        return False\n",
    "check_list(inp[0],inp[1])\n",
    "    "
   ]
  },
  {
   "cell_type": "markdown",
   "id": "4b83734c",
   "metadata": {},
   "source": [
    "### Q3: A group of friends have decided to start a secret society. The name will be the first letter of each of their names, sorted in alphabetical order. Create a function that takes in a list of names and returns the name of the secret society."
   ]
  },
  {
   "cell_type": "code",
   "execution_count": 8,
   "id": "3cb3c658",
   "metadata": {},
   "outputs": [
    {
     "name": "stdout",
     "output_type": "stream",
     "text": [
      " please enter the list of names : ['Adam','Sarah', 'Malcolm']\n"
     ]
    },
    {
     "data": {
      "text/plain": [
       "'AMS'"
      ]
     },
     "execution_count": 8,
     "metadata": {},
     "output_type": "execute_result"
    }
   ],
   "source": [
    "## Solution:\n",
    "\n",
    "inp = eval(input(\" please enter the list of names : \"))\n",
    "def sec_soc(a):\n",
    "    return \"\".join( sorted(list(map(lambda x: x[0], a))))\n",
    "sec_soc(inp)"
   ]
  },
  {
   "cell_type": "markdown",
   "id": "1db00773",
   "metadata": {},
   "source": [
    "### Q4: An isogram is a word that has no duplicate letters. Create a function that takes a string and returns either True or False depending on whether or not it&#39;s an &quot;isogram&quot;. "
   ]
  },
  {
   "cell_type": "code",
   "execution_count": 12,
   "id": "35ed960c",
   "metadata": {},
   "outputs": [
    {
     "name": "stdout",
     "output_type": "stream",
     "text": [
      " Please input the word : Password\n"
     ]
    },
    {
     "data": {
      "text/plain": [
       "False"
      ]
     },
     "execution_count": 12,
     "metadata": {},
     "output_type": "execute_result"
    }
   ],
   "source": [
    "## Solution:\n",
    "\n",
    "inp = input(\" Please input the word : \")\n",
    "\n",
    "def isogram(a):\n",
    "    b = a.lower()\n",
    "    for i in b:\n",
    "        if b.count(i.lower()) >1:\n",
    "            return False\n",
    "    else:\n",
    "        return True\n",
    "isogram(inp)"
   ]
  },
  {
   "cell_type": "markdown",
   "id": "f9670809",
   "metadata": {},
   "source": [
    "### Q5: Create a function that takes a string and returns True or False, depending on whether the characters are in order or not."
   ]
  },
  {
   "cell_type": "code",
   "execution_count": 19,
   "id": "6bbf425c",
   "metadata": {},
   "outputs": [
    {
     "name": "stdout",
     "output_type": "stream",
     "text": [
      " Please enter the string : xyzz\n"
     ]
    },
    {
     "data": {
      "text/plain": [
       "True"
      ]
     },
     "execution_count": 19,
     "metadata": {},
     "output_type": "execute_result"
    }
   ],
   "source": [
    "## Solution:\n",
    "\n",
    "inp = input(\" Please enter the string : \")\n",
    "\n",
    "def strc_ord(a):\n",
    "    for i in range(1,len(a)):\n",
    "        if ord(a[i])< ord(a[i-1]):\n",
    "            return False\n",
    "    else:\n",
    "        return True\n",
    "strc_ord(inp)"
   ]
  }
 ],
 "metadata": {
  "kernelspec": {
   "display_name": "Python 3",
   "language": "python",
   "name": "python3"
  },
  "language_info": {
   "codemirror_mode": {
    "name": "ipython",
    "version": 3
   },
   "file_extension": ".py",
   "mimetype": "text/x-python",
   "name": "python",
   "nbconvert_exporter": "python",
   "pygments_lexer": "ipython3",
   "version": "3.8.8"
  }
 },
 "nbformat": 4,
 "nbformat_minor": 5
}
