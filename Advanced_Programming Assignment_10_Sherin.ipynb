{
 "cells": [
  {
   "cell_type": "markdown",
   "id": "858f8cf1",
   "metadata": {},
   "source": [
    "### Q1: Create a function that takes the width, height and character and returns a picture frame as a 2D list."
   ]
  },
  {
   "cell_type": "code",
   "execution_count": 20,
   "id": "8afc3702",
   "metadata": {},
   "outputs": [
    {
     "name": "stdout",
     "output_type": "stream",
     "text": [
      " Please enter the width, height, and character separated by comma : 4,5,'#'\n"
     ]
    },
    {
     "data": {
      "text/plain": [
       "[['####'], ['#  #'], ['#  #'], ['#  #'], ['####']]"
      ]
     },
     "execution_count": 20,
     "metadata": {},
     "output_type": "execute_result"
    }
   ],
   "source": [
    "## Solution:\n",
    "\n",
    "inp = input(\" Please enter the width, height, and character separated by comma : \").split(\",\")#.remove(\"''\")\n",
    "\n",
    "def pic_frame(a):\n",
    "    \"\"\"\n",
    "    This function takes in 3 arguments for width, height and character and prints a pricture frame if the width is more than 2\n",
    "    \"\"\"\n",
    "    s=a[2].strip(\"''\").strip('\"\"')\n",
    "    a.pop(2)\n",
    "    a.append(s)\n",
    "    if int(a[0])<=2:\n",
    "        return \"Frame's width is not more than 2\"\n",
    "    l= []\n",
    "    for i in range(int(a[1])):\n",
    "        if i==0 or i==int(a[1])-1:\n",
    "            l.append([str(a[2]*int(a[0]))])\n",
    "        else:\n",
    "            l.append([str(a[2])+ \" \"*(int(a[0])-2) + str(a[2]) ])\n",
    "    return l\n",
    "\n",
    "pic_frame(inp)\n",
    "        "
   ]
  },
  {
   "cell_type": "markdown",
   "id": "1e1f43ff",
   "metadata": {},
   "source": [
    "### Q2: Write three functions:\n",
    "\n",
    "1. boolean_and\n",
    "2. boolean_or\n",
    "3. boolean_xor\n",
    "\n",
    "These functions should evaluate a list of True and False values, starting from\n",
    "the leftmost element and evaluating pairwise."
   ]
  },
  {
   "cell_type": "code",
   "execution_count": 31,
   "id": "712a085b",
   "metadata": {},
   "outputs": [
    {
     "name": "stdout",
     "output_type": "stream",
     "text": [
      " Please enter a list of boolean values : [True, True, False, False]\n"
     ]
    },
    {
     "data": {
      "text/plain": [
       "[False]"
      ]
     },
     "execution_count": 31,
     "metadata": {},
     "output_type": "execute_result"
    }
   ],
   "source": [
    "### Solution:\n",
    "inp = eval(input(\" Please enter a list of boolean values : \"))\n",
    "\n",
    "def boolean_and(a):\n",
    "    \"\"\"\n",
    "    This is a boolean and function that results to True if the and condition is met\n",
    "    \"\"\"\n",
    "    l=[]\n",
    "    j=[]\n",
    "    \n",
    "    for i in range(len(a)):\n",
    "        if type(a[i])== bool:\n",
    "            l.append(a[i])\n",
    "            if len(l)==2:\n",
    "                j.append(l[0] and l[1])\n",
    "                l.clear()\n",
    "            elif len(j)>0:\n",
    "                j.append(j[0] and l[0])\n",
    "                j.pop(0)\n",
    "                l.clear()\n",
    "    return j\n",
    "\n",
    "def boolean_or(a):\n",
    "    \"\"\"\n",
    "    This is a boolean or function that results to True if the Or condition is met\n",
    "    \"\"\"\n",
    "    l=[]\n",
    "    j=[]\n",
    "    \n",
    "    for i in range(len(a)):\n",
    "        if type(a[i])== bool:\n",
    "            l.append(a[i])\n",
    "            if len(l)==2:\n",
    "                j.append(l[0] or l[1])\n",
    "                l.clear()\n",
    "            elif len(j)>0:\n",
    "                j.append(j[0] or l[0])\n",
    "                j.pop(0)\n",
    "                l.clear()\n",
    "    return j\n",
    "def boolean_xor(a):\n",
    "    \"\"\"\n",
    "    This is a boolean xor function that results to True if the xor condition is met\n",
    "    \"\"\"\n",
    "    l=[]\n",
    "    j=[]\n",
    "    \n",
    "    for i in range(len(a)):\n",
    "        if type(a[i])== bool:\n",
    "            l.append(a[i])\n",
    "            if len(l)==2:\n",
    "                j.append(l[0] ^l[1])\n",
    "                l.clear()\n",
    "            elif len(j)>0:\n",
    "                j.append(j[0] ^ l[0])\n",
    "                j.pop(0)\n",
    "                l.clear()\n",
    "    return j\n",
    "\n",
    "boolean_xor(inp)\n",
    "            \n",
    "        \n",
    "        "
   ]
  },
  {
   "cell_type": "markdown",
   "id": "0915f2fa",
   "metadata": {},
   "source": [
    "### Q3: Create a function that creates a box based on dimension n."
   ]
  },
  {
   "cell_type": "code",
   "execution_count": 11,
   "id": "3f98edae",
   "metadata": {},
   "outputs": [
    {
     "name": "stdout",
     "output_type": "stream",
     "text": [
      " Please enter the dimension of the box5\n"
     ]
    },
    {
     "data": {
      "text/plain": [
       "['#####', '#   #', '#   #', '#   #', '#####']"
      ]
     },
     "execution_count": 11,
     "metadata": {},
     "output_type": "execute_result"
    }
   ],
   "source": [
    "## Solution:\n",
    "\n",
    "inp = eval(input(\" Please enter the dimension of the box\"))\n",
    "\n",
    "def make_box(a):\n",
    "    \"\"\"\n",
    "    This function takes in a dimension to print the box\n",
    "    \"\"\"\n",
    "    l=[]\n",
    "    if a<=2:\n",
    "        for i in range(1, a+1):\n",
    "            l.append(\"#\"*a)\n",
    "        return l\n",
    "    for i in range(a):\n",
    "        if i==0 or i==a-1:\n",
    "            l.append('#'*a)\n",
    "        else:\n",
    "            l.append('#'+ \" \"*(a-2) + '#' )\n",
    "    return l\n",
    "\n",
    "make_box(inp)"
   ]
  },
  {
   "cell_type": "markdown",
   "id": "fc70065c",
   "metadata": {},
   "source": [
    "### Q4: Given a common phrase, return False if any individual word in the phrase contains duplicate letters. Return True otherwise."
   ]
  },
  {
   "cell_type": "code",
   "execution_count": 5,
   "id": "15213fa5",
   "metadata": {},
   "outputs": [
    {
     "name": "stdout",
     "output_type": "stream",
     "text": [
      " Please enter the phrase within quotes : \"An apple a day keeps the doctor away.\"\n"
     ]
    },
    {
     "data": {
      "text/plain": [
       "False"
      ]
     },
     "execution_count": 5,
     "metadata": {},
     "output_type": "execute_result"
    }
   ],
   "source": [
    "## Solution: \n",
    "\n",
    "try:\n",
    "    inp = eval(input(\" Please enter the phrase within quotes : \")).split(\" \")\n",
    "except:\n",
    "    print(\" Please enter the text within quotes\")\n",
    "\n",
    "def no_duplicate_letters(a):\n",
    "    \"\"\"\n",
    "    This function takes in a text and returns False if there is a duplicate letter in the word else it returns True\n",
    "    \"\"\"\n",
    "    for i in a:\n",
    "        for j in i:\n",
    "            if i.count(j)>1:\n",
    "                return False\n",
    "    else:\n",
    "        return True\n",
    "    \n",
    "no_duplicate_letters(inp)"
   ]
  },
  {
   "cell_type": "markdown",
   "id": "725720a9",
   "metadata": {},
   "source": [
    "### Q5: Write a regular expression that will match the states that voted yes to President Trump&#39;s impeachment. You must use RegEx positive lookahead."
   ]
  },
  {
   "cell_type": "code",
   "execution_count": 45,
   "id": "8a42dabf",
   "metadata": {},
   "outputs": [
    {
     "name": "stdout",
     "output_type": "stream",
     "text": [
      " Please enter the text  : Texas = no, California = yes, Florida = yes, Michigan = no\n"
     ]
    },
    {
     "data": {
      "text/plain": [
       "['California', 'Florida']"
      ]
     },
     "execution_count": 45,
     "metadata": {},
     "output_type": "execute_result"
    }
   ],
   "source": [
    "## Solution:\n",
    "\n",
    "inp = input(\" Please enter the text  : \")\n",
    "\n",
    "import re\n",
    "\n",
    "pattern = re.compile('\\w+(?=\\s=\\syes)')\n",
    "\n",
    "re.findall(pattern, inp)"
   ]
  },
  {
   "cell_type": "code",
   "execution_count": null,
   "id": "628aa5d1",
   "metadata": {},
   "outputs": [],
   "source": []
  }
 ],
 "metadata": {
  "kernelspec": {
   "display_name": "Python 3",
   "language": "python",
   "name": "python3"
  }
 },
 "nbformat": 4,
 "nbformat_minor": 5
}
