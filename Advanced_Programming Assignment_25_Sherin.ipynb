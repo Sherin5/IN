{
 "cells": [
  {
   "cell_type": "markdown",
   "id": "aee5b467",
   "metadata": {},
   "source": [
    "### Q1: Write four functions that directly mutate a list:\n",
    "1. repeat(lst, n): Repeat lst n times.\n",
    "2. add(lst, x): Adds x to the end of the lst.\n",
    "3. remove(lst, m, n): Removes all elements between indices m and n\n",
    "inclusive in lst.\n",
    "4. concat(lst, x): concatenates lst with x (another list)."
   ]
  },
  {
   "cell_type": "code",
   "execution_count": 29,
   "id": "8fc5c0d3",
   "metadata": {},
   "outputs": [
    {
     "data": {
      "text/plain": [
       "[1, 2, 3, 4, 1, 2, 3, 4, 1, 2, 3, 4]"
      ]
     },
     "execution_count": 29,
     "metadata": {},
     "output_type": "execute_result"
    }
   ],
   "source": [
    "## Solution:\n",
    "lst=[1,2,3,4]\n",
    "def repeat(a,b):\n",
    "    global lst\n",
    "    lst = a*b\n",
    "    return lst\n",
    "repeat(lst, 3)    "
   ]
  },
  {
   "cell_type": "code",
   "execution_count": 30,
   "id": "8b366f5b",
   "metadata": {},
   "outputs": [
    {
     "data": {
      "text/plain": [
       "[1, 2, 3, 4, 1, 2, 3, 4, 1, 2, 3, 4, 1]"
      ]
     },
     "execution_count": 30,
     "metadata": {},
     "output_type": "execute_result"
    }
   ],
   "source": [
    "def add_l(a,b):\n",
    "    global lst\n",
    "    lst.append(b)\n",
    "    return lst\n",
    "add_l(lst, 1)"
   ]
  },
  {
   "cell_type": "code",
   "execution_count": 31,
   "id": "a09754f8",
   "metadata": {},
   "outputs": [
    {
     "data": {
      "text/plain": [
       "[1]"
      ]
     },
     "execution_count": 31,
     "metadata": {},
     "output_type": "execute_result"
    }
   ],
   "source": [
    "def remove(a,b,c):\n",
    "    global lst\n",
    "    d = list(range(b+1,c+1))\n",
    "    e = set(lst)\n",
    "    f = set(d)\n",
    "    lst = list(e.difference(f))\n",
    "    return lst\n",
    "remove(lst,1,12)"
   ]
  },
  {
   "cell_type": "code",
   "execution_count": 33,
   "id": "ddea0598",
   "metadata": {},
   "outputs": [
    {
     "data": {
      "text/plain": [
       "[1, 3, 4]"
      ]
     },
     "execution_count": 33,
     "metadata": {},
     "output_type": "execute_result"
    }
   ],
   "source": [
    "def concat(a, b):\n",
    "    global lst\n",
    "    lst.extend(b)\n",
    "    return lst\n",
    "concat(lst, [3,4])"
   ]
  },
  {
   "cell_type": "markdown",
   "id": "9f0448e8",
   "metadata": {},
   "source": [
    "### Q2: The classic game of Mastermind is played on a tray on which the Mastermind conceals a code and the Guesser has 10 tries to guess it. The code is a sequence of 4 (or 6, sometimes more) pegs of different colors. Each guess is a corresponding sequence of 4 (or more) pegs of different colors. A guess is &quot;correct&quot; when the color of every peg in the guess exactly matches the corresponding peg in the Mastermind&#39;s code.\n",
    "\n",
    "After each guess by the Guesser, the Mastermind will give a score comprising black &amp; white pegs, not arranged in any order:\n",
    "\n",
    "- Black peg == guess peg matches the color of a code peg in the same\n",
    "position.\n",
    "- White peg == guess peg matches the color of a code peg in another\n",
    "position.\n",
    "Create a function that takes two strings, code and guess as arguments, and\n",
    "returns the score in a dictionary.\n",
    "- The code and guess are strings of numeric digits\n",
    "- The color of the pegs are represented by numeric digits\n",
    "- no &quot;peg&quot; may be double-scored"
   ]
  },
  {
   "cell_type": "code",
   "execution_count": 52,
   "id": "b414d0af",
   "metadata": {},
   "outputs": [
    {
     "name": "stdout",
     "output_type": "stream",
     "text": [
      " Please enter the code and the guess separated by comma : \"1423\", \"2211\"\n"
     ]
    },
    {
     "data": {
      "text/plain": [
       "{'black': 0, 'white': 2}"
      ]
     },
     "execution_count": 52,
     "metadata": {},
     "output_type": "execute_result"
    }
   ],
   "source": [
    "## Solution:\n",
    "\n",
    "inp = eval(input(\" Please enter the code and the guess separated by comma : \"))\n",
    "\n",
    "def guess(a,b):\n",
    "    c=0\n",
    "    d=0\n",
    "    d1= {}\n",
    "    for i in range(len(a)):\n",
    "        if a[i]==b[i]:\n",
    "            c+=1\n",
    "        elif a[i] in b:\n",
    "            d+=1\n",
    "    d1['black']=c\n",
    "    d1['white']=d\n",
    "    return d1\n",
    "guess(inp[0], inp[1])\n"
   ]
  },
  {
   "cell_type": "markdown",
   "id": "fe23b854",
   "metadata": {},
   "source": [
    "### Q3: Create a function that takes a list lst and a number N and returns a list of two integers from lst whose product equals N."
   ]
  },
  {
   "cell_type": "code",
   "execution_count": 62,
   "id": "c6c7b669",
   "metadata": {},
   "outputs": [
    {
     "name": "stdout",
     "output_type": "stream",
     "text": [
      " Please enter the list and the the number n separated by comma : [100, 12, 4, 1, 2], 15\n"
     ]
    },
    {
     "data": {
      "text/plain": [
       "'None'"
      ]
     },
     "execution_count": 62,
     "metadata": {},
     "output_type": "execute_result"
    }
   ],
   "source": [
    "## Solution:\n",
    "\n",
    "inp = eval(input(\" Please enter the list and the the number n separated by comma : \"))\n",
    "\n",
    "def two_prod(a,b):\n",
    "    c= []\n",
    "    for i in a:\n",
    "        for j in a[::-1]:\n",
    "            if i*j==b:\n",
    "                c.append(i)\n",
    "                c.append(j)\n",
    "    if len(list(set(c))) ==0:\n",
    "        return \"None\"\n",
    "    else:\n",
    "        return list(set(c))\n",
    "    \n",
    "    \n",
    "two_prod(inp[0], inp[1])"
   ]
  },
  {
   "cell_type": "markdown",
   "id": "b1c8eee3",
   "metadata": {},
   "source": [
    "### Q4: In this challenge, sort a list containing a series of dates given as strings. Each date is given in the format DD-MM-YYYY_HH:MM:"
   ]
  },
  {
   "cell_type": "code",
   "execution_count": 11,
   "id": "58d81975",
   "metadata": {},
   "outputs": [
    {
     "name": "stdout",
     "output_type": "stream",
     "text": [
      " Please enter the list of dates and the mode separated by comma : ['10-02-2018_12:30', '10-02-2016_12:30', '10-02-2018_12:15'],'ASC'\n"
     ]
    },
    {
     "data": {
      "text/plain": [
       "['10-02-2016_12:30', '10-02-2018_12:15', '10-02-2018_12:30']"
      ]
     },
     "execution_count": 11,
     "metadata": {},
     "output_type": "execute_result"
    }
   ],
   "source": [
    "## Solution:\n",
    "\n",
    "inp = eval(input(\" Please enter the list of dates and the mode separated by comma : \"))\n",
    "from datetime import datetime\n",
    "import re\n",
    "def sort_dates(a,b):\n",
    "    patterny = r'\\d{4}'\n",
    "    patternm = r'-(\\d{2})-'\n",
    "    patternd = r'^\\d{2}'\n",
    "    patternt = r'_(\\d{2})'\n",
    "    patternt1 = r':(\\d{2})'\n",
    "    f=[]\n",
    "    k=[]\n",
    "    for i in a:\n",
    "        y = re.findall(patterny, i)\n",
    "        m = re.findall(patternm, i)\n",
    "        d = re.findall(patternd, i)\n",
    "        t1= re.findall(patternt, i)\n",
    "        t2 = re.findall(patternt1, i)\n",
    "        z =datetime(int(y[0]), int(m[0]), int(d[0]), int(t1[0]), int(t2[0]))\n",
    "        f.append(int(z.strftime('%Y%m%d%H%M%S')))\n",
    "    s = list(zip(f,a))\n",
    "    if b==\"ASC\":\n",
    "        s.sort()\n",
    "    else:\n",
    "        s.sort(reverse = True)\n",
    "    for j in s:\n",
    "        k.append(j[1])\n",
    "    return k\n",
    "sort_dates(inp[0], inp[1])"
   ]
  },
  {
   "cell_type": "markdown",
   "id": "14f006b0",
   "metadata": {},
   "source": [
    "### Q5: Write a function that selects all words that have all the same vowels (in any order and/or number) as the first word, including the first word."
   ]
  },
  {
   "cell_type": "code",
   "execution_count": 57,
   "id": "f2adfbfa",
   "metadata": {},
   "outputs": [
    {
     "name": "stdout",
     "output_type": "stream",
     "text": [
      " Please enter the list of words : ['hoops', 'chuff','bot','bottom']\n"
     ]
    },
    {
     "data": {
      "text/plain": [
       "['hoops', 'bot', 'bottom']"
      ]
     },
     "execution_count": 57,
     "metadata": {},
     "output_type": "execute_result"
    }
   ],
   "source": [
    "## Solution:\n",
    "inp = eval(input(\" Please enter the list of words : \"))\n",
    "def same_vowel(a):\n",
    "    b = a[0]\n",
    "    d1 = set()\n",
    "    d2= set()\n",
    "    l=[b]\n",
    "    vowel = ['a', 'i', 'e', 'o', 'u']\n",
    "    for k in b:\n",
    "        if k in vowel:\n",
    "            d1.add(k)\n",
    "    for i in a[1:]:\n",
    "        for j in i:\n",
    "            if j in vowel :\n",
    "                d2.add(j)\n",
    "        if d2==d1:\n",
    "            l.append(i)\n",
    "        else:\n",
    "            d2.clear()\n",
    "    return l\n",
    "same_vowel(inp)       "
   ]
  },
  {
   "cell_type": "markdown",
   "id": "271df713",
   "metadata": {},
   "source": [
    "### Q6: Create a function that takes a list of more than three numbers and returns the Least Common Multiple (LCM)."
   ]
  },
  {
   "cell_type": "code",
   "execution_count": 6,
   "id": "9b9099ad",
   "metadata": {},
   "outputs": [
    {
     "name": "stdout",
     "output_type": "stream",
     "text": [
      " Please enter the list of numbers : [1,2,3,4,5,6,7,8,9,10]\n"
     ]
    },
    {
     "data": {
      "text/plain": [
       "2520"
      ]
     },
     "execution_count": 6,
     "metadata": {},
     "output_type": "execute_result"
    }
   ],
   "source": [
    "## Solution:\n",
    "inp = eval(input(\" Please enter the list of numbers : \" ))\n",
    "import math\n",
    "from functools import reduce\n",
    "def lcm(a):\n",
    "    lcm=a[0]\n",
    "    for i in a:\n",
    "        lcm = lcm*i//math.gcd(lcm, i)\n",
    "    return lcm      \n",
    "lcm(inp)"
   ]
  }
 ],
 "metadata": {
  "kernelspec": {
   "display_name": "Python 3",
   "language": "python",
   "name": "python3"
  },
  "language_info": {
   "codemirror_mode": {
    "name": "ipython",
    "version": 3
   },
   "file_extension": ".py",
   "mimetype": "text/x-python",
   "name": "python",
   "nbconvert_exporter": "python",
   "pygments_lexer": "ipython3",
   "version": "3.8.8"
  }
 },
 "nbformat": 4,
 "nbformat_minor": 5
}
