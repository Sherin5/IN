{
 "cells": [
  {
   "cell_type": "markdown",
   "id": "c90d9390",
   "metadata": {},
   "source": [
    "## Q1: Write a Python Program to Find the Factorial of a Number?"
   ]
  },
  {
   "cell_type": "code",
   "execution_count": 6,
   "id": "b156d808",
   "metadata": {},
   "outputs": [
    {
     "name": "stdout",
     "output_type": "stream",
     "text": [
      " Please enter the number for factorial : 5\n",
      " The factorial of the number 5 is 120\n"
     ]
    }
   ],
   "source": [
    "## Solution:\n",
    "\n",
    "inp = input(\" Please enter the number for factorial : \")\n",
    "\n",
    "\n",
    "try:\n",
    "    num = int(inp)\n",
    "    def factor(num):\n",
    "        fact = 1\n",
    "\n",
    "        for i in range(num, 0, -1):\n",
    "            fact = fact*i\n",
    "        print(\" The factorial of the number {} is {}\".format(inp, fact))\n",
    "    factor(num)\n",
    "except ValueError:\n",
    "    print(\" Please enter a valid number \")\n",
    "    \n"
   ]
  },
  {
   "cell_type": "markdown",
   "id": "9d6401b7",
   "metadata": {},
   "source": [
    "## Q2: Write a Python Program to Display the multiplication Table?"
   ]
  },
  {
   "cell_type": "code",
   "execution_count": 9,
   "id": "e9583336",
   "metadata": {},
   "outputs": [
    {
     "name": "stdout",
     "output_type": "stream",
     "text": [
      " Please enter the number for the multiplication table : 5\n",
      " Please enter the table upto (Example upto 10 or upto 20) : 10\n",
      "\n",
      "\n",
      "5 x 1 = 5\n",
      "\n",
      "\n",
      "5 x 2 = 10\n",
      "\n",
      "\n",
      "5 x 3 = 15\n",
      "\n",
      "\n",
      "5 x 4 = 20\n",
      "\n",
      "\n",
      "5 x 5 = 25\n",
      "\n",
      "\n",
      "5 x 6 = 30\n",
      "\n",
      "\n",
      "5 x 7 = 35\n",
      "\n",
      "\n",
      "5 x 8 = 40\n",
      "\n",
      "\n",
      "5 x 9 = 45\n",
      "\n",
      "\n",
      "5 x 10 = 50\n"
     ]
    }
   ],
   "source": [
    "## Solution:\n",
    "\n",
    "inp = input(\" Please enter the number for the multiplication table : \")\n",
    "tab = input(\" Please enter the table upto (Example upto 10 or upto 20) : \")\n",
    "\n",
    "try:\n",
    "    num = int(inp) \n",
    "    table = int(tab)\n",
    "    \n",
    "    fact = 1\n",
    "\n",
    "    for i in range(1, table+1):\n",
    "        fact = num*i\n",
    "        print(\"{} x {} = {}\".format(num, i, fact))\n",
    "    \n",
    "except ValueError:\n",
    "    print(\" Please enter a valid number \")\n"
   ]
  },
  {
   "cell_type": "markdown",
   "id": "8919e834",
   "metadata": {},
   "source": [
    "## Q3: Write a Python Program to Print the Fibonacci sequence?"
   ]
  },
  {
   "cell_type": "code",
   "execution_count": 22,
   "id": "9a03ac34",
   "metadata": {},
   "outputs": [
    {
     "name": "stdout",
     "output_type": "stream",
     "text": [
      " Please enter the number upto which you want to calculate the fibonacci sequence : 10\n",
      "[0, 1, 1, 2, 3, 5, 8, 13, 21, 34]\n"
     ]
    }
   ],
   "source": [
    "## Solution:\n",
    "\n",
    "inp = input(\" Please enter the number upto which you want to calculate the fibonacci sequence : \")\n",
    "\n",
    "\n",
    "try:\n",
    "    num = int(inp) \n",
    "    def fib(num):\n",
    "        l1 = []\n",
    "        fact = 0\n",
    "        for i in range(num):\n",
    "            if i <=1:\n",
    "                l1.append(i)\n",
    "            else:\n",
    "                fact= l1[i-1] + l1[i-2]\n",
    "                l1.append(fact)\n",
    "        print(l1)                 \n",
    "    fib(num)\n",
    "    \n",
    "    \n",
    "except ValueError:\n",
    "    print(\" Please enter a valid number \")"
   ]
  },
  {
   "cell_type": "markdown",
   "id": "6cad3fd6",
   "metadata": {},
   "source": [
    "## Q4: Write a Python Program to Check Armstrong Number?"
   ]
  },
  {
   "cell_type": "code",
   "execution_count": 28,
   "id": "4672b82b",
   "metadata": {},
   "outputs": [
    {
     "name": "stdout",
     "output_type": "stream",
     "text": [
      " Please enter the number to check if it's an Armstrong number : 153\n",
      " 153 is an Armstrong number \n"
     ]
    }
   ],
   "source": [
    "## Solution:\n",
    "\n",
    "inp = input(\" Please enter the number to check if it's an Armstrong number : \")\n",
    "count = len(inp)\n",
    "\n",
    "try:\n",
    "    num = int(inp) \n",
    "    def armstrong(num):\n",
    "        fact = 0\n",
    "        for i in inp:\n",
    "            conv = int(i)\n",
    "            fact += conv**count\n",
    "        if num== fact:\n",
    "            print(\" {} is an Armstrong number \".format(inp))\n",
    "        else:\n",
    "            print(\" {} is not an Armstrong number\".format(inp))\n",
    "                         \n",
    "    armstrong(num)\n",
    "    \n",
    "    \n",
    "except ValueError:\n",
    "    print(\" Please enter a valid number \")"
   ]
  },
  {
   "cell_type": "markdown",
   "id": "cf963eb3",
   "metadata": {},
   "source": [
    "## Q5: Write a Python Program to Find Armstrong Number in an Interval?"
   ]
  },
  {
   "cell_type": "code",
   "execution_count": 5,
   "id": "1a1292d0",
   "metadata": {},
   "outputs": [
    {
     "name": "stdout",
     "output_type": "stream",
     "text": [
      " Please enter the start of range to check for Armstrong numbers : 140\n",
      " Please enter the end of range to check for Armstrong numbers : 410\n",
      "[153, 370, 371, 407] is the list of armstrong numbers between 140 and 410\n"
     ]
    }
   ],
   "source": [
    "## Solution:\n",
    "\n",
    "inp = input(\" Please enter the start of range to check for Armstrong numbers : \")\n",
    "inp1 = input(\" Please enter the end of range to check for Armstrong numbers : \")\n",
    "\n",
    "\n",
    "try:\n",
    "    num1 = int(inp)\n",
    "    num2 = int(inp1)\n",
    "    if num2 > num1:\n",
    "        def armstrong(num1, num2):\n",
    "            l = []\n",
    "            for i in range(num1, num2+1):\n",
    "                string = str(i)\n",
    "                count = len(string)\n",
    "                fact = 0\n",
    "                for j in string:\n",
    "                    conv = int(j)\n",
    "                    fact += conv**count\n",
    "                if i== fact:\n",
    "                    l.append(i)\n",
    "                else:\n",
    "                    pass\n",
    "            print( \"{} is the list of armstrong numbers between {} and {}\".format(l, inp, inp1))\n",
    "\n",
    "        armstrong(num1, num2)\n",
    "    else:\n",
    "        print(\" Please enter a number greater than the range start\")\n",
    "    \n",
    "    \n",
    "except ValueError:\n",
    "    print(\" Please enter a valid number \")"
   ]
  },
  {
   "cell_type": "markdown",
   "id": "2ce829d7",
   "metadata": {},
   "source": [
    "## Q6: Write a Python Program to Find the Sum of Natural Numbers?"
   ]
  },
  {
   "cell_type": "code",
   "execution_count": 9,
   "id": "f140d13c",
   "metadata": {},
   "outputs": [
    {
     "name": "stdout",
     "output_type": "stream",
     "text": [
      " Please enter a natural number : 100\n",
      " 5050.0 is the sum of all the natural numbers upto 100 \n"
     ]
    }
   ],
   "source": [
    "## Solution: \n",
    "\n",
    "\n",
    "inp = input(\" Please enter a natural number : \")\n",
    "\n",
    "\n",
    "try:\n",
    "    num = int(inp)\n",
    "    def natural(num):\n",
    "        if num > 0:\n",
    "            summed = (num*(num+1))/2\n",
    "            print(\" {} is the sum of all the natural numbers upto {} \".format(summed, inp))\n",
    "        else:\n",
    "            print(\" Please enter a natural number (number greater than zero) :\")\n",
    "\n",
    "    natural(num)\n",
    "    \n",
    "    \n",
    "except ValueError:\n",
    "    print(\" Please enter a valid number \")"
   ]
  },
  {
   "cell_type": "code",
   "execution_count": null,
   "id": "eb988b97",
   "metadata": {},
   "outputs": [],
   "source": []
  }
 ],
 "metadata": {
  "kernelspec": {
   "display_name": "Python 3",
   "language": "python",
   "name": "python3"
  },
  "language_info": {
   "codemirror_mode": {
    "name": "ipython",
    "version": 3
   },
   "file_extension": ".py",
   "mimetype": "text/x-python",
   "name": "python",
   "nbconvert_exporter": "python",
   "pygments_lexer": "ipython3",
   "version": "3.8.8"
  }
 },
 "nbformat": 4,
 "nbformat_minor": 5
}
