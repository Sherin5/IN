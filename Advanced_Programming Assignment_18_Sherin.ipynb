{
 "cells": [
  {
   "cell_type": "markdown",
   "id": "db74cecd",
   "metadata": {},
   "source": [
    "### Q1: A robot has been given a list of movement instructions. Each instruction is either left, right, up or down, followed by a distance to move. The robot starts at [0, 0]. You want to calculate where the robot will end up and return its final position as a list.\n",
    "\n",
    "To illustrate, if the robot is given the following instructions:\n",
    "[&quot;right 10&quot;, &quot;up 50&quot;, &quot;left 30&quot;, &quot;down 10&quot;]\n",
    "It will end up 20 left and 40 up from where it started, so we return [-20, 40]."
   ]
  },
  {
   "cell_type": "code",
   "execution_count": 19,
   "id": "f4021284",
   "metadata": {},
   "outputs": [
    {
     "name": "stdout",
     "output_type": "stream",
     "text": [
      " Please enter the steps : ['right 10', 'up 50', 'left 30', 'down 10']\n",
      "['right', '10']\n",
      "['left', '30']\n"
     ]
    },
    {
     "data": {
      "text/plain": [
       "[-20, 40]"
      ]
     },
     "execution_count": 19,
     "metadata": {},
     "output_type": "execute_result"
    }
   ],
   "source": [
    "## Solution:\n",
    "\n",
    "inp = eval(input(\" Please enter the steps : \"))\n",
    "import operator\n",
    "\n",
    "def robot(a):\n",
    "    \"\"\"\n",
    "    This function calculates the steps of a robot from its initial position\n",
    "    \"\"\"\n",
    "    l=[]\n",
    "    side = 0\n",
    "    up = 0\n",
    "    d1 = {'right':operator.add, \"left\": operator.sub, 'up':operator.add,'down':operator.sub }\n",
    "    for i in a:\n",
    "        l.append(i.split(\" \"))\n",
    "    for j in l:\n",
    "        \n",
    "        if j[0]=='right' or j[0]=='left':\n",
    "            print(j)\n",
    "            side = d1[j[0]](side, int(j[1]))\n",
    "            \n",
    "        else:\n",
    "            up = d1[j[0]](up,int( j[1]))\n",
    "    return [side, up]\n",
    "\n",
    "robot(inp)"
   ]
  },
  {
   "cell_type": "markdown",
   "id": "eb28c043",
   "metadata": {},
   "source": [
    "### Q2: Write a function that will return the longest word in a sentence. In cases where more than one word is found, return the first one."
   ]
  },
  {
   "cell_type": "code",
   "execution_count": 59,
   "id": "24b6d302",
   "metadata": {},
   "outputs": [
    {
     "name": "stdout",
     "output_type": "stream",
     "text": [
      " Please enter the sentence in quotes : 'Forgetfulness is by all means powerless!'\n"
     ]
    },
    {
     "data": {
      "text/plain": [
       "'Forgetfulness'"
      ]
     },
     "execution_count": 59,
     "metadata": {},
     "output_type": "execute_result"
    }
   ],
   "source": [
    "## Solution:\n",
    "\n",
    "inp = input(\" Please enter the sentence in quotes : \")\n",
    "\n",
    "def longest_word(a):\n",
    "    import re\n",
    "    \"\"\"\n",
    "    This function takes in a sentence and returns the longest word\n",
    "    \"\"\"\n",
    "    l=0\n",
    "    d={\"long\":\"\"}\n",
    "    a = re.sub('\\W+',' ',a).split(\" \")\n",
    "    for i in a:\n",
    "        if len(i.strip(\"''\").strip('\"\"')) > l:\n",
    "            l=len(i.strip(\"''\").strip('\"\"'))\n",
    "            d['long'] = i\n",
    "    return d['long']\n",
    "longest_word(inp)"
   ]
  },
  {
   "cell_type": "markdown",
   "id": "8b250635",
   "metadata": {},
   "source": [
    "### Q3: Create a function to check if a candidate is qualified in an imaginary coding interview of an imaginary tech startup.\n",
    "\n",
    "The criteria for a candidate to be qualified in the coding interview is:\n",
    "1. The candidate should have complete all the questions.\n",
    "2. The maximum time given to complete the interview is 120 minutes.\n",
    "3. The maximum time given for very easy questions is 5 minutes each.\n",
    "4. The maximum time given for easy questions is 10 minutes each.\n",
    "5. The maximum time given for medium questions is 15 minutes each.\n",
    "6. The maximum time given for hard questions is 20 minutes each.\n",
    "\n",
    "If all the above conditions are satisfied, return &quot;qualified&quot;, else return\n",
    "&quot;disqualified&quot;.\n",
    "You will be given a list of time taken by a candidate to solve a particular\n",
    "question and the total time taken by the candidate to complete the interview.\n",
    "Given a list , in a true condition will always be in the format [very easy, very\n",
    "easy, easy, easy, medium, medium, hard, hard].\n",
    "The maximum time to complete the interview includes a buffer time of 20\n",
    "minutes."
   ]
  },
  {
   "cell_type": "code",
   "execution_count": 74,
   "id": "0859fba2",
   "metadata": {},
   "outputs": [
    {
     "name": "stdout",
     "output_type": "stream",
     "text": [
      " Please enter the list of time taken and total time taken separated by comma : [5, 5, 10, 10, 15, 15, 20, 20], 130\n"
     ]
    },
    {
     "data": {
      "text/plain": [
       "'disqualified'"
      ]
     },
     "execution_count": 74,
     "metadata": {},
     "output_type": "execute_result"
    }
   ],
   "source": [
    "## Solution:\n",
    "\n",
    "inp, inp1 = eval(input(\" Please enter the list of time taken and total time taken separated by comma : \"))\n",
    "\n",
    "def interview(a,b):\n",
    "    \"\"\"\n",
    "    This function return qualified if the candidates has passed all the questions\n",
    "    \"\"\"\n",
    "    d1 = {\"very easy\": 5, \"easy\": 10, 'medium':15, 'hard':20}\n",
    "    d2 = {\"very easy\": range(2), \"easy\": range(2,4), 'medium':range(4,6), 'hard':range(4,6)}\n",
    "    if b> 120:\n",
    "        return \"disqualified\"\n",
    "    if len(a) < 8:\n",
    "        return \"disqualified\"\n",
    "    for i in range(len(a)):\n",
    "        if i in d2['very easy']:\n",
    "            if a[i] > d1['very easy']:\n",
    "                return \"disqualified\"\n",
    "        elif i in d2['easy']:\n",
    "            if a[i] > d1['easy']:\n",
    "                return \"disqualified\"\n",
    "        elif i in d2['medium']:\n",
    "            if a[i] > d1['medium']:\n",
    "                return \"disqualified\"\n",
    "        elif i in d2['hard']:\n",
    "            if a[i] > d1['hard']:\n",
    "                return \"disqualified\"\n",
    "    else:\n",
    "        return \"qualified\"\n",
    "interview(inp,inp1)"
   ]
  },
  {
   "cell_type": "markdown",
   "id": "339f38a8",
   "metadata": {},
   "source": [
    "### Q4: Write a function that divides a list into chunks of size n, where n is the length of each chunk."
   ]
  },
  {
   "cell_type": "code",
   "execution_count": 98,
   "id": "5961a37c",
   "metadata": {},
   "outputs": [
    {
     "name": "stdout",
     "output_type": "stream",
     "text": [
      " Please enter the list and the number of chunk separated by comma : [2, 3, 4, 5, 6], 2\n"
     ]
    },
    {
     "data": {
      "text/plain": [
       "[[2, 3], [4, 5], [6]]"
      ]
     },
     "execution_count": 98,
     "metadata": {},
     "output_type": "execute_result"
    }
   ],
   "source": [
    "## Solution:\n",
    "\n",
    "inp, inp1 = eval(input(\" Please enter the list and the number of chunk separated by comma : \"))\n",
    "\n",
    "def chunk(a,b):\n",
    "    \"\"\"\n",
    "    This function divides a list into n chunks\n",
    "    \"\"\"\n",
    "    d1 = {}\n",
    "    c=0\n",
    "    d=0\n",
    "    for i in a:\n",
    "        d1.setdefault(d,[]).append(i)\n",
    "        if len(d1[d])==b:\n",
    "            d+=1\n",
    "    return list(d1.values())\n",
    "chunk(inp,inp1)"
   ]
  },
  {
   "cell_type": "markdown",
   "id": "71aad51a",
   "metadata": {},
   "source": [
    "### Q5: You are given a list of strings consisting of grocery items, with prices in parentheses. Return a list of prices in float format."
   ]
  },
  {
   "cell_type": "code",
   "execution_count": 126,
   "id": "63ff9dff",
   "metadata": {},
   "outputs": [
    {
     "name": "stdout",
     "output_type": "stream",
     "text": [
      " Please enter the list of grocery : [ 'artichokes ($1.99)', 'rotiserrie chicken ($5.99)', 'gum ($0.75)' ]\n",
      "artichokes ($1.99)\n",
      "rotiserrie chicken ($5.99)\n",
      "gum ($0.75)\n"
     ]
    },
    {
     "data": {
      "text/plain": [
       "[1.99, 5.99, 0.75]"
      ]
     },
     "execution_count": 126,
     "metadata": {},
     "output_type": "execute_result"
    }
   ],
   "source": [
    "## Solution:\n",
    "\n",
    "inp = eval(input(\" Please enter the list of grocery : \"))\n",
    "\n",
    "def grocery_cost(a):\n",
    "    import re\n",
    "    \"\"\"\n",
    "    This function takes in a list of grocery items and their prices and parses the list for the prices\n",
    "    \"\"\"\n",
    "    l=[]\n",
    "    f=[]\n",
    "    for i in a:\n",
    "        print(i)\n",
    "        pattern = re.compile('\\d+(?:\\.\\d+)')\n",
    "        l.extend (re.findall(pattern,i))\n",
    "    for j in l:\n",
    "        f.append(float(j))\n",
    "    return f                             \n",
    "grocery_cost(inp)"
   ]
  }
 ],
 "metadata": {
  "kernelspec": {
   "display_name": "Python 3",
   "language": "python",
   "name": "python3"
  },
  "language_info": {
   "codemirror_mode": {
    "name": "ipython",
    "version": 3
   },
   "file_extension": ".py",
   "mimetype": "text/x-python",
   "name": "python",
   "nbconvert_exporter": "python",
   "pygments_lexer": "ipython3",
   "version": "3.8.8"
  }
 },
 "nbformat": 4,
 "nbformat_minor": 5
}
