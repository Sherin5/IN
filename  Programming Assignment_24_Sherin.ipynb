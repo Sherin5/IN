{
 "cells": [
  {
   "cell_type": "markdown",
   "id": "44bcc4af",
   "metadata": {},
   "source": [
    "### Q1: Create a function that takes an integer and returns a list from 1 to the given number, where:\n",
    "\n",
    "1. If the number can be divided evenly by 4, amplify it by 10 (i.e. return 10 times the number).\n",
    "\n",
    "2. If the number cannot be divided evenly by 4, simply return the number."
   ]
  },
  {
   "cell_type": "code",
   "execution_count": 4,
   "id": "dbd70cd8",
   "metadata": {},
   "outputs": [
    {
     "name": "stdout",
     "output_type": "stream",
     "text": [
      " Please enter the number : 4\n"
     ]
    },
    {
     "data": {
      "text/plain": [
       "[1, 2, 3, 40]"
      ]
     },
     "execution_count": 4,
     "metadata": {},
     "output_type": "execute_result"
    }
   ],
   "source": [
    "## Solution:\n",
    "inp = eval(input(\" Please enter the number : \"))\n",
    "def ser(a):\n",
    "    return [i*10 if i%4==0 else i for i in range(1, a+1) ]\n",
    "ser(inp)"
   ]
  },
  {
   "cell_type": "markdown",
   "id": "33f6baf2",
   "metadata": {},
   "source": [
    "### Q2: Create a function that takes a list of numbers and return the number that&#39;s unique."
   ]
  },
  {
   "cell_type": "code",
   "execution_count": 7,
   "id": "081005c9",
   "metadata": {},
   "outputs": [
    {
     "name": "stdout",
     "output_type": "stream",
     "text": [
      " Please enter the list : [0, 1, 1, 1, 1, 1, 1, 1]\n"
     ]
    },
    {
     "data": {
      "text/plain": [
       "0"
      ]
     },
     "execution_count": 7,
     "metadata": {},
     "output_type": "execute_result"
    }
   ],
   "source": [
    "## Solution:\n",
    "\n",
    "inp = eval(input(\" Please enter the list : \"))\n",
    "\n",
    "def uni(a):\n",
    "    return [i for i in a if a.count(i)==1][0]\n",
    "uni(inp)"
   ]
  },
  {
   "cell_type": "markdown",
   "id": "dd5a6be5",
   "metadata": {},
   "source": [
    "### Q3: Your task is to create a Circle constructor that creates a circle with a radius provided by an argument. The circles constructed must have two getters getArea() (PIr^2) and getPerimeter() (2PI*r) which give both respective areas and perimeter (circumference).\n",
    "\n",
    "For help with this class, I have provided you with a Rectangle constructor which you can use\n",
    "as a base example."
   ]
  },
  {
   "cell_type": "code",
   "execution_count": 19,
   "id": "238afe2d",
   "metadata": {},
   "outputs": [],
   "source": [
    "## Solution:\n",
    "\n",
    "class Circle:\n",
    "    def __init__(self, radius):\n",
    "        self.radius = radius\n",
    "    def getArea(self):\n",
    "        import math\n",
    "        s = math.pi*(self.radius**2)\n",
    "        return round(s)\n",
    "    def getPerimeter(self):\n",
    "        import math\n",
    "        p = 2*(math.pi*self.radius)\n",
    "        return round(p)"
   ]
  },
  {
   "cell_type": "code",
   "execution_count": 20,
   "id": "89416e10",
   "metadata": {},
   "outputs": [
    {
     "data": {
      "text/plain": [
       "28"
      ]
     },
     "execution_count": 20,
     "metadata": {},
     "output_type": "execute_result"
    }
   ],
   "source": [
    "c1 = Circle(4.44)\n",
    "#c1.getArea()\n",
    "c1.getPerimeter()"
   ]
  },
  {
   "cell_type": "markdown",
   "id": "e5e324a1",
   "metadata": {},
   "source": [
    "### Q4: Create a function that takes a list of strings and return a list, sorted from shortest to longest."
   ]
  },
  {
   "cell_type": "code",
   "execution_count": 38,
   "id": "021d4098",
   "metadata": {},
   "outputs": [
    {
     "name": "stdout",
     "output_type": "stream",
     "text": [
      " Please enter the list of strings : ['Turing', 'Einstein', 'Jung']\n"
     ]
    },
    {
     "data": {
      "text/plain": [
       "['Jung', 'Turing', 'Einstein']"
      ]
     },
     "execution_count": 38,
     "metadata": {},
     "output_type": "execute_result"
    }
   ],
   "source": [
    "## Solution:\n",
    "\n",
    "inp = eval(input(\" Please enter the list of strings : \"))\n",
    "def srt_length(a):\n",
    "    c=1\n",
    "    l=[]\n",
    "    m=[]\n",
    "    for i in a:\n",
    "        l.append(len(i))\n",
    "    b = list(zip(a,l))\n",
    "    for j in b:\n",
    "        m.append(j[1])\n",
    "        m.sort()\n",
    "    return [o[0] for k in m for o in b if o[1]==k]\n",
    "srt_length(inp)"
   ]
  },
  {
   "cell_type": "markdown",
   "id": "35549449",
   "metadata": {},
   "source": [
    "### Q5: Create a function that validates whether three given integers form a Pythagorean triplet. The sum of the squares of the two smallest integers must equal the square of the largest number to be validated."
   ]
  },
  {
   "cell_type": "code",
   "execution_count": 42,
   "id": "6a12a0f5",
   "metadata": {},
   "outputs": [
    {
     "name": "stdout",
     "output_type": "stream",
     "text": [
      " Please enter the three numbers separated by comma : 3,2,1\n"
     ]
    },
    {
     "data": {
      "text/plain": [
       "False"
      ]
     },
     "execution_count": 42,
     "metadata": {},
     "output_type": "execute_result"
    }
   ],
   "source": [
    "## Solution:\n",
    "\n",
    "inp = eval(input(\" Please enter the three numbers separated by comma : \"))\n",
    "def triplet(a,b,c):\n",
    "    l = [a,b,c]\n",
    "    l.sort()\n",
    "    if l[-1]**2 == (l[0]**2)+ (l[1]**2):\n",
    "        return True\n",
    "    else:\n",
    "        return False\n",
    "triplet(inp[0],inp[1],inp[2])\n"
   ]
  },
  {
   "cell_type": "code",
   "execution_count": null,
   "id": "672fe9bb",
   "metadata": {},
   "outputs": [],
   "source": []
  }
 ],
 "metadata": {
  "kernelspec": {
   "display_name": "Python 3",
   "language": "python",
   "name": "python3"
  },
  "language_info": {
   "codemirror_mode": {
    "name": "ipython",
    "version": 3
   },
   "file_extension": ".py",
   "mimetype": "text/x-python",
   "name": "python",
   "nbconvert_exporter": "python",
   "pygments_lexer": "ipython3",
   "version": "3.8.8"
  }
 },
 "nbformat": 4,
 "nbformat_minor": 5
}
