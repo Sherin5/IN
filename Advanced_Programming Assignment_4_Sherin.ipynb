{
 "cells": [
  {
   "cell_type": "markdown",
   "id": "e90d5f41",
   "metadata": {},
   "source": [
    "### Q1: In mathematics, the Fibonacci numbers, commonly denoted Fn, form a sequence, called the Fibonacci sequence, such that each number is the sum of the two preceding ones, starting from 0 and 1:\n",
    "\n",
    "### The beginning of the sequence is this:\n",
    "0, 1, 1, 2, 3, 5, 8, 13, 21, 34, 55, 89, 144, ...\n",
    "The function fastFib(num) returns the fibonacci number Fn, of the given num\n",
    "as an argument."
   ]
  },
  {
   "cell_type": "code",
   "execution_count": 3,
   "id": "06f33901",
   "metadata": {},
   "outputs": [
    {
     "name": "stdout",
     "output_type": "stream",
     "text": [
      "Please enter the position of the fibonacci number you want to extract : 5\n"
     ]
    },
    {
     "data": {
      "text/plain": [
       "5"
      ]
     },
     "execution_count": 3,
     "metadata": {},
     "output_type": "execute_result"
    }
   ],
   "source": [
    "## Solution:\n",
    "\n",
    "inp = int(input('Please enter the position of the fibonacci number you want to extract : '))\n",
    "\n",
    "def fastfib(n):\n",
    "    \"\"\"\n",
    "    This function takes an integer as an input n and returns the n'th fibonacci number from the fibonacci sequence\n",
    "    \"\"\"\n",
    "    a = 0\n",
    "    b = 1\n",
    "    for i in range(inp+1):\n",
    "        yield a, b\n",
    "        a,b = b, a+b\n",
    "        \n",
    "list(fastfib(inp))[inp][0]\n",
    "    "
   ]
  },
  {
   "cell_type": "markdown",
   "id": "8acc8b27",
   "metadata": {},
   "source": [
    "### Q2: Create a function that takes a strings characters as ASCII and returns each characters hexadecimal value as a string."
   ]
  },
  {
   "cell_type": "code",
   "execution_count": 21,
   "id": "813aa765",
   "metadata": {},
   "outputs": [
    {
     "name": "stdout",
     "output_type": "stream",
     "text": [
      " Please enter the string you want to convert to hexadecimal values : 2345\n"
     ]
    },
    {
     "data": {
      "text/plain": [
       "'32 33 34 35 '"
      ]
     },
     "execution_count": 21,
     "metadata": {},
     "output_type": "execute_result"
    }
   ],
   "source": [
    "## Solution:\n",
    "\n",
    "inp = input(\" Please enter the string you want to convert to hexadecimal values : \")\n",
    "\n",
    "try:\n",
    "    def to_hex(x):\n",
    "        \"\"\"\n",
    "        This function takes in a string and converts it into a hexadecimal values. \n",
    "        \"\"\"\n",
    "        l = []\n",
    "        k = \"\"\n",
    "        for i in x:\n",
    "            l.append(hex(ord(i)))\n",
    "        for j in l:\n",
    "            k = k+j.replace(\"0x\", \"\")+ \" \"\n",
    "\n",
    "        return k\n",
    "    \n",
    "except:\n",
    "    print(\" This program only accepts a string. Please enter a string \")\n",
    "    \n",
    "to_hex(inp)"
   ]
  },
  {
   "cell_type": "markdown",
   "id": "214d2c37",
   "metadata": {},
   "source": [
    "### Q3: Someone has attempted to censor my strings by replacing every vowel with a *, l*k* th*s. Luckily, I&#39;ve been able to find the vowels that were removed.\n",
    "\n",
    "#### Given a censored string and a string of the censored vowels, return the original uncensored string."
   ]
  },
  {
   "cell_type": "code",
   "execution_count": 7,
   "id": "c80defcd",
   "metadata": {},
   "outputs": [
    {
     "name": "stdout",
     "output_type": "stream",
     "text": [
      " Please enter the string you want to followed by the vowels separated by a comma : *pp*rc*s*, ueae\n"
     ]
    },
    {
     "data": {
      "text/plain": [
       "'uppercase'"
      ]
     },
     "execution_count": 7,
     "metadata": {},
     "output_type": "execute_result"
    }
   ],
   "source": [
    "## Solution:\n",
    "\n",
    "\n",
    "inp = input(\" Please enter the string you want to followed by the vowels separated by a comma : \")\n",
    "\n",
    "def uncensor(x):\n",
    "    \"\"\"\n",
    "    This function takes in a string without vowels and then appends the string together to form a meaningful word. \n",
    "    \"\"\"\n",
    "    l = []\n",
    "    l.append(x.split(','))\n",
    "    l = l[0]\n",
    "    k=''\n",
    "    cnt = 1\n",
    "    for i in l[0]:\n",
    "        if i==\"*\":\n",
    "            k=k+l[1][cnt]\n",
    "            cnt+=1\n",
    "        else:\n",
    "            k=k+i\n",
    "    return k\n",
    "\n",
    "uncensor(inp)"
   ]
  },
  {
   "cell_type": "markdown",
   "id": "d01a5e7a",
   "metadata": {},
   "source": [
    "### Q4: Write a function that takes an IP address and returns the domain name using PTR DNS records."
   ]
  },
  {
   "cell_type": "code",
   "execution_count": 13,
   "id": "9ec30682",
   "metadata": {},
   "outputs": [
    {
     "name": "stdout",
     "output_type": "stream",
     "text": [
      " Please enter the IP address for you want to return the domain name: 8.8.4.4\n"
     ]
    },
    {
     "data": {
      "text/plain": [
       "'dns.google'"
      ]
     },
     "execution_count": 13,
     "metadata": {},
     "output_type": "execute_result"
    }
   ],
   "source": [
    "## Solution:\n",
    "\n",
    "inp = input(\" Please enter the IP address for you want to return the domain name: \")\n",
    "\n",
    "def host_name(x):\n",
    "    \"\"\"\n",
    "    This function takes in an IP address and returns the host name.\n",
    "    \"\"\"\n",
    "    import socket\n",
    "    result = socket.gethostbyaddr(x)\n",
    "    return result[0]\n",
    "\n",
    "host_name(inp)\n"
   ]
  },
  {
   "cell_type": "markdown",
   "id": "dfca1129",
   "metadata": {},
   "source": [
    "### Q5: Create a function that takes an integer n and returns the factorial of factorials. See below examples for a better understanding:"
   ]
  },
  {
   "cell_type": "code",
   "execution_count": 19,
   "id": "86fd4d6b",
   "metadata": {},
   "outputs": [
    {
     "name": "stdout",
     "output_type": "stream",
     "text": [
      " Please enter an integer to calculate the factorial of factorials: 6\n"
     ]
    },
    {
     "data": {
      "text/plain": [
       "24883200"
      ]
     },
     "execution_count": 19,
     "metadata": {},
     "output_type": "execute_result"
    }
   ],
   "source": [
    "## Solution:\n",
    "\n",
    "inp = int(input(\" Please enter an integer to calculate the factorial of factorials: \"))\n",
    "\n",
    "try:\n",
    "    def fact_of_facts(x):\n",
    "        \"\"\"\n",
    "        This function takes in an integer and then calculates the factorial of factorials\n",
    "        \"\"\"\n",
    "        fact = 1\n",
    "        for i in range(x, 0, -1):\n",
    "            for j in range(i, 0, -1):\n",
    "                fact= fact*j\n",
    "                \n",
    "        return fact\n",
    "    \n",
    "except:\n",
    "    print(\" Please enter a valid integer \")\n",
    "    \n",
    "fact_of_facts(inp)\n",
    "            \n",
    "    "
   ]
  }
 ],
 "metadata": {
  "kernelspec": {
   "display_name": "Python 3 (ipykernel)",
   "language": "python",
   "name": "python3"
  },
  "language_info": {
   "codemirror_mode": {
    "name": "ipython",
    "version": 3
   },
   "file_extension": ".py",
   "mimetype": "text/x-python",
   "name": "python",
   "nbconvert_exporter": "python",
   "pygments_lexer": "ipython3",
   "version": "3.8.8"
  }
 },
 "nbformat": 4,
 "nbformat_minor": 5
}
