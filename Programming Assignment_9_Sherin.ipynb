{
 "cells": [
  {
   "cell_type": "markdown",
   "id": "006fe898",
   "metadata": {},
   "source": [
    "## Q1: Write a Python program to check if the given number is a Disarium Number?"
   ]
  },
  {
   "cell_type": "code",
   "execution_count": 4,
   "id": "cae94546",
   "metadata": {},
   "outputs": [
    {
     "name": "stdout",
     "output_type": "stream",
     "text": [
      " Please enter the number to check if its a disarium number : 135\n"
     ]
    },
    {
     "data": {
      "text/plain": [
       "True"
      ]
     },
     "execution_count": 4,
     "metadata": {},
     "output_type": "execute_result"
    }
   ],
   "source": [
    "## Solution:\n",
    "\n",
    "inp = input(\" Please enter the number to check if its a disarium number : \")\n",
    "\n",
    "def disarium(a):\n",
    "    l=0\n",
    "    b=1\n",
    "    for i in a:\n",
    "        l+=int(i)**b\n",
    "        b+=1\n",
    "    if l== int(a):\n",
    "        return True\n",
    "    else:\n",
    "        return False\n",
    "disarium(inp)"
   ]
  },
  {
   "cell_type": "markdown",
   "id": "848ce462",
   "metadata": {},
   "source": [
    "### Q2: Write a Python program to print all disarium numbers between 1 to 100?"
   ]
  },
  {
   "cell_type": "code",
   "execution_count": 16,
   "id": "8462a2a8",
   "metadata": {},
   "outputs": [
    {
     "data": {
      "text/plain": [
       "[1, 2, 3, 4, 5, 6, 7, 8, 9, 89]"
      ]
     },
     "execution_count": 16,
     "metadata": {},
     "output_type": "execute_result"
    }
   ],
   "source": [
    "## Solution:\n",
    "\n",
    "def disarium():\n",
    "    m=[]\n",
    "    for j in range(1,101):\n",
    "        l=0\n",
    "        b=1\n",
    "        for i in str(j):\n",
    "            l+=int(i)**b\n",
    "            b+=1\n",
    "        if l== j:\n",
    "            m.append(j)\n",
    "    return m\n",
    "disarium()"
   ]
  },
  {
   "cell_type": "markdown",
   "id": "d0b02b92",
   "metadata": {},
   "source": [
    "### Q3: Write a Python program to check if the given number is Happy Number?"
   ]
  },
  {
   "cell_type": "code",
   "execution_count": 5,
   "id": "dadc1a1b",
   "metadata": {},
   "outputs": [
    {
     "name": "stdout",
     "output_type": "stream",
     "text": [
      " Please enter the number to check if it's a happy number : 19\n"
     ]
    },
    {
     "data": {
      "text/plain": [
       "True"
      ]
     },
     "execution_count": 5,
     "metadata": {},
     "output_type": "execute_result"
    }
   ],
   "source": [
    "## Solution:\n",
    "\n",
    "inp = input(\" Please enter the number to check if it's a happy number : \")\n",
    "\n",
    "def happy(a):\n",
    "    while int(a)>0:\n",
    "        c=0\n",
    "        for i in a:\n",
    "            c+=int(i)**2\n",
    "        if c==1:\n",
    "            return True\n",
    "        elif c==4:\n",
    "            return False\n",
    "        else:\n",
    "            a=str(c)\n",
    "happy(inp)"
   ]
  },
  {
   "cell_type": "markdown",
   "id": "f69b5893",
   "metadata": {},
   "source": [
    "### Q4: Write a Python program to print all happy numbers between 1 and 100?"
   ]
  },
  {
   "cell_type": "code",
   "execution_count": 3,
   "id": "ec8cefd7",
   "metadata": {},
   "outputs": [
    {
     "data": {
      "text/plain": [
       "[1, 7, 10, 13, 19, 23, 28, 31, 32, 44, 49, 68, 70, 79, 82, 86, 91, 94, 97, 100]"
      ]
     },
     "execution_count": 3,
     "metadata": {},
     "output_type": "execute_result"
    }
   ],
   "source": [
    "## Solution:\n",
    "\n",
    "def happy():\n",
    "    l=[]\n",
    "    for j in range(1, 101):\n",
    "        a=str(j)\n",
    "        while int(a)>0:\n",
    "            c=0\n",
    "            for i in str(a):\n",
    "                c+=int(i)**2\n",
    "            if c==1:\n",
    "                l.append(j)\n",
    "                break\n",
    "            elif c==4:\n",
    "                break\n",
    "            else:\n",
    "                a=str(c)\n",
    "    return l\n",
    "happy()"
   ]
  },
  {
   "cell_type": "markdown",
   "id": "63b96951",
   "metadata": {},
   "source": [
    "### Q5: Write a Python program to determine whether the given number is a Harshad Number?"
   ]
  },
  {
   "cell_type": "code",
   "execution_count": 11,
   "id": "a454328c",
   "metadata": {},
   "outputs": [
    {
     "name": "stdout",
     "output_type": "stream",
     "text": [
      "Please enter the number to check if its a harshad number : 20\n"
     ]
    },
    {
     "data": {
      "text/plain": [
       "True"
      ]
     },
     "execution_count": 11,
     "metadata": {},
     "output_type": "execute_result"
    }
   ],
   "source": [
    "## Solution:\n",
    "\n",
    "inp = input(\"Please enter the number to check if its a harshad number : \")\n",
    "def harshad(a):\n",
    "    c=0\n",
    "    for i in a:\n",
    "        c+=int(i)\n",
    "    if int(a)%c==0:\n",
    "        return True\n",
    "    else:\n",
    "        return False\n",
    "harshad(inp)"
   ]
  },
  {
   "cell_type": "markdown",
   "id": "5fadc3b3",
   "metadata": {},
   "source": [
    "### Q6: Write a Python program to print all pronic numbers between 1 and 100?"
   ]
  },
  {
   "cell_type": "code",
   "execution_count": 16,
   "id": "31ae8deb",
   "metadata": {},
   "outputs": [
    {
     "data": {
      "text/plain": [
       "[0, 2, 6, 12, 20, 30, 42, 56, 72, 90]"
      ]
     },
     "execution_count": 16,
     "metadata": {},
     "output_type": "execute_result"
    }
   ],
   "source": [
    "## Solution\n",
    "\n",
    "def pronic():\n",
    "    l=[]\n",
    "    for i in range(1,20):\n",
    "        c=0\n",
    "        c+=i*(i-1)\n",
    "        if c<=100:\n",
    "            l.append(c)\n",
    "    return l\n",
    "pronic()"
   ]
  }
 ],
 "metadata": {
  "kernelspec": {
   "display_name": "Python 3",
   "language": "python",
   "name": "python3"
  },
  "language_info": {
   "codemirror_mode": {
    "name": "ipython",
    "version": 3
   },
   "file_extension": ".py",
   "mimetype": "text/x-python",
   "name": "python",
   "nbconvert_exporter": "python",
   "pygments_lexer": "ipython3",
   "version": "3.8.8"
  }
 },
 "nbformat": 4,
 "nbformat_minor": 5
}
